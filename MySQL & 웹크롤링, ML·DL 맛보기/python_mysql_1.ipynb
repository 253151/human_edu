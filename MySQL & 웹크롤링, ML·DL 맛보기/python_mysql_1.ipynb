{
 "cells": [
  {
   "cell_type": "code",
   "execution_count": 12,
   "id": "6b69e9eb",
   "metadata": {},
   "outputs": [
    {
     "name": "stdout",
     "output_type": "stream",
     "text": [
      "Requirement already satisfied: mysqlclient in c:\\users\\h\\desktop\\my_sql\\venv\\lib\\site-packages (2.1.1)\n"
     ]
    }
   ],
   "source": [
    "!pip install mysqlclient"
   ]
  },
  {
   "cell_type": "code",
   "execution_count": 13,
   "id": "c5ef9e5c",
   "metadata": {},
   "outputs": [],
   "source": [
    "import MySQLdb as sqldb"
   ]
  },
  {
   "cell_type": "code",
   "execution_count": 16,
   "id": "66446829",
   "metadata": {},
   "outputs": [
    {
     "ename": "ModuleNotFoundError",
     "evalue": "No module named 'pandas'",
     "output_type": "error",
     "traceback": [
      "\u001b[1;31m---------------------------------------------------------------------------\u001b[0m",
      "\u001b[1;31mModuleNotFoundError\u001b[0m                       Traceback (most recent call last)",
      "Cell \u001b[1;32mIn[16], line 1\u001b[0m\n\u001b[1;32m----> 1\u001b[0m \u001b[38;5;28;01mimport\u001b[39;00m \u001b[38;5;21;01mpandas\u001b[39;00m \u001b[38;5;28;01mas\u001b[39;00m \u001b[38;5;21;01mpd\u001b[39;00m\n\u001b[0;32m      2\u001b[0m \u001b[38;5;28;01mimport\u001b[39;00m \u001b[38;5;21;01mnumpy\u001b[39;00m \u001b[38;5;28;01mas\u001b[39;00m \u001b[38;5;21;01mnp\u001b[39;00m\n",
      "\u001b[1;31mModuleNotFoundError\u001b[0m: No module named 'pandas'"
     ]
    }
   ],
   "source": [
    "import pandas as pd\n",
    "import numpy as np"
   ]
  },
  {
   "cell_type": "code",
   "execution_count": 17,
   "id": "9675a511",
   "metadata": {},
   "outputs": [],
   "source": [
    "db = sqldb.connect(host='localhost', port=3306, user='root', passwd='1234', charset='utf8')"
   ]
  },
  {
   "cell_type": "code",
   "execution_count": 18,
   "id": "706e435d",
   "metadata": {},
   "outputs": [],
   "source": [
    "cursor = db.cursor()"
   ]
  },
  {
   "cell_type": "code",
   "execution_count": 19,
   "id": "a83ffb44",
   "metadata": {},
   "outputs": [
    {
     "data": {
      "text/plain": [
       "(('information_schema',),\n",
       " ('employees',),\n",
       " ('mysql',),\n",
       " ('performance_schema',),\n",
       " ('sakila',),\n",
       " ('shopdb',),\n",
       " ('sqldb',),\n",
       " ('sys',),\n",
       " ('testdb',),\n",
       " ('world',))"
      ]
     },
     "execution_count": 19,
     "metadata": {},
     "output_type": "execute_result"
    }
   ],
   "source": [
    "sql = 'show databases;'\n",
    "\n",
    "cursor.execute(sql)\n",
    "cursor.fetchall()"
   ]
  },
  {
   "cell_type": "code",
   "execution_count": null,
   "id": "6aeb47ce",
   "metadata": {},
   "outputs": [],
   "source": []
  },
  {
   "cell_type": "code",
   "execution_count": 20,
   "id": "22951737",
   "metadata": {},
   "outputs": [
    {
     "data": {
      "text/plain": [
       "0"
      ]
     },
     "execution_count": 20,
     "metadata": {},
     "output_type": "execute_result"
    }
   ],
   "source": [
    "sql = \"\"\"\n",
    "drop database if exists testdb;\n",
    "create database testdb;\n",
    "\"\"\"\n",
    "\n",
    "cursor.execute(sql)"
   ]
  },
  {
   "cell_type": "code",
   "execution_count": 21,
   "id": "5e23282f",
   "metadata": {},
   "outputs": [
    {
     "data": {
      "text/plain": [
       "10"
      ]
     },
     "execution_count": 21,
     "metadata": {},
     "output_type": "execute_result"
    }
   ],
   "source": [
    "sql = 'show databases;'\n",
    "\n",
    "cursor.execute(sql)"
   ]
  },
  {
   "cell_type": "code",
   "execution_count": 22,
   "id": "0d20bb3a",
   "metadata": {},
   "outputs": [
    {
     "data": {
      "text/plain": [
       "(('information_schema',),\n",
       " ('employees',),\n",
       " ('mysql',),\n",
       " ('performance_schema',),\n",
       " ('sakila',),\n",
       " ('shopdb',),\n",
       " ('sqldb',),\n",
       " ('sys',),\n",
       " ('testdb',),\n",
       " ('world',))"
      ]
     },
     "execution_count": 22,
     "metadata": {},
     "output_type": "execute_result"
    }
   ],
   "source": [
    "cursor.fetchall()"
   ]
  },
  {
   "cell_type": "code",
   "execution_count": 23,
   "id": "465ecea7",
   "metadata": {},
   "outputs": [
    {
     "data": {
      "text/plain": [
       "0"
      ]
     },
     "execution_count": 23,
     "metadata": {},
     "output_type": "execute_result"
    }
   ],
   "source": [
    "sql = 'use testdb;'\n",
    "cursor.execute(sql)\n"
   ]
  },
  {
   "cell_type": "code",
   "execution_count": 24,
   "id": "98ca934c",
   "metadata": {},
   "outputs": [],
   "source": [
    "sql = \"\"\"\n",
    "create table my table(\n",
    "    no int not null auto_increment\n",
    "    name char(20) not null,\n",
    "    age tinyint,\n",
    "    phone varchar(20),\n",
    "    email varchar(30) not null, \n",
    "    address varchar(50),\n",
    "    primary key(no)\n",
    ")\n",
    "\"\"\"\n",
    "\n",
    "#cursor.execute(sql)"
   ]
  },
  {
   "cell_type": "code",
   "execution_count": 25,
   "id": "e542dff1",
   "metadata": {},
   "outputs": [
    {
     "data": {
      "text/plain": [
       "0"
      ]
     },
     "execution_count": 25,
     "metadata": {},
     "output_type": "execute_result"
    }
   ],
   "source": [
    "sql = 'show tables;'\n",
    "cursor.execute(sql)\n"
   ]
  },
  {
   "cell_type": "code",
   "execution_count": 26,
   "id": "d7bf1841",
   "metadata": {},
   "outputs": [
    {
     "data": {
      "text/plain": [
       "()"
      ]
     },
     "execution_count": 26,
     "metadata": {},
     "output_type": "execute_result"
    }
   ],
   "source": [
    "cursor.fetchall()"
   ]
  },
  {
   "cell_type": "code",
   "execution_count": null,
   "id": "fd2fd36a",
   "metadata": {},
   "outputs": [],
   "source": []
  },
  {
   "cell_type": "code",
   "execution_count": 27,
   "id": "6950cebf",
   "metadata": {},
   "outputs": [
    {
     "data": {
      "text/plain": [
       "0"
      ]
     },
     "execution_count": 27,
     "metadata": {},
     "output_type": "execute_result"
    }
   ],
   "source": [
    "sql = 'use sakila'\n",
    "cursor.execute(sql)"
   ]
  },
  {
   "cell_type": "code",
   "execution_count": 28,
   "id": "193b5453",
   "metadata": {},
   "outputs": [
    {
     "ename": "NameError",
     "evalue": "name 'pd' is not defined",
     "output_type": "error",
     "traceback": [
      "\u001b[1;31m---------------------------------------------------------------------------\u001b[0m",
      "\u001b[1;31mNameError\u001b[0m                                 Traceback (most recent call last)",
      "Cell \u001b[1;32mIn[28], line 1\u001b[0m\n\u001b[1;32m----> 1\u001b[0m df \u001b[38;5;241m=\u001b[39m \u001b[43mpd\u001b[49m\u001b[38;5;241m.\u001b[39mread_sql(\u001b[38;5;124m'\u001b[39m\u001b[38;5;124mselect * from customer\u001b[39m\u001b[38;5;124m'\u001b[39m, db)\n\u001b[0;32m      2\u001b[0m df\u001b[38;5;241m.\u001b[39mhead()\n",
      "\u001b[1;31mNameError\u001b[0m: name 'pd' is not defined"
     ]
    }
   ],
   "source": [
    "df = pd.read_sql('select * from customer', db)\n",
    "df.head()"
   ]
  },
  {
   "cell_type": "code",
   "execution_count": 84,
   "id": "b22300c2",
   "metadata": {},
   "outputs": [],
   "source": [
    "df.to_csv('cust.csv')"
   ]
  },
  {
   "cell_type": "code",
   "execution_count": null,
   "id": "25da3e2d",
   "metadata": {},
   "outputs": [],
   "source": []
  },
  {
   "cell_type": "code",
   "execution_count": 87,
   "id": "d1b4721b",
   "metadata": {},
   "outputs": [
    {
     "name": "stderr",
     "output_type": "stream",
     "text": [
      "C:\\Users\\h\\AppData\\Local\\Temp\\ipykernel_16748\\3283205452.py:1: UserWarning: pandas only supports SQLAlchemy connectable (engine/connection) or database string URI or sqlite3 DBAPI2 connection. Other DBAPI2 objects are not tested. Please consider using SQLAlchemy.\n",
      "  df_table = pd.read_sql('show tables;',db)\n"
     ]
    }
   ],
   "source": [
    "df_table = pd.read_sql('show tables;',db)"
   ]
  },
  {
   "cell_type": "code",
   "execution_count": null,
   "id": "9483c658",
   "metadata": {},
   "outputs": [],
   "source": []
  },
  {
   "cell_type": "code",
   "execution_count": 92,
   "id": "4fc969b1",
   "metadata": {},
   "outputs": [],
   "source": [
    "def save_to_csv(table_name):\n",
    "    table_df = pd.read_sql('select * from {}'.format(table_name), db)\n",
    "    table_df.to_csv('{}.csv'.format(table_name))"
   ]
  },
  {
   "cell_type": "code",
   "execution_count": 94,
   "id": "f2ea1bc9",
   "metadata": {},
   "outputs": [
    {
     "name": "stderr",
     "output_type": "stream",
     "text": [
      "C:\\Users\\h\\AppData\\Local\\Temp\\ipykernel_16748\\1465791357.py:2: UserWarning: pandas only supports SQLAlchemy connectable (engine/connection) or database string URI or sqlite3 DBAPI2 connection. Other DBAPI2 objects are not tested. Please consider using SQLAlchemy.\n",
      "  table_df = pd.read_sql('select * from {}'.format(table_name), db)\n"
     ]
    }
   ],
   "source": [
    "save_to_csv('film')"
   ]
  },
  {
   "cell_type": "code",
   "execution_count": null,
   "id": "d03bad45",
   "metadata": {},
   "outputs": [],
   "source": []
  },
  {
   "cell_type": "code",
   "execution_count": 97,
   "id": "30b5122a",
   "metadata": {},
   "outputs": [
    {
     "name": "stderr",
     "output_type": "stream",
     "text": [
      "C:\\Users\\h\\AppData\\Local\\Temp\\ipykernel_16748\\1465791357.py:2: UserWarning: pandas only supports SQLAlchemy connectable (engine/connection) or database string URI or sqlite3 DBAPI2 connection. Other DBAPI2 objects are not tested. Please consider using SQLAlchemy.\n",
      "  table_df = pd.read_sql('select * from {}'.format(table_name), db)\n",
      "C:\\Users\\h\\AppData\\Local\\Temp\\ipykernel_16748\\1465791357.py:2: UserWarning: pandas only supports SQLAlchemy connectable (engine/connection) or database string URI or sqlite3 DBAPI2 connection. Other DBAPI2 objects are not tested. Please consider using SQLAlchemy.\n",
      "  table_df = pd.read_sql('select * from {}'.format(table_name), db)\n",
      "C:\\Users\\h\\AppData\\Local\\Temp\\ipykernel_16748\\1465791357.py:2: UserWarning: pandas only supports SQLAlchemy connectable (engine/connection) or database string URI or sqlite3 DBAPI2 connection. Other DBAPI2 objects are not tested. Please consider using SQLAlchemy.\n",
      "  table_df = pd.read_sql('select * from {}'.format(table_name), db)\n",
      "C:\\Users\\h\\AppData\\Local\\Temp\\ipykernel_16748\\1465791357.py:2: UserWarning: pandas only supports SQLAlchemy connectable (engine/connection) or database string URI or sqlite3 DBAPI2 connection. Other DBAPI2 objects are not tested. Please consider using SQLAlchemy.\n",
      "  table_df = pd.read_sql('select * from {}'.format(table_name), db)\n",
      "C:\\Users\\h\\AppData\\Local\\Temp\\ipykernel_16748\\1465791357.py:2: UserWarning: pandas only supports SQLAlchemy connectable (engine/connection) or database string URI or sqlite3 DBAPI2 connection. Other DBAPI2 objects are not tested. Please consider using SQLAlchemy.\n",
      "  table_df = pd.read_sql('select * from {}'.format(table_name), db)\n",
      "C:\\Users\\h\\AppData\\Local\\Temp\\ipykernel_16748\\1465791357.py:2: UserWarning: pandas only supports SQLAlchemy connectable (engine/connection) or database string URI or sqlite3 DBAPI2 connection. Other DBAPI2 objects are not tested. Please consider using SQLAlchemy.\n",
      "  table_df = pd.read_sql('select * from {}'.format(table_name), db)\n",
      "C:\\Users\\h\\AppData\\Local\\Temp\\ipykernel_16748\\1465791357.py:2: UserWarning: pandas only supports SQLAlchemy connectable (engine/connection) or database string URI or sqlite3 DBAPI2 connection. Other DBAPI2 objects are not tested. Please consider using SQLAlchemy.\n",
      "  table_df = pd.read_sql('select * from {}'.format(table_name), db)\n",
      "C:\\Users\\h\\AppData\\Local\\Temp\\ipykernel_16748\\1465791357.py:2: UserWarning: pandas only supports SQLAlchemy connectable (engine/connection) or database string URI or sqlite3 DBAPI2 connection. Other DBAPI2 objects are not tested. Please consider using SQLAlchemy.\n",
      "  table_df = pd.read_sql('select * from {}'.format(table_name), db)\n",
      "C:\\Users\\h\\AppData\\Local\\Temp\\ipykernel_16748\\1465791357.py:2: UserWarning: pandas only supports SQLAlchemy connectable (engine/connection) or database string URI or sqlite3 DBAPI2 connection. Other DBAPI2 objects are not tested. Please consider using SQLAlchemy.\n",
      "  table_df = pd.read_sql('select * from {}'.format(table_name), db)\n",
      "C:\\Users\\h\\AppData\\Local\\Temp\\ipykernel_16748\\1465791357.py:2: UserWarning: pandas only supports SQLAlchemy connectable (engine/connection) or database string URI or sqlite3 DBAPI2 connection. Other DBAPI2 objects are not tested. Please consider using SQLAlchemy.\n",
      "  table_df = pd.read_sql('select * from {}'.format(table_name), db)\n",
      "C:\\Users\\h\\AppData\\Local\\Temp\\ipykernel_16748\\1465791357.py:2: UserWarning: pandas only supports SQLAlchemy connectable (engine/connection) or database string URI or sqlite3 DBAPI2 connection. Other DBAPI2 objects are not tested. Please consider using SQLAlchemy.\n",
      "  table_df = pd.read_sql('select * from {}'.format(table_name), db)\n",
      "C:\\Users\\h\\AppData\\Local\\Temp\\ipykernel_16748\\1465791357.py:2: UserWarning: pandas only supports SQLAlchemy connectable (engine/connection) or database string URI or sqlite3 DBAPI2 connection. Other DBAPI2 objects are not tested. Please consider using SQLAlchemy.\n",
      "  table_df = pd.read_sql('select * from {}'.format(table_name), db)\n",
      "C:\\Users\\h\\AppData\\Local\\Temp\\ipykernel_16748\\1465791357.py:2: UserWarning: pandas only supports SQLAlchemy connectable (engine/connection) or database string URI or sqlite3 DBAPI2 connection. Other DBAPI2 objects are not tested. Please consider using SQLAlchemy.\n",
      "  table_df = pd.read_sql('select * from {}'.format(table_name), db)\n",
      "C:\\Users\\h\\AppData\\Local\\Temp\\ipykernel_16748\\1465791357.py:2: UserWarning: pandas only supports SQLAlchemy connectable (engine/connection) or database string URI or sqlite3 DBAPI2 connection. Other DBAPI2 objects are not tested. Please consider using SQLAlchemy.\n",
      "  table_df = pd.read_sql('select * from {}'.format(table_name), db)\n",
      "C:\\Users\\h\\AppData\\Local\\Temp\\ipykernel_16748\\1465791357.py:2: UserWarning: pandas only supports SQLAlchemy connectable (engine/connection) or database string URI or sqlite3 DBAPI2 connection. Other DBAPI2 objects are not tested. Please consider using SQLAlchemy.\n",
      "  table_df = pd.read_sql('select * from {}'.format(table_name), db)\n",
      "C:\\Users\\h\\AppData\\Local\\Temp\\ipykernel_16748\\1465791357.py:2: UserWarning: pandas only supports SQLAlchemy connectable (engine/connection) or database string URI or sqlite3 DBAPI2 connection. Other DBAPI2 objects are not tested. Please consider using SQLAlchemy.\n",
      "  table_df = pd.read_sql('select * from {}'.format(table_name), db)\n",
      "C:\\Users\\h\\AppData\\Local\\Temp\\ipykernel_16748\\1465791357.py:2: UserWarning: pandas only supports SQLAlchemy connectable (engine/connection) or database string URI or sqlite3 DBAPI2 connection. Other DBAPI2 objects are not tested. Please consider using SQLAlchemy.\n",
      "  table_df = pd.read_sql('select * from {}'.format(table_name), db)\n",
      "C:\\Users\\h\\AppData\\Local\\Temp\\ipykernel_16748\\1465791357.py:2: UserWarning: pandas only supports SQLAlchemy connectable (engine/connection) or database string URI or sqlite3 DBAPI2 connection. Other DBAPI2 objects are not tested. Please consider using SQLAlchemy.\n",
      "  table_df = pd.read_sql('select * from {}'.format(table_name), db)\n",
      "C:\\Users\\h\\AppData\\Local\\Temp\\ipykernel_16748\\1465791357.py:2: UserWarning: pandas only supports SQLAlchemy connectable (engine/connection) or database string URI or sqlite3 DBAPI2 connection. Other DBAPI2 objects are not tested. Please consider using SQLAlchemy.\n",
      "  table_df = pd.read_sql('select * from {}'.format(table_name), db)\n",
      "C:\\Users\\h\\AppData\\Local\\Temp\\ipykernel_16748\\1465791357.py:2: UserWarning: pandas only supports SQLAlchemy connectable (engine/connection) or database string URI or sqlite3 DBAPI2 connection. Other DBAPI2 objects are not tested. Please consider using SQLAlchemy.\n",
      "  table_df = pd.read_sql('select * from {}'.format(table_name), db)\n",
      "C:\\Users\\h\\AppData\\Local\\Temp\\ipykernel_16748\\1465791357.py:2: UserWarning: pandas only supports SQLAlchemy connectable (engine/connection) or database string URI or sqlite3 DBAPI2 connection. Other DBAPI2 objects are not tested. Please consider using SQLAlchemy.\n",
      "  table_df = pd.read_sql('select * from {}'.format(table_name), db)\n",
      "C:\\Users\\h\\AppData\\Local\\Temp\\ipykernel_16748\\1465791357.py:2: UserWarning: pandas only supports SQLAlchemy connectable (engine/connection) or database string URI or sqlite3 DBAPI2 connection. Other DBAPI2 objects are not tested. Please consider using SQLAlchemy.\n",
      "  table_df = pd.read_sql('select * from {}'.format(table_name), db)\n",
      "C:\\Users\\h\\AppData\\Local\\Temp\\ipykernel_16748\\1465791357.py:2: UserWarning: pandas only supports SQLAlchemy connectable (engine/connection) or database string URI or sqlite3 DBAPI2 connection. Other DBAPI2 objects are not tested. Please consider using SQLAlchemy.\n",
      "  table_df = pd.read_sql('select * from {}'.format(table_name), db)\n"
     ]
    },
    {
     "data": {
      "text/plain": [
       "0     None\n",
       "1     None\n",
       "2     None\n",
       "3     None\n",
       "4     None\n",
       "5     None\n",
       "6     None\n",
       "7     None\n",
       "8     None\n",
       "9     None\n",
       "10    None\n",
       "11    None\n",
       "12    None\n",
       "13    None\n",
       "14    None\n",
       "15    None\n",
       "16    None\n",
       "17    None\n",
       "18    None\n",
       "19    None\n",
       "20    None\n",
       "21    None\n",
       "22    None\n",
       "Name: Tables_in_sakila, dtype: object"
      ]
     },
     "execution_count": 97,
     "metadata": {},
     "output_type": "execute_result"
    }
   ],
   "source": [
    "df_table['Tables_in_sakila'].apply(save_to_csv)"
   ]
  },
  {
   "cell_type": "code",
   "execution_count": 99,
   "id": "293e052e",
   "metadata": {},
   "outputs": [
    {
     "data": {
      "text/html": [
       "<div>\n",
       "<style scoped>\n",
       "    .dataframe tbody tr th:only-of-type {\n",
       "        vertical-align: middle;\n",
       "    }\n",
       "\n",
       "    .dataframe tbody tr th {\n",
       "        vertical-align: top;\n",
       "    }\n",
       "\n",
       "    .dataframe thead th {\n",
       "        text-align: right;\n",
       "    }\n",
       "</style>\n",
       "<table border=\"1\" class=\"dataframe\">\n",
       "  <thead>\n",
       "    <tr style=\"text-align: right;\">\n",
       "      <th></th>\n",
       "      <th>Unnamed: 0</th>\n",
       "      <th>city_id</th>\n",
       "      <th>city</th>\n",
       "      <th>country_id</th>\n",
       "      <th>last_update</th>\n",
       "    </tr>\n",
       "  </thead>\n",
       "  <tbody>\n",
       "    <tr>\n",
       "      <th>0</th>\n",
       "      <td>0</td>\n",
       "      <td>1</td>\n",
       "      <td>A Corua (La Corua)</td>\n",
       "      <td>87</td>\n",
       "      <td>2006-02-15 04:45:25</td>\n",
       "    </tr>\n",
       "    <tr>\n",
       "      <th>1</th>\n",
       "      <td>1</td>\n",
       "      <td>2</td>\n",
       "      <td>Abha</td>\n",
       "      <td>82</td>\n",
       "      <td>2006-02-15 04:45:25</td>\n",
       "    </tr>\n",
       "    <tr>\n",
       "      <th>2</th>\n",
       "      <td>2</td>\n",
       "      <td>3</td>\n",
       "      <td>Abu Dhabi</td>\n",
       "      <td>101</td>\n",
       "      <td>2006-02-15 04:45:25</td>\n",
       "    </tr>\n",
       "    <tr>\n",
       "      <th>3</th>\n",
       "      <td>3</td>\n",
       "      <td>4</td>\n",
       "      <td>Acua</td>\n",
       "      <td>60</td>\n",
       "      <td>2006-02-15 04:45:25</td>\n",
       "    </tr>\n",
       "    <tr>\n",
       "      <th>4</th>\n",
       "      <td>4</td>\n",
       "      <td>5</td>\n",
       "      <td>Adana</td>\n",
       "      <td>97</td>\n",
       "      <td>2006-02-15 04:45:25</td>\n",
       "    </tr>\n",
       "  </tbody>\n",
       "</table>\n",
       "</div>"
      ],
      "text/plain": [
       "   Unnamed: 0  city_id                city  country_id          last_update\n",
       "0           0        1  A Corua (La Corua)          87  2006-02-15 04:45:25\n",
       "1           1        2                Abha          82  2006-02-15 04:45:25\n",
       "2           2        3           Abu Dhabi         101  2006-02-15 04:45:25\n",
       "3           3        4                Acua          60  2006-02-15 04:45:25\n",
       "4           4        5               Adana          97  2006-02-15 04:45:25"
      ]
     },
     "execution_count": 99,
     "metadata": {},
     "output_type": "execute_result"
    }
   ],
   "source": [
    "df_temp = pd.read_csv('sakila_tables/city.csv')\n",
    "df_temp.head()"
   ]
  },
  {
   "cell_type": "code",
   "execution_count": 101,
   "id": "ec102261",
   "metadata": {},
   "outputs": [
    {
     "data": {
      "text/plain": [
       "0      2006\n",
       "1      2006\n",
       "2      2006\n",
       "3      2006\n",
       "4      2006\n",
       "       ... \n",
       "595    2006\n",
       "596    2006\n",
       "597    2006\n",
       "598    2006\n",
       "599    2006\n",
       "Name: last_update, Length: 600, dtype: object"
      ]
     },
     "execution_count": 101,
     "metadata": {},
     "output_type": "execute_result"
    }
   ],
   "source": [
    "df_temp['last_update'].apply(lambda x : x.split('-')[0])"
   ]
  },
  {
   "cell_type": "code",
   "execution_count": null,
   "id": "eb5a1a50",
   "metadata": {},
   "outputs": [],
   "source": []
  },
  {
   "cell_type": "code",
   "execution_count": 103,
   "id": "cb79cc89",
   "metadata": {},
   "outputs": [
    {
     "data": {
      "text/plain": [
       "(('information_schema',),\n",
       " ('employees',),\n",
       " ('mysql',),\n",
       " ('performance_schema',),\n",
       " ('sakila',),\n",
       " ('shopdb',),\n",
       " ('sqldb',),\n",
       " ('sys',),\n",
       " ('testdb',),\n",
       " ('world',))"
      ]
     },
     "execution_count": 103,
     "metadata": {},
     "output_type": "execute_result"
    }
   ],
   "source": [
    "sql = 'show databases;'\n",
    "\n",
    "cursor.execute(sql)\n",
    "cursor.fetchall()"
   ]
  },
  {
   "cell_type": "code",
   "execution_count": null,
   "id": "1565c862",
   "metadata": {},
   "outputs": [],
   "source": []
  },
  {
   "cell_type": "code",
   "execution_count": 104,
   "id": "77d371db",
   "metadata": {},
   "outputs": [
    {
     "data": {
      "text/plain": [
       "0"
      ]
     },
     "execution_count": 104,
     "metadata": {},
     "output_type": "execute_result"
    }
   ],
   "source": [
    "sql = 'use world;'\n",
    "cursor.execute(sql)"
   ]
  },
  {
   "cell_type": "code",
   "execution_count": null,
   "id": "1cb93b6d",
   "metadata": {},
   "outputs": [],
   "source": []
  },
  {
   "cell_type": "code",
   "execution_count": 106,
   "id": "550de999",
   "metadata": {},
   "outputs": [
    {
     "name": "stderr",
     "output_type": "stream",
     "text": [
      "C:\\Users\\h\\AppData\\Local\\Temp\\ipykernel_16748\\1930542043.py:1: UserWarning: pandas only supports SQLAlchemy connectable (engine/connection) or database string URI or sqlite3 DBAPI2 connection. Other DBAPI2 objects are not tested. Please consider using SQLAlchemy.\n",
      "  pd.read_sql('show tables;', db)\n"
     ]
    },
    {
     "data": {
      "text/html": [
       "<div>\n",
       "<style scoped>\n",
       "    .dataframe tbody tr th:only-of-type {\n",
       "        vertical-align: middle;\n",
       "    }\n",
       "\n",
       "    .dataframe tbody tr th {\n",
       "        vertical-align: top;\n",
       "    }\n",
       "\n",
       "    .dataframe thead th {\n",
       "        text-align: right;\n",
       "    }\n",
       "</style>\n",
       "<table border=\"1\" class=\"dataframe\">\n",
       "  <thead>\n",
       "    <tr style=\"text-align: right;\">\n",
       "      <th></th>\n",
       "      <th>Tables_in_world</th>\n",
       "    </tr>\n",
       "  </thead>\n",
       "  <tbody>\n",
       "    <tr>\n",
       "      <th>0</th>\n",
       "      <td>city</td>\n",
       "    </tr>\n",
       "    <tr>\n",
       "      <th>1</th>\n",
       "      <td>country</td>\n",
       "    </tr>\n",
       "    <tr>\n",
       "      <th>2</th>\n",
       "      <td>countrylanguage</td>\n",
       "    </tr>\n",
       "  </tbody>\n",
       "</table>\n",
       "</div>"
      ],
      "text/plain": [
       "   Tables_in_world\n",
       "0             city\n",
       "1          country\n",
       "2  countrylanguage"
      ]
     },
     "execution_count": 106,
     "metadata": {},
     "output_type": "execute_result"
    }
   ],
   "source": [
    "pd.read_sql('show tables;', db)"
   ]
  },
  {
   "cell_type": "code",
   "execution_count": 109,
   "id": "52889334",
   "metadata": {},
   "outputs": [
    {
     "name": "stderr",
     "output_type": "stream",
     "text": [
      "C:\\Users\\h\\AppData\\Local\\Temp\\ipykernel_16748\\4062617895.py:1: UserWarning: pandas only supports SQLAlchemy connectable (engine/connection) or database string URI or sqlite3 DBAPI2 connection. Other DBAPI2 objects are not tested. Please consider using SQLAlchemy.\n",
      "  pd.read_sql('select * from country;', db)\n"
     ]
    },
    {
     "data": {
      "text/html": [
       "<div>\n",
       "<style scoped>\n",
       "    .dataframe tbody tr th:only-of-type {\n",
       "        vertical-align: middle;\n",
       "    }\n",
       "\n",
       "    .dataframe tbody tr th {\n",
       "        vertical-align: top;\n",
       "    }\n",
       "\n",
       "    .dataframe thead th {\n",
       "        text-align: right;\n",
       "    }\n",
       "</style>\n",
       "<table border=\"1\" class=\"dataframe\">\n",
       "  <thead>\n",
       "    <tr style=\"text-align: right;\">\n",
       "      <th></th>\n",
       "      <th>Code</th>\n",
       "      <th>Name</th>\n",
       "      <th>Continent</th>\n",
       "      <th>Region</th>\n",
       "      <th>SurfaceArea</th>\n",
       "      <th>IndepYear</th>\n",
       "      <th>Population</th>\n",
       "      <th>LifeExpectancy</th>\n",
       "      <th>GNP</th>\n",
       "      <th>GNPOld</th>\n",
       "      <th>LocalName</th>\n",
       "      <th>GovernmentForm</th>\n",
       "      <th>HeadOfState</th>\n",
       "      <th>Capital</th>\n",
       "      <th>Code2</th>\n",
       "    </tr>\n",
       "  </thead>\n",
       "  <tbody>\n",
       "    <tr>\n",
       "      <th>0</th>\n",
       "      <td>ABW</td>\n",
       "      <td>Aruba</td>\n",
       "      <td>North America</td>\n",
       "      <td>Caribbean</td>\n",
       "      <td>193.0</td>\n",
       "      <td>NaN</td>\n",
       "      <td>103000</td>\n",
       "      <td>78.4</td>\n",
       "      <td>828.0</td>\n",
       "      <td>793.0</td>\n",
       "      <td>Aruba</td>\n",
       "      <td>Nonmetropolitan Territory of The Netherlands</td>\n",
       "      <td>Beatrix</td>\n",
       "      <td>129.0</td>\n",
       "      <td>AW</td>\n",
       "    </tr>\n",
       "    <tr>\n",
       "      <th>1</th>\n",
       "      <td>AFG</td>\n",
       "      <td>Afghanistan</td>\n",
       "      <td>Asia</td>\n",
       "      <td>Southern and Central Asia</td>\n",
       "      <td>652090.0</td>\n",
       "      <td>1919.0</td>\n",
       "      <td>22720000</td>\n",
       "      <td>45.9</td>\n",
       "      <td>5976.0</td>\n",
       "      <td>NaN</td>\n",
       "      <td>Afganistan/Afqanestan</td>\n",
       "      <td>Islamic Emirate</td>\n",
       "      <td>Mohammad Omar</td>\n",
       "      <td>1.0</td>\n",
       "      <td>AF</td>\n",
       "    </tr>\n",
       "    <tr>\n",
       "      <th>2</th>\n",
       "      <td>AGO</td>\n",
       "      <td>Angola</td>\n",
       "      <td>Africa</td>\n",
       "      <td>Central Africa</td>\n",
       "      <td>1246700.0</td>\n",
       "      <td>1975.0</td>\n",
       "      <td>12878000</td>\n",
       "      <td>38.3</td>\n",
       "      <td>6648.0</td>\n",
       "      <td>7984.0</td>\n",
       "      <td>Angola</td>\n",
       "      <td>Republic</td>\n",
       "      <td>JosÃ© Eduardo dos Santos</td>\n",
       "      <td>56.0</td>\n",
       "      <td>AO</td>\n",
       "    </tr>\n",
       "    <tr>\n",
       "      <th>3</th>\n",
       "      <td>AIA</td>\n",
       "      <td>Anguilla</td>\n",
       "      <td>North America</td>\n",
       "      <td>Caribbean</td>\n",
       "      <td>96.0</td>\n",
       "      <td>NaN</td>\n",
       "      <td>8000</td>\n",
       "      <td>76.1</td>\n",
       "      <td>63.2</td>\n",
       "      <td>NaN</td>\n",
       "      <td>Anguilla</td>\n",
       "      <td>Dependent Territory of the UK</td>\n",
       "      <td>Elisabeth II</td>\n",
       "      <td>62.0</td>\n",
       "      <td>AI</td>\n",
       "    </tr>\n",
       "    <tr>\n",
       "      <th>4</th>\n",
       "      <td>ALB</td>\n",
       "      <td>Albania</td>\n",
       "      <td>Europe</td>\n",
       "      <td>Southern Europe</td>\n",
       "      <td>28748.0</td>\n",
       "      <td>1912.0</td>\n",
       "      <td>3401200</td>\n",
       "      <td>71.6</td>\n",
       "      <td>3205.0</td>\n",
       "      <td>2500.0</td>\n",
       "      <td>ShqipÃ«ria</td>\n",
       "      <td>Republic</td>\n",
       "      <td>Rexhep Mejdani</td>\n",
       "      <td>34.0</td>\n",
       "      <td>AL</td>\n",
       "    </tr>\n",
       "    <tr>\n",
       "      <th>...</th>\n",
       "      <td>...</td>\n",
       "      <td>...</td>\n",
       "      <td>...</td>\n",
       "      <td>...</td>\n",
       "      <td>...</td>\n",
       "      <td>...</td>\n",
       "      <td>...</td>\n",
       "      <td>...</td>\n",
       "      <td>...</td>\n",
       "      <td>...</td>\n",
       "      <td>...</td>\n",
       "      <td>...</td>\n",
       "      <td>...</td>\n",
       "      <td>...</td>\n",
       "      <td>...</td>\n",
       "    </tr>\n",
       "    <tr>\n",
       "      <th>234</th>\n",
       "      <td>YEM</td>\n",
       "      <td>Yemen</td>\n",
       "      <td>Asia</td>\n",
       "      <td>Middle East</td>\n",
       "      <td>527968.0</td>\n",
       "      <td>1918.0</td>\n",
       "      <td>18112000</td>\n",
       "      <td>59.8</td>\n",
       "      <td>6041.0</td>\n",
       "      <td>5729.0</td>\n",
       "      <td>Al-Yaman</td>\n",
       "      <td>Republic</td>\n",
       "      <td>Ali Abdallah Salih</td>\n",
       "      <td>1780.0</td>\n",
       "      <td>YE</td>\n",
       "    </tr>\n",
       "    <tr>\n",
       "      <th>235</th>\n",
       "      <td>YUG</td>\n",
       "      <td>Yugoslavia</td>\n",
       "      <td>Europe</td>\n",
       "      <td>Southern Europe</td>\n",
       "      <td>102173.0</td>\n",
       "      <td>1918.0</td>\n",
       "      <td>10640000</td>\n",
       "      <td>72.4</td>\n",
       "      <td>17000.0</td>\n",
       "      <td>NaN</td>\n",
       "      <td>Jugoslavija</td>\n",
       "      <td>Federal Republic</td>\n",
       "      <td>Vojislav KoÂštunica</td>\n",
       "      <td>1792.0</td>\n",
       "      <td>YU</td>\n",
       "    </tr>\n",
       "    <tr>\n",
       "      <th>236</th>\n",
       "      <td>ZAF</td>\n",
       "      <td>South Africa</td>\n",
       "      <td>Africa</td>\n",
       "      <td>Southern Africa</td>\n",
       "      <td>1221037.0</td>\n",
       "      <td>1910.0</td>\n",
       "      <td>40377000</td>\n",
       "      <td>51.1</td>\n",
       "      <td>116729.0</td>\n",
       "      <td>129092.0</td>\n",
       "      <td>South Africa</td>\n",
       "      <td>Republic</td>\n",
       "      <td>Thabo Mbeki</td>\n",
       "      <td>716.0</td>\n",
       "      <td>ZA</td>\n",
       "    </tr>\n",
       "    <tr>\n",
       "      <th>237</th>\n",
       "      <td>ZMB</td>\n",
       "      <td>Zambia</td>\n",
       "      <td>Africa</td>\n",
       "      <td>Eastern Africa</td>\n",
       "      <td>752618.0</td>\n",
       "      <td>1964.0</td>\n",
       "      <td>9169000</td>\n",
       "      <td>37.2</td>\n",
       "      <td>3377.0</td>\n",
       "      <td>3922.0</td>\n",
       "      <td>Zambia</td>\n",
       "      <td>Republic</td>\n",
       "      <td>Frederick Chiluba</td>\n",
       "      <td>3162.0</td>\n",
       "      <td>ZM</td>\n",
       "    </tr>\n",
       "    <tr>\n",
       "      <th>238</th>\n",
       "      <td>ZWE</td>\n",
       "      <td>Zimbabwe</td>\n",
       "      <td>Africa</td>\n",
       "      <td>Eastern Africa</td>\n",
       "      <td>390757.0</td>\n",
       "      <td>1980.0</td>\n",
       "      <td>11669000</td>\n",
       "      <td>37.8</td>\n",
       "      <td>5951.0</td>\n",
       "      <td>8670.0</td>\n",
       "      <td>Zimbabwe</td>\n",
       "      <td>Republic</td>\n",
       "      <td>Robert G. Mugabe</td>\n",
       "      <td>4068.0</td>\n",
       "      <td>ZW</td>\n",
       "    </tr>\n",
       "  </tbody>\n",
       "</table>\n",
       "<p>239 rows × 15 columns</p>\n",
       "</div>"
      ],
      "text/plain": [
       "    Code          Name      Continent                     Region  SurfaceArea  \\\n",
       "0    ABW         Aruba  North America                  Caribbean        193.0   \n",
       "1    AFG   Afghanistan           Asia  Southern and Central Asia     652090.0   \n",
       "2    AGO        Angola         Africa             Central Africa    1246700.0   \n",
       "3    AIA      Anguilla  North America                  Caribbean         96.0   \n",
       "4    ALB       Albania         Europe            Southern Europe      28748.0   \n",
       "..   ...           ...            ...                        ...          ...   \n",
       "234  YEM         Yemen           Asia                Middle East     527968.0   \n",
       "235  YUG    Yugoslavia         Europe            Southern Europe     102173.0   \n",
       "236  ZAF  South Africa         Africa            Southern Africa    1221037.0   \n",
       "237  ZMB        Zambia         Africa             Eastern Africa     752618.0   \n",
       "238  ZWE      Zimbabwe         Africa             Eastern Africa     390757.0   \n",
       "\n",
       "     IndepYear  Population  LifeExpectancy       GNP    GNPOld  \\\n",
       "0          NaN      103000            78.4     828.0     793.0   \n",
       "1       1919.0    22720000            45.9    5976.0       NaN   \n",
       "2       1975.0    12878000            38.3    6648.0    7984.0   \n",
       "3          NaN        8000            76.1      63.2       NaN   \n",
       "4       1912.0     3401200            71.6    3205.0    2500.0   \n",
       "..         ...         ...             ...       ...       ...   \n",
       "234     1918.0    18112000            59.8    6041.0    5729.0   \n",
       "235     1918.0    10640000            72.4   17000.0       NaN   \n",
       "236     1910.0    40377000            51.1  116729.0  129092.0   \n",
       "237     1964.0     9169000            37.2    3377.0    3922.0   \n",
       "238     1980.0    11669000            37.8    5951.0    8670.0   \n",
       "\n",
       "                 LocalName                                GovernmentForm  \\\n",
       "0                    Aruba  Nonmetropolitan Territory of The Netherlands   \n",
       "1    Afganistan/Afqanestan                               Islamic Emirate   \n",
       "2                   Angola                                      Republic   \n",
       "3                 Anguilla                 Dependent Territory of the UK   \n",
       "4               ShqipÃ«ria                                      Republic   \n",
       "..                     ...                                           ...   \n",
       "234               Al-Yaman                                      Republic   \n",
       "235            Jugoslavija                              Federal Republic   \n",
       "236           South Africa                                      Republic   \n",
       "237                 Zambia                                      Republic   \n",
       "238               Zimbabwe                                      Republic   \n",
       "\n",
       "                  HeadOfState  Capital Code2  \n",
       "0                     Beatrix    129.0    AW  \n",
       "1               Mohammad Omar      1.0    AF  \n",
       "2    JosÃ© Eduardo dos Santos     56.0    AO  \n",
       "3                Elisabeth II     62.0    AI  \n",
       "4              Rexhep Mejdani     34.0    AL  \n",
       "..                        ...      ...   ...  \n",
       "234        Ali Abdallah Salih   1780.0    YE  \n",
       "235       Vojislav KoÂštunica   1792.0    YU  \n",
       "236               Thabo Mbeki    716.0    ZA  \n",
       "237         Frederick Chiluba   3162.0    ZM  \n",
       "238          Robert G. Mugabe   4068.0    ZW  \n",
       "\n",
       "[239 rows x 15 columns]"
      ]
     },
     "execution_count": 109,
     "metadata": {},
     "output_type": "execute_result"
    }
   ],
   "source": [
    "pd.read_sql('select * from country;', db)"
   ]
  },
  {
   "cell_type": "code",
   "execution_count": 134,
   "id": "acd1e130",
   "metadata": {},
   "outputs": [
    {
     "name": "stderr",
     "output_type": "stream",
     "text": [
      "C:\\Users\\h\\AppData\\Local\\Temp\\ipykernel_16748\\1337216161.py:2: UserWarning: pandas only supports SQLAlchemy connectable (engine/connection) or database string URI or sqlite3 DBAPI2 connection. Other DBAPI2 objects are not tested. Please consider using SQLAlchemy.\n",
      "  pd.read_sql('select * from country order by LifeExpectancy desc limit 5;', db)\n"
     ]
    },
    {
     "data": {
      "text/html": [
       "<div>\n",
       "<style scoped>\n",
       "    .dataframe tbody tr th:only-of-type {\n",
       "        vertical-align: middle;\n",
       "    }\n",
       "\n",
       "    .dataframe tbody tr th {\n",
       "        vertical-align: top;\n",
       "    }\n",
       "\n",
       "    .dataframe thead th {\n",
       "        text-align: right;\n",
       "    }\n",
       "</style>\n",
       "<table border=\"1\" class=\"dataframe\">\n",
       "  <thead>\n",
       "    <tr style=\"text-align: right;\">\n",
       "      <th></th>\n",
       "      <th>Code</th>\n",
       "      <th>Name</th>\n",
       "      <th>Continent</th>\n",
       "      <th>Region</th>\n",
       "      <th>SurfaceArea</th>\n",
       "      <th>IndepYear</th>\n",
       "      <th>Population</th>\n",
       "      <th>LifeExpectancy</th>\n",
       "      <th>GNP</th>\n",
       "      <th>GNPOld</th>\n",
       "      <th>LocalName</th>\n",
       "      <th>GovernmentForm</th>\n",
       "      <th>HeadOfState</th>\n",
       "      <th>Capital</th>\n",
       "      <th>Code2</th>\n",
       "    </tr>\n",
       "  </thead>\n",
       "  <tbody>\n",
       "    <tr>\n",
       "      <th>0</th>\n",
       "      <td>AND</td>\n",
       "      <td>Andorra</td>\n",
       "      <td>Europe</td>\n",
       "      <td>Southern Europe</td>\n",
       "      <td>468.0</td>\n",
       "      <td>1278.0</td>\n",
       "      <td>78000</td>\n",
       "      <td>83.5</td>\n",
       "      <td>1630.0</td>\n",
       "      <td>NaN</td>\n",
       "      <td>Andorra</td>\n",
       "      <td>Parliamentary Coprincipality</td>\n",
       "      <td></td>\n",
       "      <td>55</td>\n",
       "      <td>AD</td>\n",
       "    </tr>\n",
       "    <tr>\n",
       "      <th>1</th>\n",
       "      <td>MAC</td>\n",
       "      <td>Macao</td>\n",
       "      <td>Asia</td>\n",
       "      <td>Eastern Asia</td>\n",
       "      <td>18.0</td>\n",
       "      <td>NaN</td>\n",
       "      <td>473000</td>\n",
       "      <td>81.6</td>\n",
       "      <td>5749.0</td>\n",
       "      <td>5940.0</td>\n",
       "      <td>Macau/Aomen</td>\n",
       "      <td>Special Administrative Region of China</td>\n",
       "      <td>Jiang Zemin</td>\n",
       "      <td>2454</td>\n",
       "      <td>MO</td>\n",
       "    </tr>\n",
       "    <tr>\n",
       "      <th>2</th>\n",
       "      <td>SMR</td>\n",
       "      <td>San Marino</td>\n",
       "      <td>Europe</td>\n",
       "      <td>Southern Europe</td>\n",
       "      <td>61.0</td>\n",
       "      <td>885.0</td>\n",
       "      <td>27000</td>\n",
       "      <td>81.1</td>\n",
       "      <td>510.0</td>\n",
       "      <td>NaN</td>\n",
       "      <td>San Marino</td>\n",
       "      <td>Republic</td>\n",
       "      <td>None</td>\n",
       "      <td>3171</td>\n",
       "      <td>SM</td>\n",
       "    </tr>\n",
       "    <tr>\n",
       "      <th>3</th>\n",
       "      <td>JPN</td>\n",
       "      <td>Japan</td>\n",
       "      <td>Asia</td>\n",
       "      <td>Eastern Asia</td>\n",
       "      <td>377829.0</td>\n",
       "      <td>-660.0</td>\n",
       "      <td>126714000</td>\n",
       "      <td>80.7</td>\n",
       "      <td>3787042.0</td>\n",
       "      <td>4192638.0</td>\n",
       "      <td>Nihon/Nippon</td>\n",
       "      <td>Constitutional Monarchy</td>\n",
       "      <td>Akihito</td>\n",
       "      <td>1532</td>\n",
       "      <td>JP</td>\n",
       "    </tr>\n",
       "    <tr>\n",
       "      <th>4</th>\n",
       "      <td>SGP</td>\n",
       "      <td>Singapore</td>\n",
       "      <td>Asia</td>\n",
       "      <td>Southeast Asia</td>\n",
       "      <td>618.0</td>\n",
       "      <td>1965.0</td>\n",
       "      <td>3567000</td>\n",
       "      <td>80.1</td>\n",
       "      <td>86503.0</td>\n",
       "      <td>96318.0</td>\n",
       "      <td>Singapore/Singapura/Xinjiapo/Singapur</td>\n",
       "      <td>Republic</td>\n",
       "      <td>Sellapan Rama Nathan</td>\n",
       "      <td>3208</td>\n",
       "      <td>SG</td>\n",
       "    </tr>\n",
       "  </tbody>\n",
       "</table>\n",
       "</div>"
      ],
      "text/plain": [
       "  Code        Name Continent           Region  SurfaceArea  IndepYear  \\\n",
       "0  AND     Andorra    Europe  Southern Europe        468.0     1278.0   \n",
       "1  MAC       Macao      Asia     Eastern Asia         18.0        NaN   \n",
       "2  SMR  San Marino    Europe  Southern Europe         61.0      885.0   \n",
       "3  JPN       Japan      Asia     Eastern Asia     377829.0     -660.0   \n",
       "4  SGP   Singapore      Asia   Southeast Asia        618.0     1965.0   \n",
       "\n",
       "   Population  LifeExpectancy        GNP     GNPOld  \\\n",
       "0       78000            83.5     1630.0        NaN   \n",
       "1      473000            81.6     5749.0     5940.0   \n",
       "2       27000            81.1      510.0        NaN   \n",
       "3   126714000            80.7  3787042.0  4192638.0   \n",
       "4     3567000            80.1    86503.0    96318.0   \n",
       "\n",
       "                               LocalName  \\\n",
       "0                                Andorra   \n",
       "1                            Macau/Aomen   \n",
       "2                             San Marino   \n",
       "3                           Nihon/Nippon   \n",
       "4  Singapore/Singapura/Xinjiapo/Singapur   \n",
       "\n",
       "                           GovernmentForm           HeadOfState  Capital Code2  \n",
       "0            Parliamentary Coprincipality                             55    AD  \n",
       "1  Special Administrative Region of China           Jiang Zemin     2454    MO  \n",
       "2                                Republic                  None     3171    SM  \n",
       "3                 Constitutional Monarchy               Akihito     1532    JP  \n",
       "4                                Republic  Sellapan Rama Nathan     3208    SG  "
      ]
     },
     "execution_count": 134,
     "metadata": {},
     "output_type": "execute_result"
    }
   ],
   "source": [
    "# 수명이 가장 긴 상위 5개 국가를 출력\n",
    "pd.read_sql('select * from country order by LifeExpectancy desc limit 5;', db)\n",
    "\n"
   ]
  },
  {
   "cell_type": "code",
   "execution_count": 123,
   "id": "50124604",
   "metadata": {},
   "outputs": [
    {
     "name": "stderr",
     "output_type": "stream",
     "text": [
      "C:\\Users\\h\\AppData\\Local\\Temp\\ipykernel_16748\\3543251089.py:1: UserWarning: pandas only supports SQLAlchemy connectable (engine/connection) or database string URI or sqlite3 DBAPI2 connection. Other DBAPI2 objects are not tested. Please consider using SQLAlchemy.\n",
      "  df = pd.read_sql('select * from country;', db)\n"
     ]
    },
    {
     "data": {
      "text/html": [
       "<div>\n",
       "<style scoped>\n",
       "    .dataframe tbody tr th:only-of-type {\n",
       "        vertical-align: middle;\n",
       "    }\n",
       "\n",
       "    .dataframe tbody tr th {\n",
       "        vertical-align: top;\n",
       "    }\n",
       "\n",
       "    .dataframe thead th {\n",
       "        text-align: right;\n",
       "    }\n",
       "</style>\n",
       "<table border=\"1\" class=\"dataframe\">\n",
       "  <thead>\n",
       "    <tr style=\"text-align: right;\">\n",
       "      <th></th>\n",
       "      <th>Code</th>\n",
       "      <th>Name</th>\n",
       "      <th>Continent</th>\n",
       "      <th>Region</th>\n",
       "      <th>SurfaceArea</th>\n",
       "      <th>IndepYear</th>\n",
       "      <th>Population</th>\n",
       "      <th>LifeExpectancy</th>\n",
       "      <th>GNP</th>\n",
       "      <th>GNPOld</th>\n",
       "      <th>LocalName</th>\n",
       "      <th>GovernmentForm</th>\n",
       "      <th>HeadOfState</th>\n",
       "      <th>Capital</th>\n",
       "      <th>Code2</th>\n",
       "    </tr>\n",
       "  </thead>\n",
       "  <tbody>\n",
       "    <tr>\n",
       "      <th>5</th>\n",
       "      <td>AND</td>\n",
       "      <td>Andorra</td>\n",
       "      <td>Europe</td>\n",
       "      <td>Southern Europe</td>\n",
       "      <td>468.0</td>\n",
       "      <td>1278.0</td>\n",
       "      <td>78000</td>\n",
       "      <td>83.5</td>\n",
       "      <td>1630.0</td>\n",
       "      <td>NaN</td>\n",
       "      <td>Andorra</td>\n",
       "      <td>Parliamentary Coprincipality</td>\n",
       "      <td></td>\n",
       "      <td>55.0</td>\n",
       "      <td>AD</td>\n",
       "    </tr>\n",
       "    <tr>\n",
       "      <th>129</th>\n",
       "      <td>MAC</td>\n",
       "      <td>Macao</td>\n",
       "      <td>Asia</td>\n",
       "      <td>Eastern Asia</td>\n",
       "      <td>18.0</td>\n",
       "      <td>NaN</td>\n",
       "      <td>473000</td>\n",
       "      <td>81.6</td>\n",
       "      <td>5749.0</td>\n",
       "      <td>5940.0</td>\n",
       "      <td>Macau/Aomen</td>\n",
       "      <td>Special Administrative Region of China</td>\n",
       "      <td>Jiang Zemin</td>\n",
       "      <td>2454.0</td>\n",
       "      <td>MO</td>\n",
       "    </tr>\n",
       "    <tr>\n",
       "      <th>193</th>\n",
       "      <td>SMR</td>\n",
       "      <td>San Marino</td>\n",
       "      <td>Europe</td>\n",
       "      <td>Southern Europe</td>\n",
       "      <td>61.0</td>\n",
       "      <td>885.0</td>\n",
       "      <td>27000</td>\n",
       "      <td>81.1</td>\n",
       "      <td>510.0</td>\n",
       "      <td>NaN</td>\n",
       "      <td>San Marino</td>\n",
       "      <td>Republic</td>\n",
       "      <td>None</td>\n",
       "      <td>3171.0</td>\n",
       "      <td>SM</td>\n",
       "    </tr>\n",
       "    <tr>\n",
       "      <th>109</th>\n",
       "      <td>JPN</td>\n",
       "      <td>Japan</td>\n",
       "      <td>Asia</td>\n",
       "      <td>Eastern Asia</td>\n",
       "      <td>377829.0</td>\n",
       "      <td>-660.0</td>\n",
       "      <td>126714000</td>\n",
       "      <td>80.7</td>\n",
       "      <td>3787042.0</td>\n",
       "      <td>4192638.0</td>\n",
       "      <td>Nihon/Nippon</td>\n",
       "      <td>Constitutional Monarchy</td>\n",
       "      <td>Akihito</td>\n",
       "      <td>1532.0</td>\n",
       "      <td>JP</td>\n",
       "    </tr>\n",
       "    <tr>\n",
       "      <th>186</th>\n",
       "      <td>SGP</td>\n",
       "      <td>Singapore</td>\n",
       "      <td>Asia</td>\n",
       "      <td>Southeast Asia</td>\n",
       "      <td>618.0</td>\n",
       "      <td>1965.0</td>\n",
       "      <td>3567000</td>\n",
       "      <td>80.1</td>\n",
       "      <td>86503.0</td>\n",
       "      <td>96318.0</td>\n",
       "      <td>Singapore/Singapura/Xinjiapo/Singapur</td>\n",
       "      <td>Republic</td>\n",
       "      <td>Sellapan Rama Nathan</td>\n",
       "      <td>3208.0</td>\n",
       "      <td>SG</td>\n",
       "    </tr>\n",
       "  </tbody>\n",
       "</table>\n",
       "</div>"
      ],
      "text/plain": [
       "    Code        Name Continent           Region  SurfaceArea  IndepYear  \\\n",
       "5    AND     Andorra    Europe  Southern Europe        468.0     1278.0   \n",
       "129  MAC       Macao      Asia     Eastern Asia         18.0        NaN   \n",
       "193  SMR  San Marino    Europe  Southern Europe         61.0      885.0   \n",
       "109  JPN       Japan      Asia     Eastern Asia     377829.0     -660.0   \n",
       "186  SGP   Singapore      Asia   Southeast Asia        618.0     1965.0   \n",
       "\n",
       "     Population  LifeExpectancy        GNP     GNPOld  \\\n",
       "5         78000            83.5     1630.0        NaN   \n",
       "129      473000            81.6     5749.0     5940.0   \n",
       "193       27000            81.1      510.0        NaN   \n",
       "109   126714000            80.7  3787042.0  4192638.0   \n",
       "186     3567000            80.1    86503.0    96318.0   \n",
       "\n",
       "                                 LocalName  \\\n",
       "5                                  Andorra   \n",
       "129                            Macau/Aomen   \n",
       "193                             San Marino   \n",
       "109                           Nihon/Nippon   \n",
       "186  Singapore/Singapura/Xinjiapo/Singapur   \n",
       "\n",
       "                             GovernmentForm           HeadOfState  Capital  \\\n",
       "5              Parliamentary Coprincipality                           55.0   \n",
       "129  Special Administrative Region of China           Jiang Zemin   2454.0   \n",
       "193                                Republic                  None   3171.0   \n",
       "109                 Constitutional Monarchy               Akihito   1532.0   \n",
       "186                                Republic  Sellapan Rama Nathan   3208.0   \n",
       "\n",
       "    Code2  \n",
       "5      AD  \n",
       "129    MO  \n",
       "193    SM  \n",
       "109    JP  \n",
       "186    SG  "
      ]
     },
     "execution_count": 123,
     "metadata": {},
     "output_type": "execute_result"
    }
   ],
   "source": [
    "df = pd.read_sql('select * from country;', db)\n",
    "df.sort_values('LifeExpectancy', ascending=False).head()"
   ]
  },
  {
   "cell_type": "code",
   "execution_count": 124,
   "id": "83c3d030",
   "metadata": {},
   "outputs": [],
   "source": [
    "# 인구수 5000만 이상이면서 gnp가 20000 이상인 국가를 출력"
   ]
  },
  {
   "cell_type": "code",
   "execution_count": 127,
   "id": "5bb3c0a6",
   "metadata": {},
   "outputs": [
    {
     "name": "stderr",
     "output_type": "stream",
     "text": [
      "C:\\Users\\h\\AppData\\Local\\Temp\\ipykernel_16748\\2311250186.py:1: UserWarning: pandas only supports SQLAlchemy connectable (engine/connection) or database string URI or sqlite3 DBAPI2 connection. Other DBAPI2 objects are not tested. Please consider using SQLAlchemy.\n",
      "  pd.read_sql('select * from country where Population>50000000 and gnp/population> 0.02 ;', db)\n"
     ]
    },
    {
     "data": {
      "text/html": [
       "<div>\n",
       "<style scoped>\n",
       "    .dataframe tbody tr th:only-of-type {\n",
       "        vertical-align: middle;\n",
       "    }\n",
       "\n",
       "    .dataframe tbody tr th {\n",
       "        vertical-align: top;\n",
       "    }\n",
       "\n",
       "    .dataframe thead th {\n",
       "        text-align: right;\n",
       "    }\n",
       "</style>\n",
       "<table border=\"1\" class=\"dataframe\">\n",
       "  <thead>\n",
       "    <tr style=\"text-align: right;\">\n",
       "      <th></th>\n",
       "      <th>Code</th>\n",
       "      <th>Name</th>\n",
       "      <th>Continent</th>\n",
       "      <th>Region</th>\n",
       "      <th>SurfaceArea</th>\n",
       "      <th>IndepYear</th>\n",
       "      <th>Population</th>\n",
       "      <th>LifeExpectancy</th>\n",
       "      <th>GNP</th>\n",
       "      <th>GNPOld</th>\n",
       "      <th>LocalName</th>\n",
       "      <th>GovernmentForm</th>\n",
       "      <th>HeadOfState</th>\n",
       "      <th>Capital</th>\n",
       "      <th>Code2</th>\n",
       "    </tr>\n",
       "  </thead>\n",
       "  <tbody>\n",
       "    <tr>\n",
       "      <th>0</th>\n",
       "      <td>DEU</td>\n",
       "      <td>Germany</td>\n",
       "      <td>Europe</td>\n",
       "      <td>Western Europe</td>\n",
       "      <td>357022.0</td>\n",
       "      <td>1955</td>\n",
       "      <td>82164700</td>\n",
       "      <td>77.4</td>\n",
       "      <td>2133367.0</td>\n",
       "      <td>2102826.0</td>\n",
       "      <td>Deutschland</td>\n",
       "      <td>Federal Republic</td>\n",
       "      <td>Johannes Rau</td>\n",
       "      <td>3068</td>\n",
       "      <td>DE</td>\n",
       "    </tr>\n",
       "    <tr>\n",
       "      <th>1</th>\n",
       "      <td>FRA</td>\n",
       "      <td>France</td>\n",
       "      <td>Europe</td>\n",
       "      <td>Western Europe</td>\n",
       "      <td>551500.0</td>\n",
       "      <td>843</td>\n",
       "      <td>59225700</td>\n",
       "      <td>78.8</td>\n",
       "      <td>1424285.0</td>\n",
       "      <td>1392448.0</td>\n",
       "      <td>France</td>\n",
       "      <td>Republic</td>\n",
       "      <td>Jacques Chirac</td>\n",
       "      <td>2974</td>\n",
       "      <td>FR</td>\n",
       "    </tr>\n",
       "    <tr>\n",
       "      <th>2</th>\n",
       "      <td>GBR</td>\n",
       "      <td>United Kingdom</td>\n",
       "      <td>Europe</td>\n",
       "      <td>British Islands</td>\n",
       "      <td>242900.0</td>\n",
       "      <td>1066</td>\n",
       "      <td>59623400</td>\n",
       "      <td>77.7</td>\n",
       "      <td>1378330.0</td>\n",
       "      <td>1296830.0</td>\n",
       "      <td>United Kingdom</td>\n",
       "      <td>Constitutional Monarchy</td>\n",
       "      <td>Elisabeth II</td>\n",
       "      <td>456</td>\n",
       "      <td>GB</td>\n",
       "    </tr>\n",
       "    <tr>\n",
       "      <th>3</th>\n",
       "      <td>ITA</td>\n",
       "      <td>Italy</td>\n",
       "      <td>Europe</td>\n",
       "      <td>Southern Europe</td>\n",
       "      <td>301316.0</td>\n",
       "      <td>1861</td>\n",
       "      <td>57680000</td>\n",
       "      <td>79.0</td>\n",
       "      <td>1161755.0</td>\n",
       "      <td>1145372.0</td>\n",
       "      <td>Italia</td>\n",
       "      <td>Republic</td>\n",
       "      <td>Carlo Azeglio Ciampi</td>\n",
       "      <td>1464</td>\n",
       "      <td>IT</td>\n",
       "    </tr>\n",
       "    <tr>\n",
       "      <th>4</th>\n",
       "      <td>JPN</td>\n",
       "      <td>Japan</td>\n",
       "      <td>Asia</td>\n",
       "      <td>Eastern Asia</td>\n",
       "      <td>377829.0</td>\n",
       "      <td>-660</td>\n",
       "      <td>126714000</td>\n",
       "      <td>80.7</td>\n",
       "      <td>3787042.0</td>\n",
       "      <td>4192638.0</td>\n",
       "      <td>Nihon/Nippon</td>\n",
       "      <td>Constitutional Monarchy</td>\n",
       "      <td>Akihito</td>\n",
       "      <td>1532</td>\n",
       "      <td>JP</td>\n",
       "    </tr>\n",
       "    <tr>\n",
       "      <th>5</th>\n",
       "      <td>USA</td>\n",
       "      <td>United States</td>\n",
       "      <td>North America</td>\n",
       "      <td>North America</td>\n",
       "      <td>9363520.0</td>\n",
       "      <td>1776</td>\n",
       "      <td>278357000</td>\n",
       "      <td>77.1</td>\n",
       "      <td>8510700.0</td>\n",
       "      <td>8110900.0</td>\n",
       "      <td>United States</td>\n",
       "      <td>Federal Republic</td>\n",
       "      <td>George W. Bush</td>\n",
       "      <td>3813</td>\n",
       "      <td>US</td>\n",
       "    </tr>\n",
       "  </tbody>\n",
       "</table>\n",
       "</div>"
      ],
      "text/plain": [
       "  Code            Name      Continent           Region  SurfaceArea  \\\n",
       "0  DEU         Germany         Europe   Western Europe     357022.0   \n",
       "1  FRA          France         Europe   Western Europe     551500.0   \n",
       "2  GBR  United Kingdom         Europe  British Islands     242900.0   \n",
       "3  ITA           Italy         Europe  Southern Europe     301316.0   \n",
       "4  JPN           Japan           Asia     Eastern Asia     377829.0   \n",
       "5  USA   United States  North America    North America    9363520.0   \n",
       "\n",
       "   IndepYear  Population  LifeExpectancy        GNP     GNPOld  \\\n",
       "0       1955    82164700            77.4  2133367.0  2102826.0   \n",
       "1        843    59225700            78.8  1424285.0  1392448.0   \n",
       "2       1066    59623400            77.7  1378330.0  1296830.0   \n",
       "3       1861    57680000            79.0  1161755.0  1145372.0   \n",
       "4       -660   126714000            80.7  3787042.0  4192638.0   \n",
       "5       1776   278357000            77.1  8510700.0  8110900.0   \n",
       "\n",
       "        LocalName           GovernmentForm           HeadOfState  Capital  \\\n",
       "0     Deutschland         Federal Republic          Johannes Rau     3068   \n",
       "1          France                 Republic        Jacques Chirac     2974   \n",
       "2  United Kingdom  Constitutional Monarchy          Elisabeth II      456   \n",
       "3          Italia                 Republic  Carlo Azeglio Ciampi     1464   \n",
       "4    Nihon/Nippon  Constitutional Monarchy               Akihito     1532   \n",
       "5   United States         Federal Republic        George W. Bush     3813   \n",
       "\n",
       "  Code2  \n",
       "0    DE  \n",
       "1    FR  \n",
       "2    GB  \n",
       "3    IT  \n",
       "4    JP  \n",
       "5    US  "
      ]
     },
     "execution_count": 127,
     "metadata": {},
     "output_type": "execute_result"
    }
   ],
   "source": [
    "pd.read_sql('select * from country where Population>50000000 and gnp/population> 0.02 ;', db)"
   ]
  },
  {
   "cell_type": "code",
   "execution_count": null,
   "id": "1a7e3fa0",
   "metadata": {},
   "outputs": [],
   "source": []
  },
  {
   "cell_type": "code",
   "execution_count": 131,
   "id": "9188ff7c",
   "metadata": {},
   "outputs": [],
   "source": [
    "# sakila db에서 월별 렌탈 횟수가 30회 이상인 유저의 이름과 이메일을 출력\n",
    "\n",
    "# 매출이 가장 많은 영화 제목\n",
    "# film, inventory, rental"
   ]
  },
  {
   "cell_type": "code",
   "execution_count": 139,
   "id": "6c666c90",
   "metadata": {},
   "outputs": [
    {
     "data": {
      "text/plain": [
       "0"
      ]
     },
     "execution_count": 139,
     "metadata": {},
     "output_type": "execute_result"
    }
   ],
   "source": [
    "sql = 'use sakila'\n",
    "cursor.execute(sql)"
   ]
  },
  {
   "cell_type": "code",
   "execution_count": 142,
   "id": "1ec97fca",
   "metadata": {},
   "outputs": [
    {
     "name": "stderr",
     "output_type": "stream",
     "text": [
      "C:\\Users\\h\\AppData\\Local\\Temp\\ipykernel_16748\\1518790698.py:13: UserWarning: pandas only supports SQLAlchemy connectable (engine/connection) or database string URI or sqlite3 DBAPI2 connection. Other DBAPI2 objects are not tested. Please consider using SQLAlchemy.\n",
      "  df_join = pd.read_sql(sql,db).head()\n"
     ]
    },
    {
     "data": {
      "text/html": [
       "<div>\n",
       "<style scoped>\n",
       "    .dataframe tbody tr th:only-of-type {\n",
       "        vertical-align: middle;\n",
       "    }\n",
       "\n",
       "    .dataframe tbody tr th {\n",
       "        vertical-align: top;\n",
       "    }\n",
       "\n",
       "    .dataframe thead th {\n",
       "        text-align: right;\n",
       "    }\n",
       "</style>\n",
       "<table border=\"1\" class=\"dataframe\">\n",
       "  <thead>\n",
       "    <tr style=\"text-align: right;\">\n",
       "      <th></th>\n",
       "      <th>film_id</th>\n",
       "      <th>title</th>\n",
       "      <th>sum(p.amount)</th>\n",
       "    </tr>\n",
       "  </thead>\n",
       "  <tbody>\n",
       "    <tr>\n",
       "      <th>0</th>\n",
       "      <td>1</td>\n",
       "      <td>ACADEMY DINOSAUR</td>\n",
       "      <td>36.77</td>\n",
       "    </tr>\n",
       "    <tr>\n",
       "      <th>1</th>\n",
       "      <td>2</td>\n",
       "      <td>ACE GOLDFINGER</td>\n",
       "      <td>52.93</td>\n",
       "    </tr>\n",
       "    <tr>\n",
       "      <th>2</th>\n",
       "      <td>3</td>\n",
       "      <td>ADAPTATION HOLES</td>\n",
       "      <td>37.88</td>\n",
       "    </tr>\n",
       "    <tr>\n",
       "      <th>3</th>\n",
       "      <td>4</td>\n",
       "      <td>AFFAIR PREJUDICE</td>\n",
       "      <td>91.77</td>\n",
       "    </tr>\n",
       "    <tr>\n",
       "      <th>4</th>\n",
       "      <td>5</td>\n",
       "      <td>AFRICAN EGG</td>\n",
       "      <td>51.88</td>\n",
       "    </tr>\n",
       "  </tbody>\n",
       "</table>\n",
       "</div>"
      ],
      "text/plain": [
       "   film_id             title  sum(p.amount)\n",
       "0        1  ACADEMY DINOSAUR          36.77\n",
       "1        2    ACE GOLDFINGER          52.93\n",
       "2        3  ADAPTATION HOLES          37.88\n",
       "3        4  AFFAIR PREJUDICE          91.77\n",
       "4        5       AFRICAN EGG          51.88"
      ]
     },
     "execution_count": 142,
     "metadata": {},
     "output_type": "execute_result"
    }
   ],
   "source": [
    "sql = \"\"\"\n",
    "select \n",
    "    f.film_id, f.title, sum(p.amount)\n",
    "from\n",
    "    film f, rental r, inventory i, payment p\n",
    "where\n",
    "    i.film_id = f.film_id\n",
    "    and i.inventory_id = r.inventory_id\n",
    "    and p.rental_id = r.rental_id\n",
    "group by f.film_id;\n",
    "\"\"\"\n",
    "\n",
    "df_join = pd.read_sql(sql,db).head()\n",
    "df_join.head()"
   ]
  }
 ],
 "metadata": {
  "kernelspec": {
   "display_name": "Python 3 (ipykernel)",
   "language": "python",
   "name": "python3"
  },
  "language_info": {
   "codemirror_mode": {
    "name": "ipython",
    "version": 3
   },
   "file_extension": ".py",
   "mimetype": "text/x-python",
   "name": "python",
   "nbconvert_exporter": "python",
   "pygments_lexer": "ipython3",
   "version": "3.11.1"
  }
 },
 "nbformat": 4,
 "nbformat_minor": 5
}
