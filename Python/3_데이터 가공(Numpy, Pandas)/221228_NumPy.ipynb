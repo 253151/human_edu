{
  "nbformat": 4,
  "nbformat_minor": 0,
  "metadata": {
    "colab": {
      "provenance": []
    },
    "kernelspec": {
      "name": "python3",
      "display_name": "Python 3"
    },
    "language_info": {
      "name": "python"
    }
  },
  "cells": [
    {
      "cell_type": "markdown",
      "source": [
        "## 라이브러리 불러오기\n",
        "- 라이브러리 불러오고, 버전 확인\n"
      ],
      "metadata": {
        "id": "s9ORjkLAQIRX"
      }
    },
    {
      "cell_type": "code",
      "execution_count": 4,
      "metadata": {
        "colab": {
          "base_uri": "https://localhost:8080/"
        },
        "id": "yz66n-e8P8lW",
        "outputId": "a33587a4-6de0-4bd3-95ae-ae790666b832"
      },
      "outputs": [
        {
          "output_type": "stream",
          "name": "stdout",
          "text": [
            "1.21.6\n"
          ]
        }
      ],
      "source": [
        "import numpy as np\n",
        "print(np.__version__)\n",
        "\n",
        "# import numpy\n",
        "# print(numpy.__version__)"
      ]
    },
    {
      "cell_type": "markdown",
      "source": [
        "## NumPy 배열로 변환\n",
        "- 수치 연산을 하고 싶다\n",
        "- 파이썬 기초 자료형을 배열로 변환한다\n",
        "--> 형변환 이 개념과 유사"
      ],
      "metadata": {
        "id": "WxEUOYGDQvz2"
      }
    },
    {
      "cell_type": "code",
      "source": [
        "temp = [1,2,3,4,5,6,7,8] \n",
        "result = np.array(temp)\n",
        "print(type(result))\n",
        "print(result)"
      ],
      "metadata": {
        "colab": {
          "base_uri": "https://localhost:8080/"
        },
        "id": "V0eQqNEZQwaF",
        "outputId": "7c66abd1-ec04-4bfa-e29d-b63f3f830d82"
      },
      "execution_count": 14,
      "outputs": [
        {
          "output_type": "stream",
          "name": "stdout",
          "text": [
            "<class 'numpy.ndarray'>\n",
            "[1 2 3 4 5 6 7 8]\n"
          ]
        }
      ]
    },
    {
      "cell_type": "markdown",
      "source": [],
      "metadata": {
        "id": "JKivgZi3wfsJ"
      }
    },
    {
      "cell_type": "markdown",
      "source": [
        "- 배열의 크기\n",
        "- 배열은 1차원 / 2차원 / 3차원\n"
      ],
      "metadata": {
        "id": "KHvpqxuJSZFH"
      }
    },
    {
      "cell_type": "code",
      "source": [
        "result.shape # 값의 갯수"
      ],
      "metadata": {
        "colab": {
          "base_uri": "https://localhost:8080/"
        },
        "id": "mt7Ga32JRrFu",
        "outputId": "20d1e199-2be2-4b29-b7e1-da50a1fac411"
      },
      "execution_count": 15,
      "outputs": [
        {
          "output_type": "execute_result",
          "data": {
            "text/plain": [
              "(8,)"
            ]
          },
          "metadata": {},
          "execution_count": 15
        }
      ]
    },
    {
      "cell_type": "code",
      "source": [
        "result.ndim # 1차원"
      ],
      "metadata": {
        "colab": {
          "base_uri": "https://localhost:8080/"
        },
        "id": "pWIgb0BzSpJd",
        "outputId": "e54ea3ce-d286-4d12-fc6f-a5fc8cd365af"
      },
      "execution_count": 13,
      "outputs": [
        {
          "output_type": "execute_result",
          "data": {
            "text/plain": [
              "1"
            ]
          },
          "metadata": {},
          "execution_count": 13
        }
      ]
    },
    {
      "cell_type": "markdown",
      "source": [
        "- 다차원 배열 만들기"
      ],
      "metadata": {
        "id": "Y32BmCUxTHpt"
      }
    },
    {
      "cell_type": "code",
      "source": [
        "temp = np.array([[2,4,6],[8,10,12]])\n",
        "print(temp)\n",
        "print(temp.shape)\n",
        "print(temp.ndim)"
      ],
      "metadata": {
        "colab": {
          "base_uri": "https://localhost:8080/"
        },
        "id": "Abs88dmLTJ1D",
        "outputId": "2d83e1d0-ba15-4031-93b4-234f2d5584bd"
      },
      "execution_count": 17,
      "outputs": [
        {
          "output_type": "stream",
          "name": "stdout",
          "text": [
            "[[ 2  4  6]\n",
            " [ 8 10 12]]\n",
            "(2, 3)\n",
            "2\n"
          ]
        }
      ]
    },
    {
      "cell_type": "markdown",
      "source": [
        "- 3차원 배열도 가능\n",
        "- 4차원도 가능"
      ],
      "metadata": {
        "id": "3jfdzSbZTkSm"
      }
    },
    {
      "cell_type": "markdown",
      "source": [
        "## 여러 배열 생성 기본 함수\n",
        "- np.arrange()"
      ],
      "metadata": {
        "id": "CZidQ3MCT1fF"
      }
    },
    {
      "cell_type": "code",
      "source": [
        "temp = np.arange(5)\n",
        "temp"
      ],
      "metadata": {
        "colab": {
          "base_uri": "https://localhost:8080/"
        },
        "id": "AXxOlHTNTr_1",
        "outputId": "cbdab9f0-ddc3-4b1f-af23-09c72bb59abc"
      },
      "execution_count": 20,
      "outputs": [
        {
          "output_type": "execute_result",
          "data": {
            "text/plain": [
              "array([0, 1, 2, 3, 4])"
            ]
          },
          "metadata": {},
          "execution_count": 20
        }
      ]
    },
    {
      "cell_type": "code",
      "source": [
        "temp_z = np.zeros((5, 2, 3))\n",
        "print(temp_z)\n",
        "print(temp_z.shape)\n",
        "print(temp_z.ndim)\n",
        "\n",
        "# 데이터 타입\n",
        "print(temp_z.dtype)"
      ],
      "metadata": {
        "colab": {
          "base_uri": "https://localhost:8080/"
        },
        "id": "JoP0g2TwUFhe",
        "outputId": "b9f22abc-533f-4ee7-cb01-ef4418993e39"
      },
      "execution_count": 26,
      "outputs": [
        {
          "output_type": "stream",
          "name": "stdout",
          "text": [
            "[[[0. 0. 0.]\n",
            "  [0. 0. 0.]]\n",
            "\n",
            " [[0. 0. 0.]\n",
            "  [0. 0. 0.]]\n",
            "\n",
            " [[0. 0. 0.]\n",
            "  [0. 0. 0.]]\n",
            "\n",
            " [[0. 0. 0.]\n",
            "  [0. 0. 0.]]\n",
            "\n",
            " [[0. 0. 0.]\n",
            "  [0. 0. 0.]]]\n",
            "(5, 2, 3)\n",
            "3\n",
            "float64\n"
          ]
        }
      ]
    },
    {
      "cell_type": "markdown",
      "source": [
        "- 데이터 타입 크기 지정"
      ],
      "metadata": {
        "id": "ZxMkQuitU6vm"
      }
    },
    {
      "cell_type": "code",
      "source": [
        "temp_one = np.ones((255,255), dtype='int32')\n",
        "print(temp_one)\n",
        "print(temp_one.dtype)"
      ],
      "metadata": {
        "colab": {
          "base_uri": "https://localhost:8080/"
        },
        "id": "VjcoUZjbUXYd",
        "outputId": "31178ccd-2994-4f16-b196-9aa7da9a2c4b"
      },
      "execution_count": 30,
      "outputs": [
        {
          "output_type": "stream",
          "name": "stdout",
          "text": [
            "[[1 1 1 ... 1 1 1]\n",
            " [1 1 1 ... 1 1 1]\n",
            " [1 1 1 ... 1 1 1]\n",
            " ...\n",
            " [1 1 1 ... 1 1 1]\n",
            " [1 1 1 ... 1 1 1]\n",
            " [1 1 1 ... 1 1 1]]\n",
            "int32\n"
          ]
        }
      ]
    },
    {
      "cell_type": "code",
      "source": [
        "result = temp_one.reshape(5,-1,5)\n",
        "print(result)\n",
        "print(result.shape)"
      ],
      "metadata": {
        "colab": {
          "base_uri": "https://localhost:8080/"
        },
        "id": "8ghWa3otV_-e",
        "outputId": "9639d36c-67d2-4a4a-e604-c4b0c34b05a6"
      },
      "execution_count": 31,
      "outputs": [
        {
          "output_type": "stream",
          "name": "stdout",
          "text": [
            "[[[1 1 1 1 1]\n",
            "  [1 1 1 1 1]\n",
            "  [1 1 1 1 1]\n",
            "  ...\n",
            "  [1 1 1 1 1]\n",
            "  [1 1 1 1 1]\n",
            "  [1 1 1 1 1]]\n",
            "\n",
            " [[1 1 1 1 1]\n",
            "  [1 1 1 1 1]\n",
            "  [1 1 1 1 1]\n",
            "  ...\n",
            "  [1 1 1 1 1]\n",
            "  [1 1 1 1 1]\n",
            "  [1 1 1 1 1]]\n",
            "\n",
            " [[1 1 1 1 1]\n",
            "  [1 1 1 1 1]\n",
            "  [1 1 1 1 1]\n",
            "  ...\n",
            "  [1 1 1 1 1]\n",
            "  [1 1 1 1 1]\n",
            "  [1 1 1 1 1]]\n",
            "\n",
            " [[1 1 1 1 1]\n",
            "  [1 1 1 1 1]\n",
            "  [1 1 1 1 1]\n",
            "  ...\n",
            "  [1 1 1 1 1]\n",
            "  [1 1 1 1 1]\n",
            "  [1 1 1 1 1]]\n",
            "\n",
            " [[1 1 1 1 1]\n",
            "  [1 1 1 1 1]\n",
            "  [1 1 1 1 1]\n",
            "  ...\n",
            "  [1 1 1 1 1]\n",
            "  [1 1 1 1 1]\n",
            "  [1 1 1 1 1]]]\n",
            "(5, 2601, 5)\n"
          ]
        }
      ]
    },
    {
      "cell_type": "markdown",
      "source": [
        "## 인덱싱 슬라이싱"
      ],
      "metadata": {
        "id": "Eg5PWQf7XQNf"
      }
    },
    {
      "cell_type": "code",
      "source": [
        "temp = np.arange(0,4)\n",
        "print(temp)"
      ],
      "metadata": {
        "colab": {
          "base_uri": "https://localhost:8080/"
        },
        "id": "YN_gTLYVXXK1",
        "outputId": "de51525f-ff4c-422c-82b8-3327cf6f8978"
      },
      "execution_count": 33,
      "outputs": [
        {
          "output_type": "stream",
          "name": "stdout",
          "text": [
            "[0 1 2 3]\n"
          ]
        }
      ]
    },
    {
      "cell_type": "code",
      "source": [
        "temp[0:2]"
      ],
      "metadata": {
        "colab": {
          "base_uri": "https://localhost:8080/"
        },
        "id": "r5Wp9eR_XhD9",
        "outputId": "2360af3b-9f5e-4b17-bd5c-2fd53b8574ed"
      },
      "execution_count": 35,
      "outputs": [
        {
          "output_type": "execute_result",
          "data": {
            "text/plain": [
              "array([0, 1])"
            ]
          },
          "metadata": {},
          "execution_count": 35
        }
      ]
    },
    {
      "cell_type": "code",
      "source": [
        "temp = np.arange(3, 30, 3).reshape(3,3)\n",
        "temp"
      ],
      "metadata": {
        "colab": {
          "base_uri": "https://localhost:8080/"
        },
        "id": "VH8_r2BfXjg9",
        "outputId": "4acdc420-1c9d-42cf-d429-669fe0415a9a"
      },
      "execution_count": 37,
      "outputs": [
        {
          "output_type": "execute_result",
          "data": {
            "text/plain": [
              "array([[ 3,  6,  9],\n",
              "       [12, 15, 18],\n",
              "       [21, 24, 27]])"
            ]
          },
          "metadata": {},
          "execution_count": 37
        }
      ]
    },
    {
      "cell_type": "code",
      "source": [
        "temp[0:2, 0:3] #[행,열] 슬라이싱"
      ],
      "metadata": {
        "colab": {
          "base_uri": "https://localhost:8080/"
        },
        "id": "JPCc9vlXXrWV",
        "outputId": "c83de705-8351-4831-bdad-a48958fd6e39"
      },
      "execution_count": 39,
      "outputs": [
        {
          "output_type": "execute_result",
          "data": {
            "text/plain": [
              "array([[ 3,  6,  9],\n",
              "       [12, 15, 18]])"
            ]
          },
          "metadata": {},
          "execution_count": 39
        }
      ]
    },
    {
      "cell_type": "code",
      "source": [
        "temp[1:3, :] #[행,열] 슬라이싱"
      ],
      "metadata": {
        "colab": {
          "base_uri": "https://localhost:8080/"
        },
        "id": "KP6R9O0tX-Je",
        "outputId": "1add05d0-97ae-44d9-b838-701b0489a182"
      },
      "execution_count": 41,
      "outputs": [
        {
          "output_type": "execute_result",
          "data": {
            "text/plain": [
              "array([[12, 15, 18],\n",
              "       [21, 24, 27]])"
            ]
          },
          "metadata": {},
          "execution_count": 41
        }
      ]
    },
    {
      "cell_type": "code",
      "source": [
        "temp[:, 1:3] "
      ],
      "metadata": {
        "colab": {
          "base_uri": "https://localhost:8080/"
        },
        "id": "Fo-YS8JYYCQt",
        "outputId": "f0488d83-d6c4-44db-b752-3fb3cf6639a8"
      },
      "execution_count": 42,
      "outputs": [
        {
          "output_type": "execute_result",
          "data": {
            "text/plain": [
              "array([[ 6,  9],\n",
              "       [15, 18],\n",
              "       [24, 27]])"
            ]
          },
          "metadata": {},
          "execution_count": 42
        }
      ]
    },
    {
      "cell_type": "markdown",
      "source": [
        "## 난수생성\n",
        "- 임의의 숫자 생성"
      ],
      "metadata": {
        "id": "G_GD7eUjf9F_"
      }
    },
    {
      "cell_type": "code",
      "source": [
        "from numpy import random\n",
        "x = random.rand()\n",
        "\n",
        "# import numpy\n",
        "# x= numpy.random.rand() \n",
        "# 위와 같은 코드 (라이브러리를 불러오는 방식에 따라 달라짐)\n",
        " \n",
        "print(x)"
      ],
      "metadata": {
        "colab": {
          "base_uri": "https://localhost:8080/"
        },
        "id": "N6WHICWbgA8J",
        "outputId": "5c5486f0-5441-49bb-bd04-84396d5dbe9e"
      },
      "execution_count": 44,
      "outputs": [
        {
          "output_type": "stream",
          "name": "stdout",
          "text": [
            "0.7340056913768329\n"
          ]
        }
      ]
    },
    {
      "cell_type": "markdown",
      "source": [
        "- 임의의 정수"
      ],
      "metadata": {
        "id": "ZHsvXc9QgrvP"
      }
    },
    {
      "cell_type": "code",
      "source": [
        "from numpy import random\n",
        "x = random.randint(45, size = (5,6))\n",
        "print(x)"
      ],
      "metadata": {
        "colab": {
          "base_uri": "https://localhost:8080/"
        },
        "id": "v0dmMZs_gqvf",
        "outputId": "86fb0c9d-223d-4718-f8ff-67776575a31f"
      },
      "execution_count": 49,
      "outputs": [
        {
          "output_type": "stream",
          "name": "stdout",
          "text": [
            "[[ 0 29 29 34 28  3]\n",
            " [12  2 25 19  0 33]\n",
            " [34 35 28 25 40 44]\n",
            " [36 24 25 16  2  7]\n",
            " [ 3 30 28 11 38 23]]\n"
          ]
        }
      ]
    },
    {
      "cell_type": "code",
      "source": [
        "x = random.rand(2,6)\n",
        " \n",
        "print(x)"
      ],
      "metadata": {
        "colab": {
          "base_uri": "https://localhost:8080/"
        },
        "id": "MoBKF5V2h0ZR",
        "outputId": "b5607bde-963f-483a-966f-9eb7cd94b15b"
      },
      "execution_count": 50,
      "outputs": [
        {
          "output_type": "stream",
          "name": "stdout",
          "text": [
            "[[0.68618014 0.71050664 0.04813608 0.57951188 0.66868813 0.92694988]\n",
            " [0.68701053 0.56969053 0.04010839 0.12272791 0.57217042 0.52821776]]\n"
          ]
        }
      ]
    },
    {
      "cell_type": "markdown",
      "source": [
        "## 배열연산"
      ],
      "metadata": {
        "id": "GZsmkKn5iBrX"
      }
    },
    {
      "cell_type": "code",
      "source": [
        "array01 = random.randint(100, size = (5,2))\n",
        "array02 = random.randint(1000, size = (5,2))\n",
        "\n",
        "print(array01)\n",
        "print(array02)"
      ],
      "metadata": {
        "colab": {
          "base_uri": "https://localhost:8080/"
        },
        "id": "BA8LooKqiFM3",
        "outputId": "a72d9ac9-64b5-41fa-8214-31768cc1cf89"
      },
      "execution_count": 60,
      "outputs": [
        {
          "output_type": "stream",
          "name": "stdout",
          "text": [
            "[[31 32]\n",
            " [86 45]\n",
            " [78 38]\n",
            " [65 23]\n",
            " [46 89]]\n",
            "[[230 474]\n",
            " [894 406]\n",
            " [538 298]\n",
            " [623 908]\n",
            " [113 364]]\n"
          ]
        }
      ]
    },
    {
      "cell_type": "code",
      "source": [
        "import numpy as np\n",
        "\n",
        "# 덧셈\n",
        "np.add(array01, array02)"
      ],
      "metadata": {
        "colab": {
          "base_uri": "https://localhost:8080/"
        },
        "id": "2ZJIAn6YiVb-",
        "outputId": "a4ade120-c865-4f13-e3ce-2d61cc7be556"
      },
      "execution_count": 61,
      "outputs": [
        {
          "output_type": "execute_result",
          "data": {
            "text/plain": [
              "array([[261, 506],\n",
              "       [980, 451],\n",
              "       [616, 336],\n",
              "       [688, 931],\n",
              "       [159, 453]])"
            ]
          },
          "metadata": {},
          "execution_count": 61
        }
      ]
    },
    {
      "cell_type": "code",
      "source": [
        "# 뺄셈\n",
        "np.subtract(array01, array02)"
      ],
      "metadata": {
        "colab": {
          "base_uri": "https://localhost:8080/"
        },
        "id": "Nn9UFsrNig6_",
        "outputId": "eb158eea-4a25-4a01-d814-16ca4c24d4e7"
      },
      "execution_count": 62,
      "outputs": [
        {
          "output_type": "execute_result",
          "data": {
            "text/plain": [
              "array([[-199, -442],\n",
              "       [-808, -361],\n",
              "       [-460, -260],\n",
              "       [-558, -885],\n",
              "       [ -67, -275]])"
            ]
          },
          "metadata": {},
          "execution_count": 62
        }
      ]
    },
    {
      "cell_type": "code",
      "source": [
        "# 곱셈\n",
        "np.multiply(array01, array02)"
      ],
      "metadata": {
        "colab": {
          "base_uri": "https://localhost:8080/"
        },
        "id": "rjmuzDn9ipu4",
        "outputId": "55174328-bd3f-4e8d-faed-778c4fd6a6b9"
      },
      "execution_count": 63,
      "outputs": [
        {
          "output_type": "execute_result",
          "data": {
            "text/plain": [
              "array([[ 7130, 15168],\n",
              "       [76884, 18270],\n",
              "       [41964, 11324],\n",
              "       [40495, 20884],\n",
              "       [ 5198, 32396]])"
            ]
          },
          "metadata": {},
          "execution_count": 63
        }
      ]
    },
    {
      "cell_type": "code",
      "source": [
        "# 나눗셈\n",
        "np.divide(array01, array02)"
      ],
      "metadata": {
        "colab": {
          "base_uri": "https://localhost:8080/"
        },
        "id": "Iy0LI06eiumv",
        "outputId": "17957580-77dc-4d0d-a2f8-85e3d83ddfb9"
      },
      "execution_count": 64,
      "outputs": [
        {
          "output_type": "execute_result",
          "data": {
            "text/plain": [
              "array([[0.13478261, 0.06751055],\n",
              "       [0.09619687, 0.11083744],\n",
              "       [0.14498141, 0.12751678],\n",
              "       [0.10433387, 0.0253304 ],\n",
              "       [0.40707965, 0.24450549]])"
            ]
          },
          "metadata": {},
          "execution_count": 64
        }
      ]
    },
    {
      "cell_type": "markdown",
      "source": [
        "## 소숫점 제거"
      ],
      "metadata": {
        "id": "g2NX_djgjtjn"
      }
    },
    {
      "cell_type": "code",
      "source": [
        "array01 = np.trunc([-1.23, 1.23])\n",
        "array01"
      ],
      "metadata": {
        "colab": {
          "base_uri": "https://localhost:8080/"
        },
        "id": "7v_QVAvWjwHr",
        "outputId": "96f0ff6e-d20c-45a8-f7f6-704ae5b78116"
      },
      "execution_count": 66,
      "outputs": [
        {
          "output_type": "execute_result",
          "data": {
            "text/plain": [
              "array([-1.,  1.])"
            ]
          },
          "metadata": {},
          "execution_count": 66
        }
      ]
    },
    {
      "cell_type": "code",
      "source": [
        "array01 = np.round([-1.235231312, 1.231231231], 3)\n",
        "array01"
      ],
      "metadata": {
        "colab": {
          "base_uri": "https://localhost:8080/"
        },
        "id": "yqPa0Serj5xH",
        "outputId": "81d14897-3e50-4cc6-ba09-64430c269453"
      },
      "execution_count": 68,
      "outputs": [
        {
          "output_type": "execute_result",
          "data": {
            "text/plain": [
              "array([-1.235,  1.231])"
            ]
          },
          "metadata": {},
          "execution_count": 68
        }
      ]
    },
    {
      "cell_type": "code",
      "source": [
        "array01 = np.floor([-1.235231312, 1.231231231])\n",
        "array01"
      ],
      "metadata": {
        "colab": {
          "base_uri": "https://localhost:8080/"
        },
        "id": "MUSraTuukFIn",
        "outputId": "85e7eea0-a1f9-472d-e107-2d6982575d28"
      },
      "execution_count": 70,
      "outputs": [
        {
          "output_type": "execute_result",
          "data": {
            "text/plain": [
              "array([-2.,  1.])"
            ]
          },
          "metadata": {},
          "execution_count": 70
        }
      ]
    },
    {
      "cell_type": "code",
      "source": [
        "array01 = np.ceil([-1.235231312, 1.231231231])\n",
        "array01"
      ],
      "metadata": {
        "colab": {
          "base_uri": "https://localhost:8080/"
        },
        "id": "92CZap5GkLo2",
        "outputId": "5d033ac4-4fe8-44f9-c562-5f72369acb62"
      },
      "execution_count": 71,
      "outputs": [
        {
          "output_type": "execute_result",
          "data": {
            "text/plain": [
              "array([-1.,  2.])"
            ]
          },
          "metadata": {},
          "execution_count": 71
        }
      ]
    },
    {
      "cell_type": "markdown",
      "source": [
        "## NumPy 조건식\n",
        "- numpy.select() : 다중조건문\n",
        "- numpy.where() : 단일조건문"
      ],
      "metadata": {
        "id": "vXH4J4aWkj9H"
      }
    },
    {
      "cell_type": "code",
      "source": [
        "array01 = np.arange(10)\n",
        "array01"
      ],
      "metadata": {
        "colab": {
          "base_uri": "https://localhost:8080/"
        },
        "id": "R8-EJ9nvkxB5",
        "outputId": "9795f768-1f34-408e-aaaf-3ed1d12e6d48"
      },
      "execution_count": 73,
      "outputs": [
        {
          "output_type": "execute_result",
          "data": {
            "text/plain": [
              "array([0, 1, 2, 3, 4, 5, 6, 7, 8, 9])"
            ]
          },
          "metadata": {},
          "execution_count": 73
        }
      ]
    },
    {
      "cell_type": "code",
      "source": [
        "# 배열에서 5 미만이면, 원래 값 반환, 그외에는 원래 값 * 100\n",
        "import numpy as np\n",
        "#         조건식        참        거짓\n",
        "np.where(array01 < 5, array01, array01 * 100)"
      ],
      "metadata": {
        "colab": {
          "base_uri": "https://localhost:8080/"
        },
        "id": "gjBCPiJYk7r-",
        "outputId": "bf5f910b-f1c3-4c63-f6ce-571a2333559b"
      },
      "execution_count": 74,
      "outputs": [
        {
          "output_type": "execute_result",
          "data": {
            "text/plain": [
              "array([  0,   1,   2,   3,   4, 500, 600, 700, 800, 900])"
            ]
          },
          "metadata": {},
          "execution_count": 74
        }
      ]
    },
    {
      "cell_type": "markdown",
      "source": [
        "- 다중조건문"
      ],
      "metadata": {
        "id": "fCjIxZBKlkkP"
      }
    },
    {
      "cell_type": "code",
      "source": [
        "# 배열에서 3 미만이면, 원래 값 + 10, 7 이상이면 * 100, 그외에는 원래 값\n",
        "cond_list = [array01 < 3, array01 >= 7]\n",
        "result_list = [array01 + 10, array01 * 100]\n",
        "\n",
        "np.select(cond_list, result_list, default = array01)\n",
        "# np.select(조건리스트, 결과리스트, default 값)"
      ],
      "metadata": {
        "colab": {
          "base_uri": "https://localhost:8080/"
        },
        "id": "R_ap0OjJlmiy",
        "outputId": "a1310f36-e20e-4b7b-a54a-0c92ab7dca86"
      },
      "execution_count": 75,
      "outputs": [
        {
          "output_type": "execute_result",
          "data": {
            "text/plain": [
              "array([ 10,  11,  12,   3,   4,   5,   6, 700, 800, 900])"
            ]
          },
          "metadata": {},
          "execution_count": 75
        }
      ]
    }
  ]
}