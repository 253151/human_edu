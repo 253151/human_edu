{
  "nbformat": 4,
  "nbformat_minor": 0,
  "metadata": {
    "colab": {
      "provenance": [],
      "collapsed_sections": [
        "lsy4EJx98z9j",
        "xeLAEIhJIPmW"
      ],
      "toc_visible": true
    },
    "kernelspec": {
      "name": "python3",
      "display_name": "Python 3"
    },
    "language_info": {
      "name": "python"
    }
  },
  "cells": [
    {
      "cell_type": "markdown",
      "source": [
        "## 기초문법"
      ],
      "metadata": {
        "id": "02_cpr1Y6EvV"
      }
    },
    {
      "cell_type": "markdown",
      "source": [
        "\n",
        "\n",
        "\n",
        "### 파이썬 확장자명\n",
        "- .py : 개발용\n",
        "- .ipynb : 분석가, 데이터 싸이언티스트, 강의용\n",
        "    + 주피터 노트북, 주피터 랩\n"
      ],
      "metadata": {
        "id": "PD-oHnGd2JSM"
      }
    },
    {
      "cell_type": "code",
      "source": [
        "1+1"
      ],
      "metadata": {
        "colab": {
          "base_uri": "https://localhost:8080/"
        },
        "id": "bMV1d0PU2BO0",
        "outputId": "f2c471c9-96b0-4bc4-97dd-f4ac357c2552"
      },
      "execution_count": null,
      "outputs": [
        {
          "output_type": "execute_result",
          "data": {
            "text/plain": [
              "2"
            ]
          },
          "metadata": {},
          "execution_count": 113
        }
      ]
    },
    {
      "cell_type": "code",
      "source": [
        "print(\"Hello, World\")"
      ],
      "metadata": {
        "colab": {
          "base_uri": "https://localhost:8080/"
        },
        "id": "zavDY8ZT40N6",
        "outputId": "f57e7dee-c8df-4431-988e-8f51ae329535"
      },
      "execution_count": null,
      "outputs": [
        {
          "output_type": "stream",
          "name": "stdout",
          "text": [
            "Hello, World\n"
          ]
        }
      ]
    },
    {
      "cell_type": "markdown",
      "source": [
        "## 주석 처리\n",
        "- 한줄 주석 처리\n",
        "- 여러줄 주석 처리"
      ],
      "metadata": {
        "id": "meMFEn_j48Pb"
      }
    },
    {
      "cell_type": "code",
      "source": [
        "# 한줄 주석 처리\n",
        "\n",
        "print(\"Hello\")"
      ],
      "metadata": {
        "colab": {
          "base_uri": "https://localhost:8080/"
        },
        "id": "ySGxYD1t4_tz",
        "outputId": "2c355ec0-dd82-40b1-d107-8f62548e036f"
      },
      "execution_count": null,
      "outputs": [
        {
          "output_type": "stream",
          "name": "stdout",
          "text": [
            "Hello\n"
          ]
        }
      ]
    },
    {
      "cell_type": "code",
      "source": [
        "'''\n",
        "여러줄 주석 처리\n",
        "print(\"Hello\")\n",
        "'''"
      ],
      "metadata": {
        "colab": {
          "base_uri": "https://localhost:8080/",
          "height": 35
        },
        "id": "wzKiCg795IuC",
        "outputId": "f3bfcbc3-1313-4c9e-a4fa-0eeb7f0e64cb"
      },
      "execution_count": null,
      "outputs": [
        {
          "output_type": "execute_result",
          "data": {
            "text/plain": [
              "'\\n여러줄 주석 처리\\nprint(\"Hello\")\\n'"
            ],
            "application/vnd.google.colaboratory.intrinsic+json": {
              "type": "string"
            }
          },
          "metadata": {},
          "execution_count": 5
        }
      ]
    },
    {
      "cell_type": "markdown",
      "source": [
        "ipynv 파일을 md + 이미지 같이 변환 가능 \n",
        "  -->노션에서"
      ],
      "metadata": {
        "id": "dJHaCI_q9EHz"
      }
    },
    {
      "cell_type": "markdown",
      "source": [
        "## 그림"
      ],
      "metadata": {
        "id": "lsy4EJx98z9j"
      }
    },
    {
      "cell_type": "code",
      "source": [
        "import matplotlib.pyplot as plt\n",
        "\n",
        "plt.plot([1,2,3])\n",
        "plt.show"
      ],
      "metadata": {
        "colab": {
          "base_uri": "https://localhost:8080/",
          "height": 283
        },
        "id": "j1vVvWL483r8",
        "outputId": "51515fec-108a-4b96-b2a1-62d4a07e7143"
      },
      "execution_count": null,
      "outputs": [
        {
          "output_type": "execute_result",
          "data": {
            "text/plain": [
              "<function matplotlib.pyplot.show(*args, **kw)>"
            ]
          },
          "metadata": {},
          "execution_count": 76
        },
        {
          "output_type": "display_data",
          "data": {
            "text/plain": [
              "<Figure size 432x288 with 1 Axes>"
            ],
            "image/png": "[encoded data removed]"
          },
          "metadata": {
            "needs_background": "light"
          }
        }
      ]
    },
    {
      "cell_type": "markdown",
      "source": [
        "## 변수의 종류\n",
        "- 변수의 종류 : 숫자, 문자, 논리(True,False), NULL"
      ],
      "metadata": {
        "id": "9683J6xq9X5D"
      }
    },
    {
      "cell_type": "code",
      "source": [
        "# 정수형\n",
        "num_int = 1\n",
        "print(num_int)\n",
        "print(type(num_int))"
      ],
      "metadata": {
        "colab": {
          "base_uri": "https://localhost:8080/"
        },
        "id": "5OXn5IPE9mgc",
        "outputId": "8b1f0293-4071-41fb-c174-6b6d3e56c872"
      },
      "execution_count": null,
      "outputs": [
        {
          "output_type": "stream",
          "name": "stdout",
          "text": [
            "1\n",
            "<class 'int'>\n"
          ]
        }
      ]
    },
    {
      "cell_type": "code",
      "source": [
        "# 실수형\n",
        "num_float = 0.2\n",
        "print(num_float)\n",
        "print(type(num_float))"
      ],
      "metadata": {
        "colab": {
          "base_uri": "https://localhost:8080/"
        },
        "id": "fY0ezRI091lb",
        "outputId": "35241ac1-c3b6-4a7c-f944-7665b70bce90"
      },
      "execution_count": null,
      "outputs": [
        {
          "output_type": "stream",
          "name": "stdout",
          "text": [
            "0.2\n",
            "<class 'float'>\n"
          ]
        }
      ]
    },
    {
      "cell_type": "code",
      "source": [
        "# 논리 자료형\n",
        "bool_true = False\n",
        "print(bool_true)\n",
        "print(type(bool_true))"
      ],
      "metadata": {
        "colab": {
          "base_uri": "https://localhost:8080/"
        },
        "id": "f0SWOax7-igL",
        "outputId": "4b3bbc74-1ad3-4aa2-c864-6a6cd3ac7c7d"
      },
      "execution_count": null,
      "outputs": [
        {
          "output_type": "stream",
          "name": "stdout",
          "text": [
            "False\n",
            "<class 'bool'>\n"
          ]
        }
      ]
    },
    {
      "cell_type": "code",
      "source": [
        "# NULL 자료형\n",
        "none_x = None\n",
        "print(none_x)\n",
        "print(type(none_x))"
      ],
      "metadata": {
        "colab": {
          "base_uri": "https://localhost:8080/"
        },
        "id": "NOjXVgos-wKE",
        "outputId": "b867e351-dec5-45a9-84fe-1a2f0aa22681"
      },
      "execution_count": null,
      "outputs": [
        {
          "output_type": "stream",
          "name": "stdout",
          "text": [
            "None\n",
            "<class 'NoneType'>\n"
          ]
        }
      ]
    },
    {
      "cell_type": "markdown",
      "source": [
        "### 4가지 자료형 : Scalar 자료형\n",
        "- int, float, bool, NoneType\n",
        "- 더는 나눌 수 없는 최소 단위의 자료형\n",
        "  + 이 객체 하나로는 반복문 사용이 불가\n",
        "  "
      ],
      "metadata": {
        "id": "edq3Dazl_DNq"
      }
    },
    {
      "cell_type": "markdown",
      "source": [
        "## 정수형 사칙 연산\n",
        "- 결괏값의 자료형 확인\n",
        "- 특이한 사칙연산자 하나 있음 (나눗셈=>실수형으로 결과가 나옴)"
      ],
      "metadata": {
        "id": "X-QWqEET_yzM"
      }
    },
    {
      "cell_type": "code",
      "source": [
        "a = 3\n",
        "b = 2\n",
        "\n",
        "c = a / b \n",
        "print(c)\n",
        "print(type(c))"
      ],
      "metadata": {
        "colab": {
          "base_uri": "https://localhost:8080/"
        },
        "id": "3ga2ttIB_7s9",
        "outputId": "17c8fe40-0dc6-45ce-ffd2-b64148c9afed"
      },
      "execution_count": null,
      "outputs": [
        {
          "output_type": "stream",
          "name": "stdout",
          "text": [
            "1.5\n",
            "<class 'float'>\n"
          ]
        }
      ]
    },
    {
      "cell_type": "markdown",
      "source": [
        "## 실수형 사칙 연산\n",
        "- 결괏값의 자료형 확인"
      ],
      "metadata": {
        "id": "2035_SlnAn4j"
      }
    },
    {
      "cell_type": "code",
      "source": [
        "a = 4.0\n",
        "b = 2.0\n",
        "\n",
        "c = a * b\n",
        "print(c)\n",
        "print(type(c))"
      ],
      "metadata": {
        "colab": {
          "base_uri": "https://localhost:8080/"
        },
        "id": "9ByF8j6SArm8",
        "outputId": "0c8db703-2d49-41e8-e2d8-baaa77805ccc"
      },
      "execution_count": null,
      "outputs": [
        {
          "output_type": "stream",
          "name": "stdout",
          "text": [
            "8.0\n",
            "<class 'float'>\n"
          ]
        }
      ]
    },
    {
      "cell_type": "markdown",
      "source": [
        "## 논리형 연산자\n",
        "- AND / OR / NOT (옵션)"
      ],
      "metadata": {
        "id": "Qgn_5rEbA8bD"
      }
    },
    {
      "cell_type": "code",
      "source": [
        "print(True and True)\n",
        "print(True and False)\n",
        "print(False or True)\n",
        "print(False or False)"
      ],
      "metadata": {
        "colab": {
          "base_uri": "https://localhost:8080/"
        },
        "id": "YW8blO-KBBYD",
        "outputId": "97da2822-292e-482d-a2b0-984d8a90af8f"
      },
      "execution_count": null,
      "outputs": [
        {
          "output_type": "stream",
          "name": "stdout",
          "text": [
            "True\n",
            "False\n",
            "True\n",
            "False\n"
          ]
        }
      ]
    },
    {
      "cell_type": "markdown",
      "source": [
        "## 부등호 연산자\n",
        "- `>`,`<`,`>=`,`<=`"
      ],
      "metadata": {
        "id": "66VdneXGBcwj"
      }
    },
    {
      "cell_type": "code",
      "source": [
        "print(3>=3)\n",
        "print(3>=4)\n",
        "print(3<3)\n"
      ],
      "metadata": {
        "colab": {
          "base_uri": "https://localhost:8080/"
        },
        "id": "dkt7reafBmxT",
        "outputId": "5468e485-50a0-41b6-d5e3-2e1a50bc6fd8"
      },
      "execution_count": null,
      "outputs": [
        {
          "output_type": "stream",
          "name": "stdout",
          "text": [
            "True\n",
            "False\n",
            "False\n"
          ]
        }
      ]
    },
    {
      "cell_type": "markdown",
      "source": [
        "## 두 개의 값 비교\n",
        "- 입력받아서 True, False가 나오도록 간단한 프로그램 작성\n",
        "- 형 변환 배우기"
      ],
      "metadata": {
        "id": "tmv9vwjcB9FT"
      }
    },
    {
      "cell_type": "code",
      "source": [
        "var = input(\"값을 입력해주세요>> \")\n",
        "print(var)\n",
        "print(type(var))"
      ],
      "metadata": {
        "colab": {
          "base_uri": "https://localhost:8080/"
        },
        "id": "rqdSNbnQCKqU",
        "outputId": "ec3ba1ac-bd11-40cc-a6b6-c42b36fb6124"
      },
      "execution_count": null,
      "outputs": [
        {
          "output_type": "stream",
          "name": "stdout",
          "text": [
            "값을 입력해주세요>> 1\n",
            "1\n",
            "<class 'str'>\n"
          ]
        }
      ]
    },
    {
      "cell_type": "code",
      "source": [
        "var1 = int(input(\"값을 입력해주세요>> \"))\n",
        "var2 = int(input(\"값을 입력해주세요>> \"))\n",
        "\n",
        "print(var1+var2)"
      ],
      "metadata": {
        "colab": {
          "base_uri": "https://localhost:8080/"
        },
        "id": "Hjc-9aGlCyGM",
        "outputId": "148fec24-5634-4dfa-a9fb-b0f27024a521"
      },
      "execution_count": null,
      "outputs": [
        {
          "output_type": "stream",
          "name": "stdout",
          "text": [
            "값을 입력해주세요>> 1\n",
            "값을 입력해주세요>> 2\n",
            "12\n"
          ]
        }
      ]
    },
    {
      "cell_type": "code",
      "source": [
        "print(var1 > var2)"
      ],
      "metadata": {
        "colab": {
          "base_uri": "https://localhost:8080/"
        },
        "id": "-4A9794nDaML",
        "outputId": "2987e804-1516-4fb1-cc4f-d6a48765903c"
      },
      "execution_count": null,
      "outputs": [
        {
          "output_type": "stream",
          "name": "stdout",
          "text": [
            "False\n"
          ]
        }
      ]
    },
    {
      "cell_type": "markdown",
      "source": [
        "# 오후 수업의 목표\n",
        "- 파이썬 함수 (=Methods) 사용법 익히기\n",
        "- 관련 문서 확인하기"
      ],
      "metadata": {
        "id": "vi7r0B4zx1IC"
      }
    },
    {
      "cell_type": "code",
      "source": [
        "# Capitallize\n",
        "text = 'i love YOU' #str 클래스 객체\n",
        "print(type(text))\n",
        "result = text.capitalize()\n",
        "print(result)"
      ],
      "metadata": {
        "colab": {
          "base_uri": "https://localhost:8080/"
        },
        "id": "-9W11K-_x99C",
        "outputId": "4012d8bd-eb38-487a-8238-d25579fb302c"
      },
      "execution_count": null,
      "outputs": [
        {
          "output_type": "stream",
          "name": "stdout",
          "text": [
            "<class 'str'>\n",
            "I love you\n"
          ]
        }
      ]
    },
    {
      "cell_type": "code",
      "source": [
        "text = '   python is best   '\n",
        "print(text)\n",
        "result = text.strip()\n",
        "print(result)"
      ],
      "metadata": {
        "colab": {
          "base_uri": "https://localhost:8080/"
        },
        "id": "NZbLJyM4zNxz",
        "outputId": "177102ca-344e-4b25-c5bd-40fcdbc6730f"
      },
      "execution_count": null,
      "outputs": [
        {
          "output_type": "stream",
          "name": "stdout",
          "text": [
            "   python is best   \n",
            "python is best\n"
          ]
        }
      ]
    },
    {
      "cell_type": "code",
      "source": [
        "# split\n",
        "# 문장을 분리하는 메서드\n",
        "text = \"이에 한국의 고교과정에 해당하는 러시아 10~11학년 학생들은 ‘생활안전의 기본’ 교과목에서 러시아제 소총을 다루는 방법과 수류탄 작동 원리, 응급 처치 등을 배우게 됐다.\"\n",
        "result = text.split(' ')\n",
        "result"
      ],
      "metadata": {
        "colab": {
          "base_uri": "https://localhost:8080/"
        },
        "id": "i6kOGycI2P0E",
        "outputId": "8caee140-5ef2-4e15-e1a5-dc2e5d237bad"
      },
      "execution_count": null,
      "outputs": [
        {
          "output_type": "execute_result",
          "data": {
            "text/plain": [
              "['이에',\n",
              " '한국의',\n",
              " '고교과정에',\n",
              " '해당하는',\n",
              " '러시아',\n",
              " '10~11학년',\n",
              " '학생들은',\n",
              " '‘생활안전의',\n",
              " '기본’',\n",
              " '교과목에서',\n",
              " '러시아제',\n",
              " '소총을',\n",
              " '다루는',\n",
              " '방법과',\n",
              " '수류탄',\n",
              " '작동',\n",
              " '원리,',\n",
              " '응급',\n",
              " '처치',\n",
              " '등을',\n",
              " '배우게',\n",
              " '됐다.']"
            ]
          },
          "metadata": {},
          "execution_count": 42
        }
      ]
    },
    {
      "cell_type": "markdown",
      "source": [
        "## 리스트 자료형"
      ],
      "metadata": {
        "id": "qoUZdNOw5DYE"
      }
    },
    {
      "cell_type": "code",
      "source": [
        "a = [100,200,300]\n",
        "result = a. append(400)\n",
        "print(a)\n",
        "print(result)"
      ],
      "metadata": {
        "colab": {
          "base_uri": "https://localhost:8080/"
        },
        "id": "ATSttlWe5GDj",
        "outputId": "89f566f4-ac10-41f0-8a31-a34b2483278e"
      },
      "execution_count": null,
      "outputs": [
        {
          "output_type": "stream",
          "name": "stdout",
          "text": [
            "[100, 200, 300, 400]\n",
            "None\n"
          ]
        }
      ]
    },
    {
      "cell_type": "code",
      "source": [
        "a = [100,200,300]\n",
        "b = [400, 500, 600]\n",
        "\n",
        "# 반복문 활용 (복잡)\n",
        "# extend()\n",
        "a.extend(b)\n",
        "\n",
        "print(a)"
      ],
      "metadata": {
        "id": "wXM_Ulvv_foU"
      },
      "execution_count": null,
      "outputs": []
    },
    {
      "cell_type": "markdown",
      "source": [
        "- 리스트 중간에 새로운 값을 추가"
      ],
      "metadata": {
        "id": "L_hkg44j_vm8"
      }
    },
    {
      "cell_type": "code",
      "source": [
        "# insert()\n",
        "a = [100,200,300]\n",
        "\n",
        "# 100과 200 사이에 150을 추가\n",
        "a.insert(1, 150)\n",
        "print(a)"
      ],
      "metadata": {
        "colab": {
          "base_uri": "https://localhost:8080/"
        },
        "id": "uAs5bs1C_zXj",
        "outputId": "497b8a22-c8ff-4025-8013-880d76c421de"
      },
      "execution_count": null,
      "outputs": [
        {
          "output_type": "stream",
          "name": "stdout",
          "text": [
            "[100, 150, 200, 300]\n"
          ]
        }
      ]
    },
    {
      "cell_type": "markdown",
      "source": [
        "### 리스트 내 특정 값 삭제"
      ],
      "metadata": {
        "id": "NoXYSKs8AnYb"
      }
    },
    {
      "cell_type": "code",
      "source": [
        "a = [1,2,1,2]\n",
        "a.remove(1)\n",
        "print(a)\n",
        "\n",
        "a.remove(1)\n",
        "print(a)"
      ],
      "metadata": {
        "colab": {
          "base_uri": "https://localhost:8080/"
        },
        "id": "oIhImvIRArVk",
        "outputId": "b5d3cacf-b073-4fd1-9637-4ee7996e3a29"
      },
      "execution_count": null,
      "outputs": [
        {
          "output_type": "stream",
          "name": "stdout",
          "text": [
            "[2, 1, 2]\n",
            "[2, 2]\n"
          ]
        }
      ]
    },
    {
      "cell_type": "code",
      "source": [
        "a = [0,1,2,3,4,5,6,7,8,9]\n",
        "\n",
        "# 1 삭제\n",
        "del a[1] # -- 인덱스번호\n",
        "\n",
        "print(a)\n",
        "\n",
        "# 범위로 삭제\n",
        "del a[1:5] # -- 1번째부터 다섯번째까지 삭제 \n",
        "print(a)"
      ],
      "metadata": {
        "colab": {
          "base_uri": "https://localhost:8080/"
        },
        "id": "bOSX2SXMBXuE",
        "outputId": "9170d32b-6ad6-4276-86b2-be67ba525ff4"
      },
      "execution_count": null,
      "outputs": [
        {
          "output_type": "stream",
          "name": "stdout",
          "text": [
            "[0, 2, 3, 4, 5, 6, 7, 8, 9]\n",
            "[0, 6, 7, 8, 9]\n"
          ]
        }
      ]
    },
    {
      "cell_type": "markdown",
      "source": [
        "- 전체 다 지우기"
      ],
      "metadata": {
        "id": "2ga6Vd4FCJps"
      }
    },
    {
      "cell_type": "code",
      "source": [
        "a = [1,1,1,1,1,1]\n",
        "print(a)\n",
        "\n",
        "a.clear()\n",
        "print(a)"
      ],
      "metadata": {
        "colab": {
          "base_uri": "https://localhost:8080/"
        },
        "id": "VenCPygrCIMG",
        "outputId": "cbab26fb-d32b-4061-834e-e6035ea82418"
      },
      "execution_count": null,
      "outputs": [
        {
          "output_type": "stream",
          "name": "stdout",
          "text": [
            "[1, 1, 1, 1, 1, 1]\n",
            "[]\n"
          ]
        }
      ]
    },
    {
      "cell_type": "code",
      "source": [
        "a = [\"Gold\", \"Gold\", \"Silver\", \"Silver\"]\n",
        "\n",
        "# Silver가 처음 등장하는 인덱스 번호 찾기\n",
        "print(a.index(\"Silver\"))"
      ],
      "metadata": {
        "colab": {
          "base_uri": "https://localhost:8080/"
        },
        "id": "ws1TNl5cCfqN",
        "outputId": "17775521-adcc-462e-bf62-b4f93f0aa279"
      },
      "execution_count": null,
      "outputs": [
        {
          "output_type": "stream",
          "name": "stdout",
          "text": [
            "2\n"
          ]
        }
      ]
    },
    {
      "cell_type": "markdown",
      "source": [
        "- 정렬"
      ],
      "metadata": {
        "id": "Np-L3pGJC1Ur"
      }
    },
    {
      "cell_type": "code",
      "source": [
        "a = [1,6,5,2,3,4]\n",
        "a.sort()\n",
        "print(a)"
      ],
      "metadata": {
        "colab": {
          "base_uri": "https://localhost:8080/"
        },
        "id": "UWZwoHsuC4W8",
        "outputId": "e36eb308-6de4-4881-86be-42b0c5e9c8a7"
      },
      "execution_count": null,
      "outputs": [
        {
          "output_type": "stream",
          "name": "stdout",
          "text": [
            "[1, 2, 3, 4, 5, 6]\n"
          ]
        }
      ]
    },
    {
      "cell_type": "code",
      "source": [
        "# 내림차순으로 정렬\n",
        "a = [1,6,5,2,3,4]\n",
        "a.sort(reverse=True)\n",
        "print(a)"
      ],
      "metadata": {
        "colab": {
          "base_uri": "https://localhost:8080/"
        },
        "id": "Y5H1b0UvEJyO",
        "outputId": "9ab046af-9193-4b4a-ecca-1e2773a680ef"
      },
      "execution_count": null,
      "outputs": [
        {
          "output_type": "stream",
          "name": "stdout",
          "text": [
            "[6, 5, 4, 3, 2, 1]\n"
          ]
        }
      ]
    },
    {
      "cell_type": "code",
      "source": [
        "a = [1,6,5,2,3,4]\n",
        "print(min(a)) # 최솟값\n",
        "print(max(a)) # 최댓값\n",
        "print(len(a)) # a의 길이"
      ],
      "metadata": {
        "colab": {
          "base_uri": "https://localhost:8080/"
        },
        "id": "TsoNkFg9C-wE",
        "outputId": "a9e9ce90-482f-49f4-ba2b-073796bdc86c"
      },
      "execution_count": null,
      "outputs": [
        {
          "output_type": "stream",
          "name": "stdout",
          "text": [
            "1\n",
            "6\n",
            "6\n"
          ]
        }
      ]
    },
    {
      "cell_type": "markdown",
      "source": [
        "## 튜플\n",
        "- 튜플 생성"
      ],
      "metadata": {
        "id": "9RFCu1TFGDj9"
      }
    },
    {
      "cell_type": "code",
      "source": [
        "tuple1 = (0, )\n",
        "tuple2 = (0,1,2)\n",
        "tuple3 = 0,1,2,3\n",
        "\n",
        "print(tuple1)\n",
        "print(tuple2)\n",
        "print(tuple3)\n",
        "\n",
        "print(type(tuple1))\n",
        "print(type(tuple2))\n",
        "print(type(tuple3))"
      ],
      "metadata": {
        "colab": {
          "base_uri": "https://localhost:8080/"
        },
        "id": "0sRbQbmGGGln",
        "outputId": "5a6d6e49-97f4-484e-e028-8fd2fb49277d"
      },
      "execution_count": null,
      "outputs": [
        {
          "output_type": "stream",
          "name": "stdout",
          "text": [
            "(0,)\n",
            "(0, 1, 2)\n",
            "(0, 1, 2, 3)\n",
            "<class 'tuple'>\n",
            "<class 'tuple'>\n",
            "<class 'tuple'>\n"
          ]
        }
      ]
    },
    {
      "cell_type": "code",
      "source": [
        "tuple0 = (1)\n",
        "print(tuple0)\n",
        "print(type(tuple0))"
      ],
      "metadata": {
        "colab": {
          "base_uri": "https://localhost:8080/"
        },
        "id": "N9G_XEUcGgc1",
        "outputId": "d27dcd75-a68c-41a1-9458-2ee39f12dad5"
      },
      "execution_count": null,
      "outputs": [
        {
          "output_type": "stream",
          "name": "stdout",
          "text": [
            "1\n",
            "<class 'int'>\n"
          ]
        }
      ]
    },
    {
      "cell_type": "code",
      "source": [
        "a = (0, 1, 2, 'A')\n",
        "print(a)\n",
        "\n",
        "a.remove('A')\n",
        "\n",
        "print(a)"
      ],
      "metadata": {
        "colab": {
          "base_uri": "https://localhost:8080/",
          "height": 266
        },
        "id": "eDGVdP0HGwvc",
        "outputId": "8564d487-c857-4ad7-e93c-5a78d1f1de2e"
      },
      "execution_count": null,
      "outputs": [
        {
          "output_type": "stream",
          "name": "stdout",
          "text": [
            "(0, 1, 2, 'A')\n"
          ]
        },
        {
          "output_type": "error",
          "ename": "AttributeError",
          "evalue": "ignored",
          "traceback": [
            "\u001b[0;31m---------------------------------------------------------------------------\u001b[0m",
            "\u001b[0;31mAttributeError\u001b[0m                            Traceback (most recent call last)",
            "\u001b[0;32m<ipython-input-73-c2a5dc5139f5>\u001b[0m in \u001b[0;36m<module>\u001b[0;34m\u001b[0m\n\u001b[1;32m      2\u001b[0m \u001b[0mprint\u001b[0m\u001b[0;34m(\u001b[0m\u001b[0ma\u001b[0m\u001b[0;34m)\u001b[0m\u001b[0;34m\u001b[0m\u001b[0;34m\u001b[0m\u001b[0m\n\u001b[1;32m      3\u001b[0m \u001b[0;34m\u001b[0m\u001b[0m\n\u001b[0;32m----> 4\u001b[0;31m \u001b[0ma\u001b[0m\u001b[0;34m.\u001b[0m\u001b[0mremove\u001b[0m\u001b[0;34m(\u001b[0m\u001b[0;34m'A'\u001b[0m\u001b[0;34m)\u001b[0m\u001b[0;34m\u001b[0m\u001b[0;34m\u001b[0m\u001b[0m\n\u001b[0m\u001b[1;32m      5\u001b[0m \u001b[0;34m\u001b[0m\u001b[0m\n\u001b[1;32m      6\u001b[0m \u001b[0mprint\u001b[0m\u001b[0;34m(\u001b[0m\u001b[0ma\u001b[0m\u001b[0;34m)\u001b[0m\u001b[0;34m\u001b[0m\u001b[0;34m\u001b[0m\u001b[0m\n",
            "\u001b[0;31mAttributeError\u001b[0m: 'tuple' object has no attribute 'remove'"
          ]
        }
      ]
    },
    {
      "cell_type": "code",
      "source": [
        "a = (0, 1, 2, 'A')\n",
        "\n",
        "del a[3]\n",
        "print(a)"
      ],
      "metadata": {
        "colab": {
          "base_uri": "https://localhost:8080/",
          "height": 229
        },
        "id": "yKwhwwAzHkYs",
        "outputId": "01db3a34-a82c-45b9-8c47-d7dfcbe7246f"
      },
      "execution_count": null,
      "outputs": [
        {
          "output_type": "error",
          "ename": "TypeError",
          "evalue": "ignored",
          "traceback": [
            "\u001b[0;31m---------------------------------------------------------------------------\u001b[0m",
            "\u001b[0;31mTypeError\u001b[0m                                 Traceback (most recent call last)",
            "\u001b[0;32m<ipython-input-74-d375b9119a43>\u001b[0m in \u001b[0;36m<module>\u001b[0;34m\u001b[0m\n\u001b[1;32m      1\u001b[0m \u001b[0ma\u001b[0m \u001b[0;34m=\u001b[0m \u001b[0;34m(\u001b[0m\u001b[0;36m0\u001b[0m\u001b[0;34m,\u001b[0m \u001b[0;36m1\u001b[0m\u001b[0;34m,\u001b[0m \u001b[0;36m2\u001b[0m\u001b[0;34m,\u001b[0m \u001b[0;34m'A'\u001b[0m\u001b[0;34m)\u001b[0m\u001b[0;34m\u001b[0m\u001b[0;34m\u001b[0m\u001b[0m\n\u001b[1;32m      2\u001b[0m \u001b[0;34m\u001b[0m\u001b[0m\n\u001b[0;32m----> 3\u001b[0;31m \u001b[0;32mdel\u001b[0m \u001b[0ma\u001b[0m\u001b[0;34m[\u001b[0m\u001b[0;36m3\u001b[0m\u001b[0;34m]\u001b[0m\u001b[0;34m\u001b[0m\u001b[0;34m\u001b[0m\u001b[0m\n\u001b[0m\u001b[1;32m      4\u001b[0m \u001b[0mprint\u001b[0m\u001b[0;34m(\u001b[0m\u001b[0ma\u001b[0m\u001b[0;34m)\u001b[0m\u001b[0;34m\u001b[0m\u001b[0;34m\u001b[0m\u001b[0m\n",
            "\u001b[0;31mTypeError\u001b[0m: 'tuple' object doesn't support item deletion"
          ]
        }
      ]
    },
    {
      "cell_type": "markdown",
      "source": [
        "### 튜플 인덱싱 및 슬라이싱"
      ],
      "metadata": {
        "id": "xeLAEIhJIPmW"
      }
    },
    {
      "cell_type": "code",
      "source": [
        "tuple0 = (0,1,2,3,4,5,6,7,8,9)\n",
        "print(tuple0[2])\n",
        "print(tuple0[::3])"
      ],
      "metadata": {
        "colab": {
          "base_uri": "https://localhost:8080/"
        },
        "id": "cR3JG2VsISm_",
        "outputId": "cbc0b833-1dec-4cd3-b56e-a99de5b3d207"
      },
      "execution_count": null,
      "outputs": [
        {
          "output_type": "stream",
          "name": "stdout",
          "text": [
            "2\n",
            "(0, 3, 6, 9)\n"
          ]
        }
      ]
    },
    {
      "cell_type": "markdown",
      "source": [
        "## 딕셔너리\n",
        "- JSON과 유사한 자료형"
      ],
      "metadata": {
        "id": "K966YtgTNdS2"
      }
    },
    {
      "cell_type": "code",
      "source": [
        "# {key:value}\n",
        "numbers = {1 : \"One\", 2 : \"Two\", 3 : \"Three\"}\n",
        "print(numbers)"
      ],
      "metadata": {
        "colab": {
          "base_uri": "https://localhost:8080/"
        },
        "id": "MkfesB8nNhT6",
        "outputId": "dc6c6cb4-1843-4060-90f0-053e75b00679"
      },
      "execution_count": null,
      "outputs": [
        {
          "output_type": "stream",
          "name": "stdout",
          "text": [
            "{1: 'One', 2: 'Two', 3: 'Three'}\n"
          ]
        }
      ]
    },
    {
      "cell_type": "code",
      "source": [
        "country_capital = {\"한국\":\"서울\", \"일본\":\"동경\", \"중국\":\"북경\"}\n",
        "print(country_capital)"
      ],
      "metadata": {
        "colab": {
          "base_uri": "https://localhost:8080/"
        },
        "id": "8d3kAIA5NxY9",
        "outputId": "a1889f13-d158-4b2f-9c3a-19f9dafaaa52"
      },
      "execution_count": null,
      "outputs": [
        {
          "output_type": "stream",
          "name": "stdout",
          "text": [
            "{'한국': '서울', '일본': '동경', '중국': '북경'}\n"
          ]
        }
      ]
    },
    {
      "cell_type": "code",
      "source": [
        "print(numbers[1])\n",
        "print(country_capital['한국'])"
      ],
      "metadata": {
        "colab": {
          "base_uri": "https://localhost:8080/"
        },
        "id": "0JdUsOv4OH8V",
        "outputId": "4e3deeea-3677-4882-e946-beeffe369150"
      },
      "execution_count": null,
      "outputs": [
        {
          "output_type": "stream",
          "name": "stdout",
          "text": [
            "One\n",
            "서울\n"
          ]
        }
      ]
    },
    {
      "cell_type": "code",
      "source": [
        "numbers[4] = 'four'\n",
        "print(numbers)\n",
        "\n",
        "country_capital['미국'] = '뉴욕'\n",
        "print(country_capital)"
      ],
      "metadata": {
        "colab": {
          "base_uri": "https://localhost:8080/"
        },
        "id": "_shg628uOVYl",
        "outputId": "c5a4c31c-e3d0-4393-9461-6c4bbd447d12"
      },
      "execution_count": null,
      "outputs": [
        {
          "output_type": "stream",
          "name": "stdout",
          "text": [
            "{1: 'One', 2: 'Two', 3: 'Three', 4: 'four'}\n",
            "{'한국': '서울', '일본': '동경', '중국': '북경', '미국': '뉴욕'}\n"
          ]
        }
      ]
    },
    {
      "cell_type": "markdown",
      "source": [
        "- 수정"
      ],
      "metadata": {
        "id": "b7P7aI6hO1qW"
      }
    },
    {
      "cell_type": "code",
      "source": [
        "country_capital['미국'] = '워싱턴'\n",
        "print(country_capital)"
      ],
      "metadata": {
        "colab": {
          "base_uri": "https://localhost:8080/"
        },
        "id": "p3UzRdNnOl9t",
        "outputId": "efd74a09-e8b7-4a83-f2eb-1b07cabc7c6b"
      },
      "execution_count": null,
      "outputs": [
        {
          "output_type": "stream",
          "name": "stdout",
          "text": [
            "{'한국': '서울', '일본': '동경', '중국': '북경', '미국': '워싱턴'}\n"
          ]
        }
      ]
    },
    {
      "cell_type": "markdown",
      "source": [
        "- 삭제"
      ],
      "metadata": {
        "id": "ZeWzu6KEO4MF"
      }
    },
    {
      "cell_type": "code",
      "source": [
        "del country_capital['미국']\n",
        "print(country_capital)"
      ],
      "metadata": {
        "colab": {
          "base_uri": "https://localhost:8080/"
        },
        "id": "ZZHQmAY3O5n3",
        "outputId": "b25b40a9-8a74-48dc-a4bf-c7e8270ce00d"
      },
      "execution_count": null,
      "outputs": [
        {
          "output_type": "stream",
          "name": "stdout",
          "text": [
            "{'한국': '서울', '일본': '동경', '중국': '북경'}\n"
          ]
        }
      ]
    },
    {
      "cell_type": "markdown",
      "source": [
        "### Dictionary 메서드\n",
        "- keys(): 키값만 출력\n",
        "- values(): value값만 출력"
      ],
      "metadata": {
        "id": "cWJbupJSPK21"
      }
    },
    {
      "cell_type": "code",
      "source": [
        "result = list(country_capital.keys())\n",
        "print(result)\n",
        "print(type(result))"
      ],
      "metadata": {
        "colab": {
          "base_uri": "https://localhost:8080/"
        },
        "id": "6y47xEXYPV91",
        "outputId": "0b59aefc-2e56-456d-a688-3a3fd217be34"
      },
      "execution_count": null,
      "outputs": [
        {
          "output_type": "stream",
          "name": "stdout",
          "text": [
            "['한국', '일본', '중국']\n",
            "<class 'list'>\n"
          ]
        }
      ]
    },
    {
      "cell_type": "code",
      "source": [
        "result = list(country_capital.values())\n",
        "print(result)\n",
        "print(type(result))"
      ],
      "metadata": {
        "colab": {
          "base_uri": "https://localhost:8080/"
        },
        "id": "NduGki8jP4h2",
        "outputId": "2f85e3a2-5db4-4a75-8583-43ecfb87072f"
      },
      "execution_count": null,
      "outputs": [
        {
          "output_type": "stream",
          "name": "stdout",
          "text": [
            "['서울', '동경', '북경']\n",
            "<class 'list'>\n"
          ]
        }
      ]
    },
    {
      "cell_type": "code",
      "source": [
        "result = list(country_capital.items())\n",
        "print(result)\n",
        "print(type(result))"
      ],
      "metadata": {
        "colab": {
          "base_uri": "https://localhost:8080/"
        },
        "id": "jOfxQKiVP0wY",
        "outputId": "efcf37b0-759b-405c-fd23-8c156cd2e2f2"
      },
      "execution_count": null,
      "outputs": [
        {
          "output_type": "stream",
          "name": "stdout",
          "text": [
            "[('한국', '서울'), ('일본', '동경'), ('중국', '북경')]\n",
            "<class 'list'>\n"
          ]
        }
      ]
    },
    {
      "cell_type": "markdown",
      "source": [
        "## 조건문"
      ],
      "metadata": {
        "id": "-ARS_1QTQLeA"
      }
    },
    {
      "cell_type": "code",
      "source": [
        "score = int(input(\"점수를 입력해주세요 (0~100) >> \"))\n",
        "print(score)\n",
        "\n",
        "if score>=90:\n",
        "  # 코드 작성\n",
        "  print('A등급')\n",
        "\n",
        "elif score >= 80:\n",
        "  print('B등급')\n",
        "\n",
        "elif score >= 70:\n",
        "  print('C등급')\n",
        "\n",
        "elif score >= 60:\n",
        "  print('D등급')\n",
        "\n",
        "elif score >= 50:\n",
        "  print('E등급')\n",
        "  \n",
        "else:\n",
        "  print('F등급')"
      ],
      "metadata": {
        "colab": {
          "base_uri": "https://localhost:8080/"
        },
        "id": "l0wP5tX-QNIA",
        "outputId": "bb5d5fa0-7c84-4a9a-c899-a9377ba08957"
      },
      "execution_count": null,
      "outputs": [
        {
          "output_type": "stream",
          "name": "stdout",
          "text": [
            "점수를 입력해주세요 (0~100) >> 55\n",
            "55\n",
            "E등급\n"
          ]
        }
      ]
    },
    {
      "cell_type": "markdown",
      "source": [
        "## 반복문\n",
        "- Hello World 여러번 입력"
      ],
      "metadata": {
        "id": "YTttkyBbSN4e"
      }
    },
    {
      "cell_type": "code",
      "source": [
        "# for i in 범위가 정해진 값 :"
      ],
      "metadata": {
        "id": "HkIbrlKWSlhO"
      },
      "execution_count": null,
      "outputs": []
    },
    {
      "cell_type": "code",
      "source": [
        "for i in range(3):\n",
        "  # 코드 작성\n",
        "  print(i +1, \"Hello World\")"
      ],
      "metadata": {
        "colab": {
          "base_uri": "https://localhost:8080/"
        },
        "id": "01xu5ZHzSRHx",
        "outputId": "b44c9dc0-adea-4d14-dad0-e12fd9652d0a"
      },
      "execution_count": null,
      "outputs": [
        {
          "output_type": "stream",
          "name": "stdout",
          "text": [
            "1 Hello World\n",
            "2 Hello World\n",
            "3 Hello World\n"
          ]
        }
      ]
    },
    {
      "cell_type": "code",
      "source": [
        "a = \"Hello\"\n",
        "for x in a:\n",
        "  print(x)"
      ],
      "metadata": {
        "colab": {
          "base_uri": "https://localhost:8080/"
        },
        "id": "LTgwtUKGS0hW",
        "outputId": "5679f1e7-9928-4f31-e3d0-f215a5f99270"
      },
      "execution_count": null,
      "outputs": [
        {
          "output_type": "stream",
          "name": "stdout",
          "text": [
            "H\n",
            "e\n",
            "l\n",
            "l\n",
            "o\n"
          ]
        }
      ]
    },
    {
      "cell_type": "code",
      "source": [
        "a = [100, 200, 300]\n",
        "for x in a:\n",
        "  print(x)"
      ],
      "metadata": {
        "colab": {
          "base_uri": "https://localhost:8080/"
        },
        "id": "VBipMKG9S8Ev",
        "outputId": "6e6668b1-6188-41bc-c031-8999605a52a6"
      },
      "execution_count": null,
      "outputs": [
        {
          "output_type": "stream",
          "name": "stdout",
          "text": [
            "100\n",
            "200\n",
            "300\n"
          ]
        }
      ]
    },
    {
      "cell_type": "code",
      "source": [
        "a = [100, 200, 300]\n",
        "for x in a:\n",
        "  print(x)"
      ],
      "metadata": {
        "id": "QPS_SEdITGkw"
      },
      "execution_count": null,
      "outputs": []
    },
    {
      "cell_type": "code",
      "source": [
        "# for i in 범위가 정해진 값(=시퀀스데이터) :"
      ],
      "metadata": {
        "id": "bbiVtOTtTLpN"
      },
      "execution_count": null,
      "outputs": []
    },
    {
      "cell_type": "markdown",
      "source": [
        "### 파이썬 반복문 여러가지 방법\n",
        "- 종류 많음\n",
        "\n"
      ],
      "metadata": {
        "id": "G0ujh7WyTK0B"
      }
    },
    {
      "cell_type": "code",
      "source": [
        "a = [\"A\", \"B\", \"C\"]\n",
        "\n",
        "num = 0\n",
        "for idx in a:\n",
        "  print(num, idx)\n",
        "  num = num + 1"
      ],
      "metadata": {
        "colab": {
          "base_uri": "https://localhost:8080/"
        },
        "id": "KvTp0dPKTgoR",
        "outputId": "11bd080f-cf81-43f7-db60-3d2ae5cd37b6"
      },
      "execution_count": null,
      "outputs": [
        {
          "output_type": "stream",
          "name": "stdout",
          "text": [
            "0 A\n",
            "1 B\n",
            "2 C\n"
          ]
        }
      ]
    },
    {
      "cell_type": "code",
      "source": [
        "a = [\"A\", \"B\", \"C\"]\n",
        "for idx, value in enumerate(a):\n",
        "  print(idx, value)"
      ],
      "metadata": {
        "colab": {
          "base_uri": "https://localhost:8080/"
        },
        "id": "Fl_XY3gwT-3e",
        "outputId": "881f59a1-485a-49ba-cd83-55137700121d"
      },
      "execution_count": null,
      "outputs": [
        {
          "output_type": "stream",
          "name": "stdout",
          "text": [
            "0 A\n",
            "1 B\n",
            "2 C\n"
          ]
        }
      ]
    },
    {
      "cell_type": "code",
      "source": [
        "str_list = [\"A\", \"B\", \"C\"]\n",
        "num_list = [1,2,3]\n",
        "\n",
        "for strs, nums in zip(str_list, num_list):\n",
        "  print(strs, nums)"
      ],
      "metadata": {
        "colab": {
          "base_uri": "https://localhost:8080/"
        },
        "id": "R_gcZWzBUUaO",
        "outputId": "dcc97803-ab07-4593-98e6-b64b0769329f"
      },
      "execution_count": null,
      "outputs": [
        {
          "output_type": "stream",
          "name": "stdout",
          "text": [
            "A 1\n",
            "B 2\n",
            "C 3\n"
          ]
        }
      ]
    },
    {
      "cell_type": "markdown",
      "source": [
        "- while문"
      ],
      "metadata": {
        "id": "Hl2Mb2vPU-sn"
      }
    },
    {
      "cell_type": "code",
      "source": [
        "i = 1\n",
        "while i < 7:\n",
        "  print(\"Hello World\")\n",
        "  i = i+1 # i+=1"
      ],
      "metadata": {
        "colab": {
          "base_uri": "https://localhost:8080/"
        },
        "id": "Hn0F-LaPU1Ee",
        "outputId": "807be211-4247-4f7d-bf1d-00890fcedac6"
      },
      "execution_count": null,
      "outputs": [
        {
          "output_type": "stream",
          "name": "stdout",
          "text": [
            "Hello World\n",
            "Hello World\n",
            "Hello World\n",
            "Hello World\n",
            "Hello World\n",
            "Hello World\n"
          ]
        }
      ]
    },
    {
      "cell_type": "markdown",
      "source": [
        "### 파이썬다운 문법 : 파이써닉 방식\n",
        "- Pythonic way\n",
        "- for loop 반복문을 한줄로 처리\n",
        "- List Comprehension "
      ],
      "metadata": {
        "id": "zTODnGtMVDf2"
      }
    },
    {
      "cell_type": "code",
      "source": [
        "a = ['computer', 'apple', 'human', 'zoo', 'country']\n",
        "\n",
        "# a가 들어간 문자만 리스트에 담자!\n",
        "result_list = []\n",
        "for x in a:\n",
        "  if \"a\" in x:\n",
        "    result_list.append(x)\n",
        "result_list"
      ],
      "metadata": {
        "colab": {
          "base_uri": "https://localhost:8080/"
        },
        "id": "0BUnusKxVMUy",
        "outputId": "01eae845-69cb-4ce5-8f01-1001bb5e4eb9"
      },
      "execution_count": null,
      "outputs": [
        {
          "output_type": "execute_result",
          "data": {
            "text/plain": [
              "['apple', 'human']"
            ]
          },
          "metadata": {},
          "execution_count": 111
        }
      ]
    },
    {
      "cell_type": "code",
      "source": [
        "a = ['computer', 'apple', 'human', 'zoo', 'country']\n",
        "result2 = [x for x in a if \"a\" in x]\n",
        "result2"
      ],
      "metadata": {
        "colab": {
          "base_uri": "https://localhost:8080/"
        },
        "id": "zLgwTjTaVw5e",
        "outputId": "6216d6e0-1f87-4751-aac8-baec232e0ac9"
      },
      "execution_count": null,
      "outputs": [
        {
          "output_type": "execute_result",
          "data": {
            "text/plain": [
              "['apple', 'human']"
            ]
          },
          "metadata": {},
          "execution_count": 112
        }
      ]
    }
  ]
}