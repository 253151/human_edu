{
  "nbformat": 4,
  "nbformat_minor": 0,
  "metadata": {
    "colab": {
      "provenance": []
    },
    "kernelspec": {
      "name": "python3",
      "display_name": "Python 3"
    },
    "language_info": {
      "name": "python"
    },
    "accelerator": "GPU",
    "gpuClass": "standard"
  },
  "cells": [
    {
      "cell_type": "markdown",
      "source": [
        "## 딥러닝\n",
        "- 18일 평가과제 : 텍스트 데이터 분석\n",
        "- 이미지\n",
        "- 자연어처리\n",
        "- 영상인식\n",
        "- 추천알고리즘\n",
        "- 음성인식\n",
        "- etc\n"
      ],
      "metadata": {
        "id": "Z1aBKZNFp4kv"
      }
    },
    {
      "cell_type": "markdown",
      "source": [
        "## 새해 결심\n",
        "- 올해는 딥러닝 배울래! \n",
        "  + 홈페이지 간다. https://www.tensorflow.org/tutorials\n",
        "  + 교재 가급적 구매하지 않는다. \n",
        "    - 핸즈온 머신러닝 3판 나오면 구매 권유"
      ],
      "metadata": {
        "id": "52CRaOIuqqS9"
      }
    },
    {
      "cell_type": "code",
      "execution_count": null,
      "metadata": {
        "colab": {
          "base_uri": "https://localhost:8080/"
        },
        "id": "sFLQHtwDpnSY",
        "outputId": "cdc21b8e-b957-4009-9db9-83b57d94427d"
      },
      "outputs": [
        {
          "output_type": "stream",
          "name": "stdout",
          "text": [
            "Downloading data from https://storage.googleapis.com/tensorflow/tf-keras-datasets/train-labels-idx1-ubyte.gz\n",
            "29515/29515 [==============================] - 0s 0us/step\n",
            "Downloading data from https://storage.googleapis.com/tensorflow/tf-keras-datasets/train-images-idx3-ubyte.gz\n",
            "26421880/26421880 [==============================] - 0s 0us/step\n",
            "Downloading data from https://storage.googleapis.com/tensorflow/tf-keras-datasets/t10k-labels-idx1-ubyte.gz\n",
            "5148/5148 [==============================] - 0s 0us/step\n",
            "Downloading data from https://storage.googleapis.com/tensorflow/tf-keras-datasets/t10k-images-idx3-ubyte.gz\n",
            "4422102/4422102 [==============================] - 0s 0us/step\n"
          ]
        }
      ],
      "source": [
        "# 데이터 수집\n",
        "# 패션 MNIST \n",
        "from tensorflow import keras \n",
        "\n",
        "(train_input, train_target), (test_input, test_target) = keras.datasets.fashion_mnist.load_data()\n",
        "\n"
      ]
    },
    {
      "cell_type": "code",
      "source": [
        "print(train_input.shape, train_target.shape)"
      ],
      "metadata": {
        "colab": {
          "base_uri": "https://localhost:8080/"
        },
        "id": "641WSiwMs7qc",
        "outputId": "c22773cd-8b54-426c-9c46-f962fe07d72b"
      },
      "execution_count": null,
      "outputs": [
        {
          "output_type": "stream",
          "name": "stdout",
          "text": [
            "(60000, 28, 28) (60000,)\n"
          ]
        }
      ]
    },
    {
      "cell_type": "code",
      "source": [
        "print(test_input.shape, test_target.shape)"
      ],
      "metadata": {
        "colab": {
          "base_uri": "https://localhost:8080/"
        },
        "id": "jiK9jl8NtSce",
        "outputId": "7bb2a922-f8fa-4323-8ae9-50a8b66a0202"
      },
      "execution_count": null,
      "outputs": [
        {
          "output_type": "stream",
          "name": "stdout",
          "text": [
            "(10000, 28, 28) (10000,)\n"
          ]
        }
      ]
    },
    {
      "cell_type": "markdown",
      "source": [
        "## 이미지 출력"
      ],
      "metadata": {
        "id": "oti52fG7tehA"
      }
    },
    {
      "cell_type": "code",
      "source": [
        "import matplotlib.pyplot as plt \n",
        "fig, ax = plt.subplots(1, 10, figsize=(10, 10))\n",
        "\n",
        "for i in range(10):\n",
        "  ax[i].imshow(train_input[i], cmap = 'gray_r')\n",
        "  ax[i].axis('off')\n",
        "plt.show()"
      ],
      "metadata": {
        "colab": {
          "base_uri": "https://localhost:8080/",
          "height": 78
        },
        "id": "x_ssbI-Ltggr",
        "outputId": "7965219c-753c-49a2-ad95-b58dc64ed289"
      },
      "execution_count": null,
      "outputs": [
        {
          "output_type": "display_data",
          "data": {
            "text/plain": [
              "<Figure size 720x720 with 10 Axes>"
            ],
            "image/png": "[encoded data removed]"
          },
          "metadata": {
            "needs_background": "light"
          }
        }
      ]
    },
    {
      "cell_type": "code",
      "source": [
        "print([train_target[i] for i in range(10)])"
      ],
      "metadata": {
        "colab": {
          "base_uri": "https://localhost:8080/"
        },
        "id": "-zB9CI0ftd-0",
        "outputId": "1fcfccb7-534a-49b3-91e3-ffb9b19637c3"
      },
      "execution_count": null,
      "outputs": [
        {
          "output_type": "stream",
          "name": "stdout",
          "text": [
            "[9, 0, 0, 3, 0, 2, 7, 2, 5, 5]\n"
          ]
        }
      ]
    },
    {
      "cell_type": "markdown",
      "source": [
        "- 주어진 데이터의 라벨 (종속변수)에 따른 각 이미지의 갯수를 확인해보자. "
      ],
      "metadata": {
        "id": "l4tob9QfuiCb"
      }
    },
    {
      "cell_type": "code",
      "source": [
        "import numpy as np\n",
        "print(np.unique(train_target, return_counts = True))"
      ],
      "metadata": {
        "colab": {
          "base_uri": "https://localhost:8080/"
        },
        "id": "Q3AsoMsyuqVC",
        "outputId": "7dfef3ed-98a4-4e01-c07f-1414ef576862"
      },
      "execution_count": null,
      "outputs": [
        {
          "output_type": "stream",
          "name": "stdout",
          "text": [
            "(array([0, 1, 2, 3, 4, 5, 6, 7, 8, 9], dtype=uint8), array([6000, 6000, 6000, 6000, 6000, 6000, 6000, 6000, 6000, 6000]))\n"
          ]
        }
      ]
    },
    {
      "cell_type": "markdown",
      "source": [
        "## 머신러닝에 대한 오해\n",
        "- 전통적인 머신러닝 알고리즘은 이미지/자연어/추천 동작하지 않는다? \n",
        "- 딥러닝 만능설: 딥러닝 알고리즘은 모든 데이터에서 다 월등한 우위를 점한다.\n",
        "- 머신러닝/딥러닝 알고리즘(도구)를 사용해서 다양하게 실험을 해본다. "
      ],
      "metadata": {
        "id": "UEWQt5Jou9mo"
      }
    },
    {
      "cell_type": "markdown",
      "source": [
        "## 이미지 데이터 살짝 가공\n",
        "- 스케일링 한다. "
      ],
      "metadata": {
        "id": "N56pn4kTwI5_"
      }
    },
    {
      "cell_type": "code",
      "source": [
        "train_scaled = train_input / 255.0 \n",
        "train_scaled = train_scaled.reshape(-1, 28 * 28)\n",
        "train_scaled.shape"
      ],
      "metadata": {
        "colab": {
          "base_uri": "https://localhost:8080/"
        },
        "id": "JOmRiPhKwNB0",
        "outputId": "a6cebba3-024f-4f51-df1c-900b1b4506cd"
      },
      "execution_count": null,
      "outputs": [
        {
          "output_type": "execute_result",
          "data": {
            "text/plain": [
              "(60000, 784)"
            ]
          },
          "metadata": {},
          "execution_count": 7
        }
      ]
    },
    {
      "cell_type": "code",
      "source": [
        "from sklearn.model_selection import cross_validate\n",
        "from sklearn.linear_model import SGDClassifier \n",
        "sc = SGDClassifier(loss = 'log', max_iter = 5, random_state=42)\n",
        "scores = cross_validate(sc, train_scaled, train_target, n_jobs = -1)\n",
        "print(np.mean(scores['test_score']))"
      ],
      "metadata": {
        "colab": {
          "base_uri": "https://localhost:8080/"
        },
        "id": "544L3mEEwwD5",
        "outputId": "5a51055e-8712-4172-a86d-a2ae42391ec9"
      },
      "execution_count": null,
      "outputs": [
        {
          "output_type": "stream",
          "name": "stdout",
          "text": [
            "0.8195666666666668\n"
          ]
        }
      ]
    },
    {
      "cell_type": "markdown",
      "source": [
        "## 텐서플로 프레임워크 모델만들기"
      ],
      "metadata": {
        "id": "W_LN58X1xtt3"
      }
    },
    {
      "cell_type": "code",
      "source": [
        "# 훈련데이터와 검증데이터로 분리\n",
        "from sklearn.model_selection import train_test_split \n",
        "\n",
        "train_scaled, val_scaled, train_target, val_target = train_test_split(\n",
        "    train_scaled, train_target, test_size = 0.2, random_state=42\n",
        ")"
      ],
      "metadata": {
        "id": "rfM6-NdgxwRs"
      },
      "execution_count": null,
      "outputs": []
    },
    {
      "cell_type": "code",
      "source": [
        "dense = keras.layers.Dense(10, activation='softmax', input_shape = (784, ))\n",
        "model = keras.Sequential(dense)\n",
        "model.compile(loss = 'sparse_categorical_crossentropy', metrics = 'accuracy')\n",
        "model.fit(train_scaled, train_target, epochs = 5)"
      ],
      "metadata": {
        "colab": {
          "base_uri": "https://localhost:8080/"
        },
        "id": "dprQG5SZyZpO",
        "outputId": "7186feae-747d-4333-bf2d-41d3485cf4e3"
      },
      "execution_count": null,
      "outputs": [
        {
          "output_type": "stream",
          "name": "stdout",
          "text": [
            "Epoch 1/5\n",
            "1500/1500 [==============================] - 5s 2ms/step - loss: 0.6100 - accuracy: 0.7939\n",
            "Epoch 2/5\n",
            "1500/1500 [==============================] - 3s 2ms/step - loss: 0.4797 - accuracy: 0.8395\n",
            "Epoch 3/5\n",
            "1500/1500 [==============================] - 3s 2ms/step - loss: 0.4581 - accuracy: 0.8472\n",
            "Epoch 4/5\n",
            "1500/1500 [==============================] - 3s 2ms/step - loss: 0.4442 - accuracy: 0.8519\n",
            "Epoch 5/5\n",
            "1500/1500 [==============================] - 3s 2ms/step - loss: 0.4373 - accuracy: 0.8554\n"
          ]
        },
        {
          "output_type": "execute_result",
          "data": {
            "text/plain": [
              "<keras.callbacks.History at 0x7f4cc4651070>"
            ]
          },
          "metadata": {},
          "execution_count": 10
        }
      ]
    },
    {
      "cell_type": "code",
      "source": [
        "model.evaluate(val_scaled, val_target)"
      ],
      "metadata": {
        "colab": {
          "base_uri": "https://localhost:8080/"
        },
        "id": "_tq6M3qmzJJe",
        "outputId": "342ab8a1-6258-4f64-cd2d-05045a69e260"
      },
      "execution_count": null,
      "outputs": [
        {
          "output_type": "stream",
          "name": "stdout",
          "text": [
            "375/375 [==============================] - 1s 2ms/step - loss: 0.4405 - accuracy: 0.8525\n"
          ]
        },
        {
          "output_type": "execute_result",
          "data": {
            "text/plain": [
              "[0.44045838713645935, 0.8525000214576721]"
            ]
          },
          "metadata": {},
          "execution_count": 11
        }
      ]
    },
    {
      "cell_type": "markdown",
      "source": [
        "- 캐글 노트북, 구글 코랩 GPU 연산\n",
        "  + 런타임 - 런타임 유형변경 - GPU 설정\n",
        "  "
      ],
      "metadata": {
        "id": "iDuRgjVB3pYz"
      }
    },
    {
      "cell_type": "code",
      "source": [
        "# 데이터 수집\n",
        "# 패션 MNIST \n",
        "from tensorflow import keras \n",
        "\n",
        "# 훈련데이터와 검증데이터로 분리\n",
        "from sklearn.model_selection import train_test_split \n",
        "\n",
        "(train_input, train_target), (test_input, test_target) = keras.datasets.fashion_mnist.load_data()\n",
        "train_scaled = train_input / 255.0 \n",
        "train_scaled = train_scaled.reshape(-1, 28 * 28)\n",
        "\n",
        "train_scaled, val_scaled, train_target, val_target = train_test_split(\n",
        "    train_scaled, train_target, test_size = 0.2, random_state=42\n",
        ")"
      ],
      "metadata": {
        "id": "KUs-2fh63pNE",
        "colab": {
          "base_uri": "https://localhost:8080/"
        },
        "outputId": "933f4f7a-01cf-4fcd-8d86-b5f200761952"
      },
      "execution_count": 1,
      "outputs": [
        {
          "output_type": "stream",
          "name": "stdout",
          "text": [
            "Downloading data from https://storage.googleapis.com/tensorflow/tf-keras-datasets/train-labels-idx1-ubyte.gz\n",
            "29515/29515 [==============================] - 0s 0us/step\n",
            "Downloading data from https://storage.googleapis.com/tensorflow/tf-keras-datasets/train-images-idx3-ubyte.gz\n",
            "26421880/26421880 [==============================] - 2s 0us/step\n",
            "Downloading data from https://storage.googleapis.com/tensorflow/tf-keras-datasets/t10k-labels-idx1-ubyte.gz\n",
            "5148/5148 [==============================] - 0s 0us/step\n",
            "Downloading data from https://storage.googleapis.com/tensorflow/tf-keras-datasets/t10k-images-idx3-ubyte.gz\n",
            "4422102/4422102 [==============================] - 0s 0us/step\n"
          ]
        }
      ]
    },
    {
      "cell_type": "code",
      "source": [
        "train_scaled.shape, val_scaled.shape, train_target.shape, val_target.shape"
      ],
      "metadata": {
        "colab": {
          "base_uri": "https://localhost:8080/"
        },
        "id": "A3T71oVjfD4Y",
        "outputId": "217d9636-7624-461a-cbc4-f501ff93b4e5"
      },
      "execution_count": 2,
      "outputs": [
        {
          "output_type": "execute_result",
          "data": {
            "text/plain": [
              "((48000, 784), (12000, 784), (48000,), (12000,))"
            ]
          },
          "metadata": {},
          "execution_count": 2
        }
      ]
    },
    {
      "cell_type": "markdown",
      "source": [
        "## 딥러닝 모형 만들기\n",
        "- 층(layer)를 구성한다. "
      ],
      "metadata": {
        "id": "yZp1gGnifVax"
      }
    },
    {
      "cell_type": "code",
      "source": [
        "dense1 = keras.layers.Dense(100, activation='sigmoid', input_shape=(784, ))\n",
        "dense2 = keras.layers.Dense(10, activation='softmax')\n",
        "\n",
        "# 심층신경망\n",
        "model = keras.Sequential([dense1, dense2])\n",
        "model.summary()"
      ],
      "metadata": {
        "colab": {
          "base_uri": "https://localhost:8080/"
        },
        "id": "0PuBUSkUfp_h",
        "outputId": "7d67a279-ff05-45c1-cc2c-7071793bee25"
      },
      "execution_count": 8,
      "outputs": [
        {
          "output_type": "stream",
          "name": "stdout",
          "text": [
            "Model: \"sequential_1\"\n",
            "_________________________________________________________________\n",
            " Layer (type)                Output Shape              Param #   \n",
            "=================================================================\n",
            " dense_2 (Dense)             (None, 100)               78500     \n",
            "                                                                 \n",
            " dense_3 (Dense)             (None, 10)                1010      \n",
            "                                                                 \n",
            "=================================================================\n",
            "Total params: 79,510\n",
            "Trainable params: 79,510\n",
            "Non-trainable params: 0\n",
            "_________________________________________________________________\n"
          ]
        }
      ]
    },
    {
      "cell_type": "markdown",
      "source": [
        "- 다른 방법"
      ],
      "metadata": {
        "id": "MSO9_OaThKJe"
      }
    },
    {
      "cell_type": "code",
      "source": [
        "model = keras.Sequential([\n",
        "    keras.layers.Dense(100, activation='sigmoid', input_shape=(784, ), name = 'hidden'),\n",
        "    keras.layers.Dense(10, activation='softmax', name = 'output')\n",
        "], name = 'Fashion')\n",
        "\n",
        "model.summary()"
      ],
      "metadata": {
        "colab": {
          "base_uri": "https://localhost:8080/"
        },
        "id": "SRb9Z0dahLMM",
        "outputId": "fc7e38c1-0a68-4f1a-aff9-f85a3ffc47f9"
      },
      "execution_count": 10,
      "outputs": [
        {
          "output_type": "stream",
          "name": "stdout",
          "text": [
            "Model: \"Fashion\"\n",
            "_________________________________________________________________\n",
            " Layer (type)                Output Shape              Param #   \n",
            "=================================================================\n",
            " hidden (Dense)              (None, 100)               78500     \n",
            "                                                                 \n",
            " output (Dense)              (None, 10)                1010      \n",
            "                                                                 \n",
            "=================================================================\n",
            "Total params: 79,510\n",
            "Trainable params: 79,510\n",
            "Non-trainable params: 0\n",
            "_________________________________________________________________\n"
          ]
        }
      ]
    },
    {
      "cell_type": "markdown",
      "source": [
        "- 모델 컴파일"
      ],
      "metadata": {
        "id": "wfhIE7pChtKj"
      }
    },
    {
      "cell_type": "code",
      "source": [
        "model.compile(loss = 'sparse_categorical_crossentropy', metrics = 'accuracy')\n",
        "model.fit(train_scaled, train_target, epochs = 5)"
      ],
      "metadata": {
        "colab": {
          "base_uri": "https://localhost:8080/"
        },
        "id": "mHXTwoJqhx2h",
        "outputId": "ac335a67-cc39-4108-c168-3cbefe6cd08e"
      },
      "execution_count": 11,
      "outputs": [
        {
          "output_type": "stream",
          "name": "stdout",
          "text": [
            "Epoch 1/5\n",
            "1500/1500 [==============================] - 4s 3ms/step - loss: 0.5622 - accuracy: 0.8081\n",
            "Epoch 2/5\n",
            "1500/1500 [==============================] - 4s 2ms/step - loss: 0.4089 - accuracy: 0.8535\n",
            "Epoch 3/5\n",
            "1500/1500 [==============================] - 4s 2ms/step - loss: 0.3748 - accuracy: 0.8653\n",
            "Epoch 4/5\n",
            "1500/1500 [==============================] - 4s 2ms/step - loss: 0.3519 - accuracy: 0.8727\n",
            "Epoch 5/5\n",
            "1500/1500 [==============================] - 4s 2ms/step - loss: 0.3346 - accuracy: 0.8791\n"
          ]
        },
        {
          "output_type": "execute_result",
          "data": {
            "text/plain": [
              "<keras.callbacks.History at 0x7f0c90222dc0>"
            ]
          },
          "metadata": {},
          "execution_count": 11
        }
      ]
    },
    {
      "cell_type": "markdown",
      "source": [
        "- 1949년도 모델을 1970년대 모델로 업그레이드 함\n",
        "  + 히든 레이어 추가함\n",
        "  + 효과 : 정확도 3% 향상"
      ],
      "metadata": {
        "id": "Z6Jc41n1ibS6"
      }
    },
    {
      "cell_type": "markdown",
      "source": [
        "## 시그모이드 함수 : 활성화 함수\n",
        "- 시그모이드 (로지스틱 회귀분석)\n",
        "- 가장 대표적으로, 일반적으로 자주 사용하는 활성화 함수 : ReLu 함수"
      ],
      "metadata": {
        "id": "DuEoK0x2i8Bc"
      }
    },
    {
      "cell_type": "code",
      "source": [
        "model = keras.Sequential([\n",
        "    keras.layers.Dense(100, activation='relu', input_shape=(784, ), name = 'hidden'),\n",
        "    keras.layers.Dense(10, activation='softmax', name = 'output')\n",
        "], name = 'Fashion')\n",
        "\n",
        "model.compile(loss = 'sparse_categorical_crossentropy', metrics = 'accuracy')\n",
        "model.fit(train_scaled, train_target, epochs = 5)"
      ],
      "metadata": {
        "colab": {
          "base_uri": "https://localhost:8080/"
        },
        "id": "EwGkruh1mSyo",
        "outputId": "b21ea9ef-a678-47dc-fd9f-1215d21d5df2"
      },
      "execution_count": 12,
      "outputs": [
        {
          "output_type": "stream",
          "name": "stdout",
          "text": [
            "Epoch 1/5\n",
            "1500/1500 [==============================] - 4s 2ms/step - loss: 0.5318 - accuracy: 0.8121\n",
            "Epoch 2/5\n",
            "1500/1500 [==============================] - 4s 2ms/step - loss: 0.3970 - accuracy: 0.8564\n",
            "Epoch 3/5\n",
            "1500/1500 [==============================] - 4s 2ms/step - loss: 0.3566 - accuracy: 0.8719\n",
            "Epoch 4/5\n",
            "1500/1500 [==============================] - 3s 2ms/step - loss: 0.3343 - accuracy: 0.8798\n",
            "Epoch 5/5\n",
            "1500/1500 [==============================] - 3s 2ms/step - loss: 0.3184 - accuracy: 0.8856\n"
          ]
        },
        {
          "output_type": "execute_result",
          "data": {
            "text/plain": [
              "<keras.callbacks.History at 0x7f0c9018f460>"
            ]
          },
          "metadata": {},
          "execution_count": 12
        }
      ]
    },
    {
      "cell_type": "code",
      "source": [
        "model.evaluate(val_scaled, val_target)"
      ],
      "metadata": {
        "colab": {
          "base_uri": "https://localhost:8080/"
        },
        "id": "LYhPL7KPmuu6",
        "outputId": "37616eee-de9b-4142-d2f3-57bf69dc9fb0"
      },
      "execution_count": 13,
      "outputs": [
        {
          "output_type": "stream",
          "name": "stdout",
          "text": [
            "375/375 [==============================] - 1s 2ms/step - loss: 0.3635 - accuracy: 0.8736\n"
          ]
        },
        {
          "output_type": "execute_result",
          "data": {
            "text/plain": [
              "[0.3635195195674896, 0.8735833168029785]"
            ]
          },
          "metadata": {},
          "execution_count": 13
        }
      ]
    },
    {
      "cell_type": "markdown",
      "source": [
        "## 딥러닝 모형 과적합 확인\n"
      ],
      "metadata": {
        "id": "NcYugCbXsDlJ"
      }
    },
    {
      "cell_type": "code",
      "source": [
        "# 데이터 수집\n",
        "# 패션 MNIST \n",
        "from tensorflow import keras \n",
        "\n",
        "# 훈련데이터와 검증데이터로 분리\n",
        "from sklearn.model_selection import train_test_split \n",
        "\n",
        "(train_input, train_target), (test_input, test_target) = keras.datasets.fashion_mnist.load_data()\n",
        "train_scaled = train_input / 255.0 \n",
        "# train_scaled = train_scaled.reshape(-1, 28 * 28)\n",
        "\n",
        "train_scaled, val_scaled, train_target, val_target = train_test_split(\n",
        "    train_scaled, train_target, test_size = 0.2, random_state=42\n",
        ")"
      ],
      "metadata": {
        "id": "A9wJgdndsI4J"
      },
      "execution_count": 5,
      "outputs": []
    },
    {
      "cell_type": "markdown",
      "source": [
        "- 모델 만들기"
      ],
      "metadata": {
        "id": "E9_v4818sk4J"
      }
    },
    {
      "cell_type": "code",
      "source": [
        "def model_fn(a_layer=None):\n",
        "  model = keras.Sequential() \n",
        "  model.add(keras.layers.Flatten(input_shape=(28, 28)))\n",
        "  model.add(keras.layers.Dense(100, activation='relu'))\n",
        "  if a_layer:\n",
        "    model.add(a_layer)\n",
        "  \n",
        "  model.add(keras.layers.Dense(10, activation='softmax'))\n",
        "  return model"
      ],
      "metadata": {
        "id": "D8sEQamSsmNA"
      },
      "execution_count": 6,
      "outputs": []
    },
    {
      "cell_type": "code",
      "source": [
        "model = model_fn() \n",
        "model.summary()"
      ],
      "metadata": {
        "colab": {
          "base_uri": "https://localhost:8080/"
        },
        "id": "6ZZcx8NatRH5",
        "outputId": "44129e00-ae9f-4413-ca28-b51881bb4013"
      },
      "execution_count": 3,
      "outputs": [
        {
          "output_type": "stream",
          "name": "stdout",
          "text": [
            "Model: \"sequential\"\n",
            "_________________________________________________________________\n",
            " Layer (type)                Output Shape              Param #   \n",
            "=================================================================\n",
            " flatten (Flatten)           (None, 784)               0         \n",
            "                                                                 \n",
            " dense (Dense)               (None, 100)               78500     \n",
            "                                                                 \n",
            " dense_1 (Dense)             (None, 10)                1010      \n",
            "                                                                 \n",
            "=================================================================\n",
            "Total params: 79,510\n",
            "Trainable params: 79,510\n",
            "Non-trainable params: 0\n",
            "_________________________________________________________________\n"
          ]
        }
      ]
    },
    {
      "cell_type": "code",
      "source": [
        "model.compile(loss = 'sparse_categorical_crossentropy', metrics = 'accuracy')\n",
        "history = model.fit(train_scaled, train_target, epochs = 10, verbose=0)\n"
      ],
      "metadata": {
        "id": "7AzwC4c6t1bH"
      },
      "execution_count": 13,
      "outputs": []
    },
    {
      "cell_type": "code",
      "source": [
        "print(history.history.keys())\n",
        "print(history.history)"
      ],
      "metadata": {
        "colab": {
          "base_uri": "https://localhost:8080/"
        },
        "id": "J8TCtOLouS3E",
        "outputId": "5b4e6350-521a-41df-913c-5b814afad8ef"
      },
      "execution_count": 14,
      "outputs": [
        {
          "output_type": "stream",
          "name": "stdout",
          "text": [
            "dict_keys(['loss', 'accuracy'])\n",
            "{'loss': [0.309403657913208, 0.2971136271953583, 0.2894129455089569, 0.2844385504722595, 0.27549469470977783, 0.27134913206100464, 0.2645758092403412, 0.260617196559906, 0.2552677094936371, 0.2492922991514206], 'accuracy': [0.8895624876022339, 0.893750011920929, 0.8965833187103271, 0.9006249904632568, 0.9036250114440918, 0.9070000052452087, 0.9083541631698608, 0.9106875061988831, 0.9129583239555359, 0.914312481880188]}\n"
          ]
        }
      ]
    },
    {
      "cell_type": "code",
      "source": [
        "import matplotlib.pyplot as plt \n",
        "\n",
        "fig, ax = plt.subplots()\n",
        "ax.plot(history.history['loss'])\n",
        "ax.set_xlabel('epoch')\n",
        "ax.set_ylabel('loss')\n",
        "plt.show()"
      ],
      "metadata": {
        "colab": {
          "base_uri": "https://localhost:8080/",
          "height": 279
        },
        "id": "n9rL0bB9uii6",
        "outputId": "ac52db60-5491-4519-f1f2-5c1fb3d2bbde"
      },
      "execution_count": 15,
      "outputs": [
        {
          "output_type": "display_data",
          "data": {
            "text/plain": [
              "<Figure size 432x288 with 1 Axes>"
            ],
            "image/png": "[encoded data removed]"
          },
          "metadata": {
            "needs_background": "light"
          }
        }
      ]
    },
    {
      "cell_type": "code",
      "source": [
        "import matplotlib.pyplot as plt \n",
        "\n",
        "fig, ax = plt.subplots()\n",
        "ax.plot(history.history['accuracy'])\n",
        "ax.set_xlabel('epoch')\n",
        "ax.set_ylabel('accuracy')\n",
        "plt.show()"
      ],
      "metadata": {
        "colab": {
          "base_uri": "https://localhost:8080/",
          "height": 279
        },
        "id": "Pyrbfpx9vP63",
        "outputId": "4d75d67a-68e9-49d4-c0c0-f3a92d29e368"
      },
      "execution_count": 16,
      "outputs": [
        {
          "output_type": "display_data",
          "data": {
            "text/plain": [
              "<Figure size 432x288 with 1 Axes>"
            ],
            "image/png": "[encoded data removed]"
          },
          "metadata": {
            "needs_background": "light"
          }
        }
      ]
    },
    {
      "cell_type": "markdown",
      "source": [
        "- 검증데이터 활용"
      ],
      "metadata": {
        "id": "CxVOtabbvZEr"
      }
    },
    {
      "cell_type": "code",
      "source": [
        "history = model.fit(train_scaled, \n",
        "                    train_target, \n",
        "                    epochs = 20, \n",
        "                    verbose=0, \n",
        "                    validation_data = (val_scaled, val_target))\n"
      ],
      "metadata": {
        "id": "1jwR83hIvh87"
      },
      "execution_count": 19,
      "outputs": []
    },
    {
      "cell_type": "code",
      "source": [
        "print(history.history.keys())"
      ],
      "metadata": {
        "colab": {
          "base_uri": "https://localhost:8080/"
        },
        "id": "98HQVadKwpql",
        "outputId": "21123a6b-9f59-47da-b68b-284c62463513"
      },
      "execution_count": 22,
      "outputs": [
        {
          "output_type": "stream",
          "name": "stdout",
          "text": [
            "dict_keys(['loss', 'accuracy', 'val_loss', 'val_accuracy'])\n"
          ]
        }
      ]
    },
    {
      "cell_type": "code",
      "source": [
        "fig, ax = plt.subplots()\n",
        "ax.plot(history.history['loss'])\n",
        "ax.plot(history.history['val_loss'])\n",
        "ax.set_xlabel('epoch')\n",
        "ax.set_ylabel('loss')\n",
        "plt.legend(['train', 'val'])\n",
        "plt.show()"
      ],
      "metadata": {
        "colab": {
          "base_uri": "https://localhost:8080/",
          "height": 280
        },
        "id": "r06s47OZv8gd",
        "outputId": "5aa59cd6-2beb-4d9f-c4c4-78a503e14e38"
      },
      "execution_count": 21,
      "outputs": [
        {
          "output_type": "display_data",
          "data": {
            "text/plain": [
              "<Figure size 432x288 with 1 Axes>"
            ],
            "image/png": "[encoded data removed]"
          },
          "metadata": {
            "needs_background": "light"
          }
        }
      ]
    },
    {
      "cell_type": "markdown",
      "source": [
        "- 과대적합(=과적합=Overfitting)"
      ],
      "metadata": {
        "id": "t_NJg0Oix2PP"
      }
    },
    {
      "cell_type": "markdown",
      "source": [
        "## 옵티마이저\n",
        "- 모형 가속기 "
      ],
      "metadata": {
        "id": "C2_PIMrKyMki"
      }
    },
    {
      "cell_type": "code",
      "source": [
        "model.compile(optimizer = 'adam', \n",
        "              loss = 'sparse_categorical_crossentropy', \n",
        "              metrics = 'accuracy')\n",
        "\n",
        "history = model.fit(train_scaled, \n",
        "                    train_target, \n",
        "                    epochs = 20, \n",
        "                    verbose=0, \n",
        "                    validation_data = (val_scaled, val_target))\n",
        "\n",
        "fig, ax = plt.subplots()\n",
        "ax.plot(history.history['loss'])\n",
        "ax.plot(history.history['val_loss'])\n",
        "ax.set_xlabel('epoch')\n",
        "ax.set_ylabel('loss')\n",
        "plt.legend(['train', 'val'])\n",
        "plt.show()"
      ],
      "metadata": {
        "colab": {
          "base_uri": "https://localhost:8080/",
          "height": 279
        },
        "id": "DsKzCj0Gx2FT",
        "outputId": "1ad9160b-1b85-49f8-fead-16d7b716568c"
      },
      "execution_count": 23,
      "outputs": [
        {
          "output_type": "display_data",
          "data": {
            "text/plain": [
              "<Figure size 432x288 with 1 Axes>"
            ],
            "image/png": "[encoded data removed]"
          },
          "metadata": {
            "needs_background": "light"
          }
        }
      ]
    },
    {
      "cell_type": "markdown",
      "source": [
        "## 드롭아웃 \n",
        "- 중요함. \n",
        "- 현재 문제점 : 과적합이 계속 일어남\n",
        "  + 가장 확실한 방법 : 드롭아웃\n",
        "- 과적합을 해소해줌\n",
        "- 모형 학습 시간을 단축\n",
        "\n"
      ],
      "metadata": {
        "id": "Je7JIhkm5TRd"
      }
    },
    {
      "cell_type": "code",
      "source": [],
      "metadata": {
        "id": "wMmL2Z_464eP"
      },
      "execution_count": null,
      "outputs": []
    },
    {
      "cell_type": "markdown",
      "source": [
        "## Early Stopping\n",
        "- 모형 학습속도가 줄어듬\n",
        "  + 예) epoch 1000번, 100번째 정확도가 99%. 남은 900번을 계속 해야 하는건가? "
      ],
      "metadata": {
        "id": "aFnqH3zi6JCM"
      }
    },
    {
      "cell_type": "code",
      "source": [
        "# 데이터 수집\n",
        "# 패션 MNIST \n",
        "from tensorflow import keras \n",
        "\n",
        "# 훈련데이터와 검증데이터로 분리\n",
        "from sklearn.model_selection import train_test_split \n",
        "\n",
        "(train_input, train_target), (test_input, test_target) = keras.datasets.fashion_mnist.load_data()\n",
        "train_scaled = train_input / 255.0 \n",
        "# train_scaled = train_scaled.reshape(-1, 28 * 28)\n",
        "\n",
        "train_scaled, val_scaled, train_target, val_target = train_test_split(\n",
        "    train_scaled, train_target, test_size = 0.2, random_state=42\n",
        ")\n",
        "\n",
        "def model_fn(a_layer=None):\n",
        "  model = keras.Sequential() \n",
        "  model.add(keras.layers.Flatten(input_shape=(28, 28)))\n",
        "  model.add(keras.layers.Dense(100, activation='relu'))\n",
        "  if a_layer:\n",
        "    model.add(a_layer)\n",
        "  \n",
        "  model.add(keras.layers.Dense(10, activation='softmax'))\n",
        "  return model"
      ],
      "metadata": {
        "id": "BE8X7l7evvqD"
      },
      "execution_count": 24,
      "outputs": []
    },
    {
      "cell_type": "code",
      "source": [
        "model = model_fn(keras.layers.Dropout(0.3))\n",
        "model.summary()"
      ],
      "metadata": {
        "colab": {
          "base_uri": "https://localhost:8080/"
        },
        "id": "UdzoHZQQ7CuW",
        "outputId": "f6b9ea16-9c79-4397-d234-8cf02d5c2129"
      },
      "execution_count": 25,
      "outputs": [
        {
          "output_type": "stream",
          "name": "stdout",
          "text": [
            "Model: \"sequential_1\"\n",
            "_________________________________________________________________\n",
            " Layer (type)                Output Shape              Param #   \n",
            "=================================================================\n",
            " flatten_1 (Flatten)         (None, 784)               0         \n",
            "                                                                 \n",
            " dense_2 (Dense)             (None, 100)               78500     \n",
            "                                                                 \n",
            " dropout (Dropout)           (None, 100)               0         \n",
            "                                                                 \n",
            " dense_3 (Dense)             (None, 10)                1010      \n",
            "                                                                 \n",
            "=================================================================\n",
            "Total params: 79,510\n",
            "Trainable params: 79,510\n",
            "Non-trainable params: 0\n",
            "_________________________________________________________________\n"
          ]
        }
      ]
    },
    {
      "cell_type": "code",
      "source": [
        "model.compile(optimizer = 'adam', \n",
        "              loss = 'sparse_categorical_crossentropy', \n",
        "              metrics = 'accuracy')\n",
        "\n",
        "history = model.fit(train_scaled, \n",
        "                    train_target, \n",
        "                    epochs = 20, \n",
        "                    verbose=0, \n",
        "                    validation_data = (val_scaled, val_target))\n",
        "\n",
        "fig, ax = plt.subplots()\n",
        "ax.plot(history.history['loss'])\n",
        "ax.plot(history.history['val_loss'])\n",
        "ax.set_xlabel('epoch')\n",
        "ax.set_ylabel('loss')\n",
        "plt.legend(['train', 'val'])\n",
        "plt.show()"
      ],
      "metadata": {
        "colab": {
          "base_uri": "https://localhost:8080/",
          "height": 279
        },
        "id": "8kqubM2T7dTi",
        "outputId": "8f512606-10f9-4b04-e564-27108c3f1dd4"
      },
      "execution_count": 26,
      "outputs": [
        {
          "output_type": "display_data",
          "data": {
            "text/plain": [
              "<Figure size 432x288 with 1 Axes>"
            ],
            "image/png": "[encoded data removed]"
          },
          "metadata": {
            "needs_background": "light"
          }
        }
      ]
    },
    {
      "cell_type": "markdown",
      "source": [
        "## 머신러닝/딥러닝 모형을 만들 때 연구자가 가장 신경써야 하는 포인트 : 과적합 방지  "
      ],
      "metadata": {
        "id": "EW8URjNe7tnv"
      }
    },
    {
      "cell_type": "markdown",
      "source": [
        "## 모델 저장\n",
        "- 모델 저장"
      ],
      "metadata": {
        "id": "SZcmgXyK8pWj"
      }
    },
    {
      "cell_type": "code",
      "source": [
        "model.save_weights('model-weights.h5')"
      ],
      "metadata": {
        "id": "D3w5M2Ja8xtg"
      },
      "execution_count": 27,
      "outputs": []
    },
    {
      "cell_type": "code",
      "source": [
        "model.save('model-whole.h5')"
      ],
      "metadata": {
        "id": "vn88tMAS81U3"
      },
      "execution_count": 28,
      "outputs": []
    },
    {
      "cell_type": "markdown",
      "source": [
        "## 모델 불러오기"
      ],
      "metadata": {
        "id": "bBjgI8TO9B4n"
      }
    },
    {
      "cell_type": "code",
      "source": [
        "model2 = keras.models.load_model('model-whole.h5')\n",
        "model2.evaluate(val_scaled, val_target)"
      ],
      "metadata": {
        "colab": {
          "base_uri": "https://localhost:8080/"
        },
        "id": "cpm6Hp049C76",
        "outputId": "5dde164b-3af5-4848-dacf-f2f040c136e0"
      },
      "execution_count": 29,
      "outputs": [
        {
          "output_type": "stream",
          "name": "stdout",
          "text": [
            "375/375 [==============================] - 1s 3ms/step - loss: 0.3223 - accuracy: 0.8885\n"
          ]
        },
        {
          "output_type": "execute_result",
          "data": {
            "text/plain": [
              "[0.32233932614326477, 0.8884999752044678]"
            ]
          },
          "metadata": {},
          "execution_count": 29
        }
      ]
    },
    {
      "cell_type": "code",
      "source": [
        "model.evaluate(val_scaled, val_target)"
      ],
      "metadata": {
        "colab": {
          "base_uri": "https://localhost:8080/"
        },
        "id": "1JlZT4ki9LLP",
        "outputId": "5c0afef6-259a-420b-9902-f392a893a4a1"
      },
      "execution_count": 30,
      "outputs": [
        {
          "output_type": "stream",
          "name": "stdout",
          "text": [
            "375/375 [==============================] - 1s 2ms/step - loss: 0.3223 - accuracy: 0.8885\n"
          ]
        },
        {
          "output_type": "execute_result",
          "data": {
            "text/plain": [
              "[0.32233932614326477, 0.8884999752044678]"
            ]
          },
          "metadata": {},
          "execution_count": 30
        }
      ]
    }
  ]
}