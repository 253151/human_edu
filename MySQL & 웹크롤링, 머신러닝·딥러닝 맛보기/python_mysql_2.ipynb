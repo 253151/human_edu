{
 "cells": [
  {
   "cell_type": "code",
   "execution_count": 1,
   "id": "8bc89cb4",
   "metadata": {},
   "outputs": [
    {
     "ename": "ModuleNotFoundError",
     "evalue": "No module named 'pandas'",
     "output_type": "error",
     "traceback": [
      "\u001b[1;31m---------------------------------------------------------------------------\u001b[0m",
      "\u001b[1;31mModuleNotFoundError\u001b[0m                       Traceback (most recent call last)",
      "Cell \u001b[1;32mIn[1], line 1\u001b[0m\n\u001b[1;32m----> 1\u001b[0m \u001b[38;5;28;01mimport\u001b[39;00m \u001b[38;5;21;01mpandas\u001b[39;00m \u001b[38;5;28;01mas\u001b[39;00m \u001b[38;5;21;01mpd\u001b[39;00m\n\u001b[0;32m      2\u001b[0m \u001b[38;5;28;01mimport\u001b[39;00m \u001b[38;5;21;01mMySQLdb\u001b[39;00m\n",
      "\u001b[1;31mModuleNotFoundError\u001b[0m: No module named 'pandas'"
     ]
    }
   ],
   "source": [
    "import pandas as pd\n",
    "import MySQLdb"
   ]
  },
  {
   "cell_type": "code",
   "execution_count": 7,
   "id": "790a5eb6",
   "metadata": {},
   "outputs": [],
   "source": [
    "import warnings\n",
    "warnings.filterwarnings(action='ignore') "
   ]
  },
  {
   "cell_type": "code",
   "execution_count": null,
   "id": "43006353",
   "metadata": {},
   "outputs": [],
   "source": []
  },
  {
   "cell_type": "code",
   "execution_count": 3,
   "id": "76182501",
   "metadata": {
    "collapsed": true
   },
   "outputs": [
    {
     "data": {
      "text/html": [
       "<div>\n",
       "<style scoped>\n",
       "    .dataframe tbody tr th:only-of-type {\n",
       "        vertical-align: middle;\n",
       "    }\n",
       "\n",
       "    .dataframe tbody tr th {\n",
       "        vertical-align: top;\n",
       "    }\n",
       "\n",
       "    .dataframe thead th {\n",
       "        text-align: right;\n",
       "    }\n",
       "</style>\n",
       "<table border=\"1\" class=\"dataframe\">\n",
       "  <thead>\n",
       "    <tr style=\"text-align: right;\">\n",
       "      <th></th>\n",
       "      <th>Unnamed: 0</th>\n",
       "      <th>매물번호</th>\n",
       "      <th>연락처</th>\n",
       "      <th>주소</th>\n",
       "      <th>부동산</th>\n",
       "      <th>보증금</th>\n",
       "      <th>월세</th>\n",
       "    </tr>\n",
       "  </thead>\n",
       "  <tbody>\n",
       "    <tr>\n",
       "      <th>0</th>\n",
       "      <td>0</td>\n",
       "      <td>3467204.0</td>\n",
       "      <td>010-123-4567</td>\n",
       "      <td>서울시 강남구 역삼동 0</td>\n",
       "      <td>TODAY공인중개사(이인규)</td>\n",
       "      <td>1000.0</td>\n",
       "      <td>100.0</td>\n",
       "    </tr>\n",
       "    <tr>\n",
       "      <th>1</th>\n",
       "      <td>1</td>\n",
       "      <td>3150497.0</td>\n",
       "      <td>010-123-4567</td>\n",
       "      <td>서울시 강남구 역삼동 1</td>\n",
       "      <td>TODAY공인중개사(이인규)</td>\n",
       "      <td>11000.0</td>\n",
       "      <td>60.0</td>\n",
       "    </tr>\n",
       "    <tr>\n",
       "      <th>2</th>\n",
       "      <td>2</td>\n",
       "      <td>3440906.0</td>\n",
       "      <td>010-123-4567</td>\n",
       "      <td>서울시 강남구 역삼동 2</td>\n",
       "      <td>열린공인중개사(강광수)</td>\n",
       "      <td>5000.0</td>\n",
       "      <td>65.0</td>\n",
       "    </tr>\n",
       "    <tr>\n",
       "      <th>3</th>\n",
       "      <td>3</td>\n",
       "      <td>3376834.0</td>\n",
       "      <td>010-123-4567</td>\n",
       "      <td>서울시 강남구 역삼동 3</td>\n",
       "      <td>미래공인중개사(김유철)</td>\n",
       "      <td>3000.0</td>\n",
       "      <td>95.0</td>\n",
       "    </tr>\n",
       "    <tr>\n",
       "      <th>4</th>\n",
       "      <td>4</td>\n",
       "      <td>3331511.0</td>\n",
       "      <td>010-123-4567</td>\n",
       "      <td>서울시 강남구 역삼동 4</td>\n",
       "      <td>한백부동산공인중개사(김남조)</td>\n",
       "      <td>110.0</td>\n",
       "      <td>110.0</td>\n",
       "    </tr>\n",
       "  </tbody>\n",
       "</table>\n",
       "</div>"
      ],
      "text/plain": [
       "   Unnamed: 0       매물번호           연락처             주소              부동산  \\\n",
       "0           0  3467204.0  010-123-4567  서울시 강남구 역삼동 0  TODAY공인중개사(이인규)   \n",
       "1           1  3150497.0  010-123-4567  서울시 강남구 역삼동 1  TODAY공인중개사(이인규)   \n",
       "2           2  3440906.0  010-123-4567  서울시 강남구 역삼동 2     열린공인중개사(강광수)   \n",
       "3           3  3376834.0  010-123-4567  서울시 강남구 역삼동 3     미래공인중개사(김유철)   \n",
       "4           4  3331511.0  010-123-4567  서울시 강남구 역삼동 4  한백부동산공인중개사(김남조)   \n",
       "\n",
       "       보증금     월세  \n",
       "0   1000.0  100.0  \n",
       "1  11000.0   60.0  \n",
       "2   5000.0   65.0  \n",
       "3   3000.0   95.0  \n",
       "4    110.0  110.0  "
      ]
     },
     "execution_count": 3,
     "metadata": {},
     "output_type": "execute_result"
    }
   ],
   "source": [
    "df = pd.read_csv('budongsan.csv')\n",
    "df.head()"
   ]
  },
  {
   "cell_type": "code",
   "execution_count": 4,
   "id": "3ae8e66c",
   "metadata": {},
   "outputs": [],
   "source": [
    "db = MySQLdb.connect('localhost', 'root', '1234', charset='utf8')"
   ]
  },
  {
   "cell_type": "code",
   "execution_count": 5,
   "id": "ebd847b6",
   "metadata": {},
   "outputs": [],
   "source": [
    "cursor = db.cursor()"
   ]
  },
  {
   "cell_type": "code",
   "execution_count": null,
   "id": "c7d28b8f",
   "metadata": {},
   "outputs": [],
   "source": []
  },
  {
   "cell_type": "code",
   "execution_count": 10,
   "id": "7af2aa1c",
   "metadata": {
    "collapsed": true
   },
   "outputs": [
    {
     "data": {
      "text/html": [
       "<div>\n",
       "<style scoped>\n",
       "    .dataframe tbody tr th:only-of-type {\n",
       "        vertical-align: middle;\n",
       "    }\n",
       "\n",
       "    .dataframe tbody tr th {\n",
       "        vertical-align: top;\n",
       "    }\n",
       "\n",
       "    .dataframe thead th {\n",
       "        text-align: right;\n",
       "    }\n",
       "</style>\n",
       "<table border=\"1\" class=\"dataframe\">\n",
       "  <thead>\n",
       "    <tr style=\"text-align: right;\">\n",
       "      <th></th>\n",
       "      <th>Database</th>\n",
       "    </tr>\n",
       "  </thead>\n",
       "  <tbody>\n",
       "    <tr>\n",
       "      <th>0</th>\n",
       "      <td>information_schema</td>\n",
       "    </tr>\n",
       "    <tr>\n",
       "      <th>1</th>\n",
       "      <td>budongsan</td>\n",
       "    </tr>\n",
       "    <tr>\n",
       "      <th>2</th>\n",
       "      <td>employees</td>\n",
       "    </tr>\n",
       "    <tr>\n",
       "      <th>3</th>\n",
       "      <td>mysql</td>\n",
       "    </tr>\n",
       "    <tr>\n",
       "      <th>4</th>\n",
       "      <td>performance_schema</td>\n",
       "    </tr>\n",
       "    <tr>\n",
       "      <th>5</th>\n",
       "      <td>sakila</td>\n",
       "    </tr>\n",
       "    <tr>\n",
       "      <th>6</th>\n",
       "      <td>shopdb</td>\n",
       "    </tr>\n",
       "    <tr>\n",
       "      <th>7</th>\n",
       "      <td>sqldb</td>\n",
       "    </tr>\n",
       "    <tr>\n",
       "      <th>8</th>\n",
       "      <td>sys</td>\n",
       "    </tr>\n",
       "    <tr>\n",
       "      <th>9</th>\n",
       "      <td>testdb</td>\n",
       "    </tr>\n",
       "    <tr>\n",
       "      <th>10</th>\n",
       "      <td>world</td>\n",
       "    </tr>\n",
       "  </tbody>\n",
       "</table>\n",
       "</div>"
      ],
      "text/plain": [
       "              Database\n",
       "0   information_schema\n",
       "1            budongsan\n",
       "2            employees\n",
       "3                mysql\n",
       "4   performance_schema\n",
       "5               sakila\n",
       "6               shopdb\n",
       "7                sqldb\n",
       "8                  sys\n",
       "9               testdb\n",
       "10               world"
      ]
     },
     "execution_count": 10,
     "metadata": {},
     "output_type": "execute_result"
    }
   ],
   "source": [
    "sql = '''\n",
    "show databases;\n",
    "'''\n",
    "\n",
    "pd.read_sql(sql, db)"
   ]
  },
  {
   "cell_type": "code",
   "execution_count": null,
   "id": "5e2b5c18",
   "metadata": {},
   "outputs": [],
   "source": []
  },
  {
   "cell_type": "code",
   "execution_count": 9,
   "id": "53bc7711",
   "metadata": {
    "collapsed": true
   },
   "outputs": [
    {
     "data": {
      "text/plain": [
       "1"
      ]
     },
     "execution_count": 9,
     "metadata": {},
     "output_type": "execute_result"
    }
   ],
   "source": [
    "sql = \"\"\"\n",
    "create database if not exists budongsan;\n",
    "\"\"\"\n",
    "\n",
    "cursor.execute(sql)"
   ]
  },
  {
   "cell_type": "code",
   "execution_count": null,
   "id": "c9e0cde5",
   "metadata": {},
   "outputs": [],
   "source": []
  },
  {
   "cell_type": "code",
   "execution_count": 11,
   "id": "798edbd3",
   "metadata": {},
   "outputs": [
    {
     "data": {
      "text/plain": [
       "0"
      ]
     },
     "execution_count": 11,
     "metadata": {},
     "output_type": "execute_result"
    }
   ],
   "source": [
    "sql = '''\n",
    "use budongsan;\n",
    "'''\n",
    "cursor.execute(sql)"
   ]
  },
  {
   "cell_type": "code",
   "execution_count": null,
   "id": "7d0f0cec",
   "metadata": {},
   "outputs": [],
   "source": []
  },
  {
   "cell_type": "code",
   "execution_count": 12,
   "id": "85636fee",
   "metadata": {},
   "outputs": [
    {
     "data": {
      "text/html": [
       "<div>\n",
       "<style scoped>\n",
       "    .dataframe tbody tr th:only-of-type {\n",
       "        vertical-align: middle;\n",
       "    }\n",
       "\n",
       "    .dataframe tbody tr th {\n",
       "        vertical-align: top;\n",
       "    }\n",
       "\n",
       "    .dataframe thead th {\n",
       "        text-align: right;\n",
       "    }\n",
       "</style>\n",
       "<table border=\"1\" class=\"dataframe\">\n",
       "  <thead>\n",
       "    <tr style=\"text-align: right;\">\n",
       "      <th></th>\n",
       "      <th>Tables_in_budongsan</th>\n",
       "    </tr>\n",
       "  </thead>\n",
       "  <tbody>\n",
       "  </tbody>\n",
       "</table>\n",
       "</div>"
      ],
      "text/plain": [
       "Empty DataFrame\n",
       "Columns: [Tables_in_budongsan]\n",
       "Index: []"
      ]
     },
     "execution_count": 12,
     "metadata": {},
     "output_type": "execute_result"
    }
   ],
   "source": [
    "sql = '''\n",
    "show tables;\n",
    "'''\n",
    "\n",
    "pd.read_sql(sql, db)"
   ]
  },
  {
   "cell_type": "code",
   "execution_count": null,
   "id": "ef50a01d",
   "metadata": {},
   "outputs": [],
   "source": []
  },
  {
   "cell_type": "code",
   "execution_count": 14,
   "id": "5441dfc8",
   "metadata": {},
   "outputs": [
    {
     "data": {
      "text/plain": [
       "0"
      ]
     },
     "execution_count": 14,
     "metadata": {},
     "output_type": "execute_result"
    }
   ],
   "source": [
    "sql = '''\n",
    "create table if not exists provider (\n",
    "provider_id int primary key,\n",
    "name varchar(255)\n",
    ");\n",
    "'''\n",
    "\n",
    "cursor.execute(sql)"
   ]
  },
  {
   "cell_type": "code",
   "execution_count": null,
   "id": "abf1a124",
   "metadata": {},
   "outputs": [],
   "source": []
  },
  {
   "cell_type": "code",
   "execution_count": 20,
   "id": "26937124",
   "metadata": {
    "collapsed": true
   },
   "outputs": [
    {
     "data": {
      "text/plain": [
       "1"
      ]
     },
     "execution_count": 20,
     "metadata": {},
     "output_type": "execute_result"
    }
   ],
   "source": [
    "sql = '''\n",
    "insert into provider values (2, '우리부동산');\n",
    "insert into provider values (3, '현대부동산');\n",
    "\n",
    "insert into provider values (4, '휴먼부동산');\n",
    "insert into provider values (5, '미래부동산');\n",
    "'''\n",
    "\n",
    "cursor.execute(sql)"
   ]
  },
  {
   "cell_type": "code",
   "execution_count": 21,
   "id": "a199d389",
   "metadata": {
    "collapsed": true
   },
   "outputs": [
    {
     "data": {
      "text/html": [
       "<div>\n",
       "<style scoped>\n",
       "    .dataframe tbody tr th:only-of-type {\n",
       "        vertical-align: middle;\n",
       "    }\n",
       "\n",
       "    .dataframe tbody tr th {\n",
       "        vertical-align: top;\n",
       "    }\n",
       "\n",
       "    .dataframe thead th {\n",
       "        text-align: right;\n",
       "    }\n",
       "</style>\n",
       "<table border=\"1\" class=\"dataframe\">\n",
       "  <thead>\n",
       "    <tr style=\"text-align: right;\">\n",
       "      <th></th>\n",
       "      <th>provider_id</th>\n",
       "      <th>name</th>\n",
       "    </tr>\n",
       "  </thead>\n",
       "  <tbody>\n",
       "    <tr>\n",
       "      <th>0</th>\n",
       "      <td>2</td>\n",
       "      <td>우리부동산</td>\n",
       "    </tr>\n",
       "    <tr>\n",
       "      <th>1</th>\n",
       "      <td>3</td>\n",
       "      <td>현대부동산</td>\n",
       "    </tr>\n",
       "    <tr>\n",
       "      <th>2</th>\n",
       "      <td>4</td>\n",
       "      <td>휴먼부동산</td>\n",
       "    </tr>\n",
       "    <tr>\n",
       "      <th>3</th>\n",
       "      <td>5</td>\n",
       "      <td>미래부동산</td>\n",
       "    </tr>\n",
       "  </tbody>\n",
       "</table>\n",
       "</div>"
      ],
      "text/plain": [
       "   provider_id   name\n",
       "0            2  우리부동산\n",
       "1            3  현대부동산\n",
       "2            4  휴먼부동산\n",
       "3            5  미래부동산"
      ]
     },
     "execution_count": 21,
     "metadata": {},
     "output_type": "execute_result"
    }
   ],
   "source": [
    "sql = 'select * from provider;'\n",
    "\n",
    "pd.read_sql(sql, db)"
   ]
  },
  {
   "cell_type": "code",
   "execution_count": null,
   "id": "2f99ce5a",
   "metadata": {},
   "outputs": [],
   "source": []
  },
  {
   "cell_type": "code",
   "execution_count": 25,
   "id": "bc419290",
   "metadata": {
    "scrolled": false
   },
   "outputs": [
    {
     "data": {
      "text/html": [
       "<div>\n",
       "<style scoped>\n",
       "    .dataframe tbody tr th:only-of-type {\n",
       "        vertical-align: middle;\n",
       "    }\n",
       "\n",
       "    .dataframe tbody tr th {\n",
       "        vertical-align: top;\n",
       "    }\n",
       "\n",
       "    .dataframe thead th {\n",
       "        text-align: right;\n",
       "    }\n",
       "</style>\n",
       "<table border=\"1\" class=\"dataframe\">\n",
       "  <thead>\n",
       "    <tr style=\"text-align: right;\">\n",
       "      <th></th>\n",
       "      <th>매물번호</th>\n",
       "      <th>연락처</th>\n",
       "      <th>주소</th>\n",
       "      <th>부동산</th>\n",
       "      <th>보증금</th>\n",
       "      <th>월세</th>\n",
       "    </tr>\n",
       "  </thead>\n",
       "  <tbody>\n",
       "    <tr>\n",
       "      <th>0</th>\n",
       "      <td>3467204.0</td>\n",
       "      <td>010-123-4567</td>\n",
       "      <td>서울시 강남구 역삼동 0</td>\n",
       "      <td>TODAY공인중개사(이인규)</td>\n",
       "      <td>1000.0</td>\n",
       "      <td>100.0</td>\n",
       "    </tr>\n",
       "    <tr>\n",
       "      <th>1</th>\n",
       "      <td>3150497.0</td>\n",
       "      <td>010-123-4567</td>\n",
       "      <td>서울시 강남구 역삼동 1</td>\n",
       "      <td>TODAY공인중개사(이인규)</td>\n",
       "      <td>11000.0</td>\n",
       "      <td>60.0</td>\n",
       "    </tr>\n",
       "    <tr>\n",
       "      <th>2</th>\n",
       "      <td>3440906.0</td>\n",
       "      <td>010-123-4567</td>\n",
       "      <td>서울시 강남구 역삼동 2</td>\n",
       "      <td>열린공인중개사(강광수)</td>\n",
       "      <td>5000.0</td>\n",
       "      <td>65.0</td>\n",
       "    </tr>\n",
       "    <tr>\n",
       "      <th>3</th>\n",
       "      <td>3376834.0</td>\n",
       "      <td>010-123-4567</td>\n",
       "      <td>서울시 강남구 역삼동 3</td>\n",
       "      <td>미래공인중개사(김유철)</td>\n",
       "      <td>3000.0</td>\n",
       "      <td>95.0</td>\n",
       "    </tr>\n",
       "    <tr>\n",
       "      <th>4</th>\n",
       "      <td>3331511.0</td>\n",
       "      <td>010-123-4567</td>\n",
       "      <td>서울시 강남구 역삼동 4</td>\n",
       "      <td>한백부동산공인중개사(김남조)</td>\n",
       "      <td>110.0</td>\n",
       "      <td>110.0</td>\n",
       "    </tr>\n",
       "  </tbody>\n",
       "</table>\n",
       "</div>"
      ],
      "text/plain": [
       "        매물번호           연락처             주소              부동산      보증금     월세\n",
       "0  3467204.0  010-123-4567  서울시 강남구 역삼동 0  TODAY공인중개사(이인규)   1000.0  100.0\n",
       "1  3150497.0  010-123-4567  서울시 강남구 역삼동 1  TODAY공인중개사(이인규)  11000.0   60.0\n",
       "2  3440906.0  010-123-4567  서울시 강남구 역삼동 2     열린공인중개사(강광수)   5000.0   65.0\n",
       "3  3376834.0  010-123-4567  서울시 강남구 역삼동 3     미래공인중개사(김유철)   3000.0   95.0\n",
       "4  3331511.0  010-123-4567  서울시 강남구 역삼동 4  한백부동산공인중개사(김남조)    110.0  110.0"
      ]
     },
     "execution_count": 25,
     "metadata": {},
     "output_type": "execute_result"
    }
   ],
   "source": [
    "df_db = pd.read_csv('budongsan.csv', index_col=0)\n",
    "df_db.head()"
   ]
  },
  {
   "cell_type": "code",
   "execution_count": null,
   "id": "5cf9c17c",
   "metadata": {},
   "outputs": [],
   "source": []
  },
  {
   "cell_type": "code",
   "execution_count": 29,
   "id": "93563d91",
   "metadata": {},
   "outputs": [
    {
     "data": {
      "text/plain": [
       "0"
      ]
     },
     "execution_count": 29,
     "metadata": {},
     "output_type": "execute_result"
    }
   ],
   "source": [
    "sql = \"\"\"\n",
    "create table if not exists agency (\n",
    "prd_no int primary key,\n",
    "phone char(12) not null,\n",
    "addr varchar(20),\n",
    "b_agency varchar(30),\n",
    "deposit int,\n",
    "rent int);\n",
    "\"\"\"\n",
    "\n",
    "cursor.execute(sql)"
   ]
  },
  {
   "cell_type": "code",
   "execution_count": 30,
   "id": "158aa4ca",
   "metadata": {
    "collapsed": true
   },
   "outputs": [
    {
     "data": {
      "text/html": [
       "<div>\n",
       "<style scoped>\n",
       "    .dataframe tbody tr th:only-of-type {\n",
       "        vertical-align: middle;\n",
       "    }\n",
       "\n",
       "    .dataframe tbody tr th {\n",
       "        vertical-align: top;\n",
       "    }\n",
       "\n",
       "    .dataframe thead th {\n",
       "        text-align: right;\n",
       "    }\n",
       "</style>\n",
       "<table border=\"1\" class=\"dataframe\">\n",
       "  <thead>\n",
       "    <tr style=\"text-align: right;\">\n",
       "      <th></th>\n",
       "      <th>Tables_in_budongsan</th>\n",
       "    </tr>\n",
       "  </thead>\n",
       "  <tbody>\n",
       "    <tr>\n",
       "      <th>0</th>\n",
       "      <td>agency</td>\n",
       "    </tr>\n",
       "    <tr>\n",
       "      <th>1</th>\n",
       "      <td>provider</td>\n",
       "    </tr>\n",
       "  </tbody>\n",
       "</table>\n",
       "</div>"
      ],
      "text/plain": [
       "  Tables_in_budongsan\n",
       "0              agency\n",
       "1            provider"
      ]
     },
     "execution_count": 30,
     "metadata": {},
     "output_type": "execute_result"
    }
   ],
   "source": [
    "sql = 'show tables;'\n",
    "pd.read_sql(sql, db)"
   ]
  },
  {
   "cell_type": "code",
   "execution_count": null,
   "id": "6abe4df1",
   "metadata": {},
   "outputs": [],
   "source": []
  },
  {
   "cell_type": "code",
   "execution_count": 32,
   "id": "0492bb29",
   "metadata": {
    "collapsed": true
   },
   "outputs": [
    {
     "name": "stdout",
     "output_type": "stream",
     "text": [
      "매물번호          3467204.0\n",
      "연락처        010-123-4567\n",
      "주소        서울시 강남구 역삼동 0\n",
      "부동산     TODAY공인중개사(이인규)\n",
      "보증금              1000.0\n",
      "월세                100.0\n",
      "Name: 0, dtype: object\n",
      "매물번호          3150497.0\n",
      "연락처        010-123-4567\n",
      "주소        서울시 강남구 역삼동 1\n",
      "부동산     TODAY공인중개사(이인규)\n",
      "보증금             11000.0\n",
      "월세                 60.0\n",
      "Name: 1, dtype: object\n",
      "매물번호        3440906.0\n",
      "연락처      010-123-4567\n",
      "주소      서울시 강남구 역삼동 2\n",
      "부동산      열린공인중개사(강광수)\n",
      "보증금            5000.0\n",
      "월세               65.0\n",
      "Name: 2, dtype: object\n",
      "매물번호        3376834.0\n",
      "연락처      010-123-4567\n",
      "주소      서울시 강남구 역삼동 3\n",
      "부동산      미래공인중개사(김유철)\n",
      "보증금            3000.0\n",
      "월세               95.0\n",
      "Name: 3, dtype: object\n",
      "매물번호          3331511.0\n",
      "연락처        010-123-4567\n",
      "주소        서울시 강남구 역삼동 4\n",
      "부동산     한백부동산공인중개사(김남조)\n",
      "보증금               110.0\n",
      "월세                110.0\n",
      "Name: 4, dtype: object\n",
      "매물번호          3373198.0\n",
      "연락처        010-123-4567\n",
      "주소        서울시 강남구 역삼동 5\n",
      "부동산     강남코리아공인중개사(기숙영)\n",
      "보증금             15000.0\n",
      "월세                 70.0\n",
      "Name: 5, dtype: object\n",
      "매물번호        3376434.0\n",
      "연락처      010-123-4567\n",
      "주소      서울시 강남구 역삼동 6\n",
      "부동산      열린공인중개사(강광수)\n",
      "보증금            1000.0\n",
      "월세               85.0\n",
      "Name: 6, dtype: object\n",
      "매물번호        3322860.0\n",
      "연락처      010-123-4567\n",
      "주소      서울시 강남구 역삼동 7\n",
      "부동산      한강공인중개사(김상헌)\n",
      "보증금            1000.0\n",
      "월세               80.0\n",
      "Name: 7, dtype: object\n",
      "매물번호        3303061.0\n",
      "연락처      010-123-4567\n",
      "주소      서울시 강남구 역삼동 8\n",
      "부동산      동하공인중개사(임성우)\n",
      "보증금            1000.0\n",
      "월세               60.0\n",
      "Name: 8, dtype: object\n",
      "매물번호        3262172.0\n",
      "연락처      010-123-4567\n",
      "주소      서울시 강남구 역삼동 9\n",
      "부동산      스타공인중개사(박정직)\n",
      "보증금            2000.0\n",
      "월세               50.0\n",
      "Name: 9, dtype: object\n",
      "매물번호         3228631.0\n",
      "연락처       010-123-4567\n",
      "주소      서울시 강남구 역삼동 10\n",
      "부동산     HS강남공인중개사(김현수)\n",
      "보증금             1000.0\n",
      "월세                96.0\n",
      "Name: 10, dtype: object\n",
      "매물번호         3505011.0\n",
      "연락처       010-123-4567\n",
      "주소      서울시 강남구 역삼동 11\n",
      "부동산        H공인중개사(김용만)\n",
      "보증금            15000.0\n",
      "월세                70.0\n",
      "Name: 11, dtype: object\n",
      "매물번호         3249401.0\n",
      "연락처       010-123-4567\n",
      "주소      서울시 강남구 역삼동 12\n",
      "부동산       도원공인중개사(손석진)\n",
      "보증금               65.0\n",
      "월세                65.0\n",
      "Name: 12, dtype: object\n",
      "매물번호         3330951.0\n",
      "연락처       010-123-4567\n",
      "주소      서울시 강남구 역삼동 13\n",
      "부동산     강남우리공인중개사(어정화)\n",
      "보증금             2000.0\n",
      "월세               150.0\n",
      "Name: 13, dtype: object\n",
      "매물번호         3494055.0\n",
      "연락처       010-123-4567\n",
      "주소      서울시 강남구 역삼동 14\n",
      "부동산       청록공인중개사(하순자)\n",
      "보증금             3000.0\n",
      "월세                60.0\n",
      "Name: 14, dtype: object\n",
      "매물번호         3317227.0\n",
      "연락처       010-123-4567\n",
      "주소      서울시 강남구 역삼동 15\n",
      "부동산      커피한잔공인중개사(손별)\n",
      "보증금              500.0\n",
      "월세                67.0\n",
      "Name: 15, dtype: object\n",
      "매물번호          3405679.0\n",
      "연락처        010-123-4567\n",
      "주소       서울시 강남구 역삼동 16\n",
      "부동산     강남코리아공인중개사(기숙영)\n",
      "보증금             15000.0\n",
      "월세                 60.0\n",
      "Name: 16, dtype: object\n",
      "매물번호          3103384.0\n",
      "연락처        010-123-4567\n",
      "주소       서울시 강남구 역삼동 17\n",
      "부동산     TODAY공인중개사(이인규)\n",
      "보증금              5000.0\n",
      "월세                 50.0\n",
      "Name: 17, dtype: object\n",
      "매물번호         3418616.0\n",
      "연락처       010-123-4567\n",
      "주소      서울시 강남구 역삼동 18\n",
      "부동산       나무공인중개사(조민영)\n",
      "보증금               90.0\n",
      "월세                90.0\n",
      "Name: 18, dtype: object\n",
      "매물번호         3456814.0\n",
      "연락처       010-123-4567\n",
      "주소      서울시 강남구 역삼동 19\n",
      "부동산       한강공인중개사(김상헌)\n",
      "보증금              300.0\n",
      "월세                80.0\n",
      "Name: 19, dtype: object\n",
      "매물번호          3181675.0\n",
      "연락처        010-123-4567\n",
      "주소       서울시 강남구 역삼동 20\n",
      "부동산     TODAY공인중개사(이인규)\n",
      "보증금              5000.0\n",
      "월세                 60.0\n",
      "Name: 20, dtype: object\n",
      "매물번호          3309372.0\n",
      "연락처        010-123-4567\n",
      "주소       서울시 강남구 역삼동 21\n",
      "부동산     한백부동산공인중개사(김남조)\n",
      "보증금                75.0\n",
      "월세                 75.0\n",
      "Name: 21, dtype: object\n",
      "매물번호          3501566.0\n",
      "연락처        010-123-4567\n",
      "주소       서울시 강남구 역삼동 22\n",
      "부동산     강남코리아공인중개사(기숙영)\n",
      "보증금              1000.0\n",
      "월세                 65.0\n",
      "Name: 22, dtype: object\n",
      "매물번호         3346510.0\n",
      "연락처       010-123-4567\n",
      "주소      서울시 강남구 역삼동 23\n",
      "부동산       도원공인중개사(손석진)\n",
      "보증금               65.0\n",
      "월세                65.0\n",
      "Name: 23, dtype: object\n",
      "매물번호          3406670.0\n",
      "연락처        010-123-4567\n",
      "주소       서울시 강남구 역삼동 24\n",
      "부동산     TODAY공인중개사(이인규)\n",
      "보증금              1000.0\n",
      "월세                 60.0\n",
      "Name: 24, dtype: object\n",
      "매물번호         3493254.0\n",
      "연락처       010-123-4567\n",
      "주소      서울시 강남구 역삼동 25\n",
      "부동산     아셈타운공인중개사(임현옥)\n",
      "보증금             7000.0\n",
      "월세               100.0\n",
      "Name: 25, dtype: object\n",
      "매물번호          3501607.0\n",
      "연락처        010-123-4567\n",
      "주소       서울시 강남구 역삼동 26\n",
      "부동산     강남코리아공인중개사(기숙영)\n",
      "보증금              2000.0\n",
      "월세                 63.0\n",
      "Name: 26, dtype: object\n",
      "매물번호         3484623.0\n",
      "연락처       010-123-4567\n",
      "주소      서울시 강남구 역삼동 27\n",
      "부동산       웰컴공인중개사(이영진)\n",
      "보증금             1000.0\n",
      "월세               120.0\n",
      "Name: 27, dtype: object\n",
      "매물번호         3190410.0\n",
      "연락처       010-123-4567\n",
      "주소      서울시 강남구 역삼동 28\n",
      "부동산       건우공인중개사(김상모)\n",
      "보증금               70.0\n",
      "월세                70.0\n",
      "Name: 28, dtype: object\n",
      "매물번호         3350050.0\n",
      "연락처       010-123-4567\n",
      "주소      서울시 강남구 역삼동 29\n",
      "부동산       NB공인중개사(길주현)\n",
      "보증금             1000.0\n",
      "월세                70.0\n",
      "Name: 29, dtype: object\n",
      "매물번호            3495453.0\n",
      "연락처          010-123-4567\n",
      "주소         서울시 강남구 역삼동 30\n",
      "부동산     부동산네트워크공인중개사(황창문)\n",
      "보증금                8000.0\n",
      "월세                   55.0\n",
      "Name: 30, dtype: object\n",
      "매물번호         3446619.0\n",
      "연락처       010-123-4567\n",
      "주소      서울시 강남구 역삼동 31\n",
      "부동산       도원공인중개사(손석진)\n",
      "보증금               68.0\n",
      "월세                68.0\n",
      "Name: 31, dtype: object\n",
      "매물번호         3451078.0\n",
      "연락처       010-123-4567\n",
      "주소      서울시 강남구 역삼동 32\n",
      "부동산       스타공인중개사(박정직)\n",
      "보증금             4000.0\n",
      "월세                40.0\n",
      "Name: 32, dtype: object\n",
      "매물번호         3345445.0\n",
      "연락처       010-123-4567\n",
      "주소      서울시 강남구 역삼동 33\n",
      "부동산       대청공인중개사(이선영)\n",
      "보증금            14000.0\n",
      "월세                70.0\n",
      "Name: 33, dtype: object\n",
      "매물번호          3332380.0\n",
      "연락처        010-123-4567\n",
      "주소       서울시 강남구 역삼동 34\n",
      "부동산     한백부동산공인중개사(김남조)\n",
      "보증금             10000.0\n",
      "월세                100.0\n",
      "Name: 34, dtype: object\n",
      "매물번호         3450803.0\n",
      "연락처       010-123-4567\n",
      "주소      서울시 강남구 역삼동 35\n",
      "부동산       스타공인중개사(박정직)\n",
      "보증금             6000.0\n",
      "월세                50.0\n",
      "Name: 35, dtype: object\n",
      "매물번호         3471049.0\n",
      "연락처       010-123-4567\n",
      "주소      서울시 강남구 역삼동 36\n",
      "부동산       정성공인중개사(정문식)\n",
      "보증금              100.0\n",
      "월세               100.0\n",
      "Name: 36, dtype: object\n",
      "매물번호          3438747.0\n",
      "연락처        010-123-4567\n",
      "주소       서울시 강남구 역삼동 37\n",
      "부동산     TODAY공인중개사(이인규)\n",
      "보증금              3000.0\n",
      "월세                100.0\n",
      "Name: 37, dtype: object\n",
      "매물번호         3330749.0\n",
      "연락처       010-123-4567\n",
      "주소      서울시 강남구 역삼동 38\n",
      "부동산       미래공인중개사(김유철)\n",
      "보증금             1000.0\n",
      "월세                85.0\n",
      "Name: 38, dtype: object\n",
      "매물번호          3446920.0\n",
      "연락처        010-123-4567\n",
      "주소       서울시 강남구 역삼동 39\n",
      "부동산     한백부동산공인중개사(김남조)\n",
      "보증금                75.0\n",
      "월세                 75.0\n",
      "Name: 39, dtype: object\n",
      "매물번호          3501554.0\n",
      "연락처        010-123-4567\n",
      "주소       서울시 강남구 역삼동 40\n",
      "부동산     강남코리아공인중개사(기숙영)\n",
      "보증금              1000.0\n",
      "월세                 63.0\n",
      "Name: 40, dtype: object\n",
      "매물번호         3435418.0\n",
      "연락처       010-123-4567\n",
      "주소      서울시 강남구 역삼동 41\n",
      "부동산      친절한공인중개사(김천호)\n",
      "보증금              500.0\n",
      "월세                65.0\n",
      "Name: 41, dtype: object\n",
      "매물번호          3501551.0\n",
      "연락처        010-123-4567\n",
      "주소       서울시 강남구 역삼동 42\n",
      "부동산     강남코리아공인중개사(기숙영)\n",
      "보증금              3000.0\n",
      "월세                 75.0\n",
      "Name: 42, dtype: object\n"
     ]
    }
   ],
   "source": [
    "for i in range(len(df_db)):\n",
    "    print(df_db.iloc[i])"
   ]
  },
  {
   "cell_type": "code",
   "execution_count": null,
   "id": "96adebdc",
   "metadata": {},
   "outputs": [],
   "source": []
  },
  {
   "cell_type": "code",
   "execution_count": 40,
   "id": "f137fd86",
   "metadata": {
    "collapsed": true
   },
   "outputs": [
    {
     "data": {
      "text/plain": [
       "매물번호          3467204.0\n",
       "연락처        010-123-4567\n",
       "주소        서울시 강남구 역삼동 0\n",
       "부동산     TODAY공인중개사(이인규)\n",
       "보증금              1000.0\n",
       "월세                100.0\n",
       "Name: 0, dtype: object"
      ]
     },
     "execution_count": 40,
     "metadata": {},
     "output_type": "execute_result"
    }
   ],
   "source": [
    "s = df_db.iloc[0]\n",
    "s"
   ]
  },
  {
   "cell_type": "code",
   "execution_count": 42,
   "id": "bff35cf2",
   "metadata": {
    "collapsed": true
   },
   "outputs": [
    {
     "data": {
      "text/plain": [
       "3467204.0"
      ]
     },
     "execution_count": 42,
     "metadata": {},
     "output_type": "execute_result"
    }
   ],
   "source": [
    "s.iloc[0]"
   ]
  },
  {
   "cell_type": "code",
   "execution_count": 44,
   "id": "6bb2a1a3",
   "metadata": {
    "collapsed": true
   },
   "outputs": [
    {
     "data": {
      "text/plain": [
       "1"
      ]
     },
     "execution_count": 44,
     "metadata": {},
     "output_type": "execute_result"
    }
   ],
   "source": [
    "sql = \"insert into agency values({}, '{}', '{}', '{}', {}, {});\"\\\n",
    ".format(s.iloc[0], s.iloc[1], s.iloc[2], s.iloc[3], s.iloc[4], s.iloc[5])\n",
    "\n",
    "cursor.execute(sql)"
   ]
  },
  {
   "cell_type": "code",
   "execution_count": 45,
   "id": "ddc88f77",
   "metadata": {
    "collapsed": true
   },
   "outputs": [
    {
     "data": {
      "text/html": [
       "<div>\n",
       "<style scoped>\n",
       "    .dataframe tbody tr th:only-of-type {\n",
       "        vertical-align: middle;\n",
       "    }\n",
       "\n",
       "    .dataframe tbody tr th {\n",
       "        vertical-align: top;\n",
       "    }\n",
       "\n",
       "    .dataframe thead th {\n",
       "        text-align: right;\n",
       "    }\n",
       "</style>\n",
       "<table border=\"1\" class=\"dataframe\">\n",
       "  <thead>\n",
       "    <tr style=\"text-align: right;\">\n",
       "      <th></th>\n",
       "      <th>prd_no</th>\n",
       "      <th>phone</th>\n",
       "      <th>addr</th>\n",
       "      <th>b_agency</th>\n",
       "      <th>deposit</th>\n",
       "      <th>rent</th>\n",
       "    </tr>\n",
       "  </thead>\n",
       "  <tbody>\n",
       "    <tr>\n",
       "      <th>0</th>\n",
       "      <td>3467204</td>\n",
       "      <td>010-123-4567</td>\n",
       "      <td>서울시 강남구 역삼동 0</td>\n",
       "      <td>TODAY공인중개사(이인규)</td>\n",
       "      <td>1000</td>\n",
       "      <td>100</td>\n",
       "    </tr>\n",
       "  </tbody>\n",
       "</table>\n",
       "</div>"
      ],
      "text/plain": [
       "    prd_no         phone           addr         b_agency  deposit  rent\n",
       "0  3467204  010-123-4567  서울시 강남구 역삼동 0  TODAY공인중개사(이인규)     1000   100"
      ]
     },
     "execution_count": 45,
     "metadata": {},
     "output_type": "execute_result"
    }
   ],
   "source": [
    "sql = 'select * from agency;'\n",
    "pd.read_sql(sql, db)"
   ]
  },
  {
   "cell_type": "code",
   "execution_count": null,
   "id": "0809b1d7",
   "metadata": {},
   "outputs": [],
   "source": []
  },
  {
   "cell_type": "code",
   "execution_count": 46,
   "id": "193a9630",
   "metadata": {},
   "outputs": [
    {
     "data": {
      "text/plain": [
       "1"
      ]
     },
     "execution_count": 46,
     "metadata": {},
     "output_type": "execute_result"
    }
   ],
   "source": [
    "sql = 'delete from agency'\n",
    "cursor.execute(sql)"
   ]
  },
  {
   "cell_type": "code",
   "execution_count": null,
   "id": "1738ee1f",
   "metadata": {},
   "outputs": [],
   "source": []
  },
  {
   "cell_type": "code",
   "execution_count": 47,
   "id": "65ddb001",
   "metadata": {},
   "outputs": [],
   "source": [
    "for i in range(len(df_db)):\n",
    "    \n",
    "    s = df_db.iloc[i]\n",
    "    \n",
    "    sql = \"insert into agency values({}, '{}', '{}', '{}', {}, {});\"\\\n",
    "    .format(s.iloc[0], s.iloc[1], s.iloc[2], s.iloc[3], s.iloc[4], s.iloc[5])\n",
    "    \n",
    "    cursor.execute(sql)"
   ]
  },
  {
   "cell_type": "code",
   "execution_count": null,
   "id": "81e23171",
   "metadata": {},
   "outputs": [],
   "source": []
  },
  {
   "cell_type": "code",
   "execution_count": 49,
   "id": "debd4806",
   "metadata": {},
   "outputs": [],
   "source": [
    "sql = \"select * from agency;\"\n",
    "df = pd.read_sql(sql, db)"
   ]
  },
  {
   "cell_type": "code",
   "execution_count": null,
   "id": "e2e6edcf",
   "metadata": {},
   "outputs": [],
   "source": []
  },
  {
   "cell_type": "code",
   "execution_count": 51,
   "id": "60217c6c",
   "metadata": {},
   "outputs": [],
   "source": [
    "df.to_csv('agency.csv')"
   ]
  },
  {
   "cell_type": "code",
   "execution_count": 52,
   "id": "0feda8ce",
   "metadata": {
    "collapsed": true
   },
   "outputs": [
    {
     "data": {
      "text/html": [
       "<div>\n",
       "<style scoped>\n",
       "    .dataframe tbody tr th:only-of-type {\n",
       "        vertical-align: middle;\n",
       "    }\n",
       "\n",
       "    .dataframe tbody tr th {\n",
       "        vertical-align: top;\n",
       "    }\n",
       "\n",
       "    .dataframe thead th {\n",
       "        text-align: right;\n",
       "    }\n",
       "</style>\n",
       "<table border=\"1\" class=\"dataframe\">\n",
       "  <thead>\n",
       "    <tr style=\"text-align: right;\">\n",
       "      <th></th>\n",
       "      <th>prd_no</th>\n",
       "      <th>phone</th>\n",
       "      <th>addr</th>\n",
       "      <th>b_agency</th>\n",
       "      <th>deposit</th>\n",
       "      <th>rent</th>\n",
       "    </tr>\n",
       "  </thead>\n",
       "  <tbody>\n",
       "    <tr>\n",
       "      <th>0</th>\n",
       "      <td>3103384</td>\n",
       "      <td>010-123-4567</td>\n",
       "      <td>서울시 강남구 역삼동 17</td>\n",
       "      <td>TODAY공인중개사(이인규)</td>\n",
       "      <td>5000</td>\n",
       "      <td>50</td>\n",
       "    </tr>\n",
       "    <tr>\n",
       "      <th>1</th>\n",
       "      <td>3150497</td>\n",
       "      <td>010-123-4567</td>\n",
       "      <td>서울시 강남구 역삼동 1</td>\n",
       "      <td>TODAY공인중개사(이인규)</td>\n",
       "      <td>11000</td>\n",
       "      <td>60</td>\n",
       "    </tr>\n",
       "    <tr>\n",
       "      <th>2</th>\n",
       "      <td>3181675</td>\n",
       "      <td>010-123-4567</td>\n",
       "      <td>서울시 강남구 역삼동 20</td>\n",
       "      <td>TODAY공인중개사(이인규)</td>\n",
       "      <td>5000</td>\n",
       "      <td>60</td>\n",
       "    </tr>\n",
       "    <tr>\n",
       "      <th>3</th>\n",
       "      <td>3190410</td>\n",
       "      <td>010-123-4567</td>\n",
       "      <td>서울시 강남구 역삼동 28</td>\n",
       "      <td>건우공인중개사(김상모)</td>\n",
       "      <td>70</td>\n",
       "      <td>70</td>\n",
       "    </tr>\n",
       "    <tr>\n",
       "      <th>4</th>\n",
       "      <td>3228631</td>\n",
       "      <td>010-123-4567</td>\n",
       "      <td>서울시 강남구 역삼동 10</td>\n",
       "      <td>HS강남공인중개사(김현수)</td>\n",
       "      <td>1000</td>\n",
       "      <td>96</td>\n",
       "    </tr>\n",
       "  </tbody>\n",
       "</table>\n",
       "</div>"
      ],
      "text/plain": [
       "    prd_no         phone            addr         b_agency  deposit  rent\n",
       "0  3103384  010-123-4567  서울시 강남구 역삼동 17  TODAY공인중개사(이인규)     5000    50\n",
       "1  3150497  010-123-4567   서울시 강남구 역삼동 1  TODAY공인중개사(이인규)    11000    60\n",
       "2  3181675  010-123-4567  서울시 강남구 역삼동 20  TODAY공인중개사(이인규)     5000    60\n",
       "3  3190410  010-123-4567  서울시 강남구 역삼동 28     건우공인중개사(김상모)       70    70\n",
       "4  3228631  010-123-4567  서울시 강남구 역삼동 10   HS강남공인중개사(김현수)     1000    96"
      ]
     },
     "execution_count": 52,
     "metadata": {},
     "output_type": "execute_result"
    }
   ],
   "source": [
    "df.head()"
   ]
  },
  {
   "cell_type": "code",
   "execution_count": 53,
   "id": "bec4fb7f",
   "metadata": {},
   "outputs": [
    {
     "data": {
      "text/plain": [
       "3512.046511627907"
      ]
     },
     "execution_count": 53,
     "metadata": {},
     "output_type": "execute_result"
    }
   ],
   "source": [
    "df.deposit.mean()"
   ]
  },
  {
   "cell_type": "code",
   "execution_count": 57,
   "id": "84a5a09e",
   "metadata": {},
   "outputs": [
    {
     "data": {
      "text/html": [
       "<div>\n",
       "<style scoped>\n",
       "    .dataframe tbody tr th:only-of-type {\n",
       "        vertical-align: middle;\n",
       "    }\n",
       "\n",
       "    .dataframe tbody tr th {\n",
       "        vertical-align: top;\n",
       "    }\n",
       "\n",
       "    .dataframe thead th {\n",
       "        text-align: right;\n",
       "    }\n",
       "</style>\n",
       "<table border=\"1\" class=\"dataframe\">\n",
       "  <thead>\n",
       "    <tr style=\"text-align: right;\">\n",
       "      <th></th>\n",
       "      <th>prd_no</th>\n",
       "      <th>phone</th>\n",
       "      <th>addr</th>\n",
       "      <th>b_agency</th>\n",
       "      <th>deposit</th>\n",
       "      <th>rent</th>\n",
       "    </tr>\n",
       "  </thead>\n",
       "  <tbody>\n",
       "    <tr>\n",
       "      <th>30</th>\n",
       "      <td>3451078</td>\n",
       "      <td>010-123-4567</td>\n",
       "      <td>서울시 강남구 역삼동 32</td>\n",
       "      <td>스타공인중개사(박정직)</td>\n",
       "      <td>4000</td>\n",
       "      <td>40</td>\n",
       "    </tr>\n",
       "  </tbody>\n",
       "</table>\n",
       "</div>"
      ],
      "text/plain": [
       "     prd_no         phone            addr      b_agency  deposit  rent\n",
       "30  3451078  010-123-4567  서울시 강남구 역삼동 32  스타공인중개사(박정직)     4000    40"
      ]
     },
     "execution_count": 57,
     "metadata": {},
     "output_type": "execute_result"
    }
   ],
   "source": [
    "df.sort_values('rent').head(1)"
   ]
  },
  {
   "cell_type": "code",
   "execution_count": null,
   "id": "058ee24a",
   "metadata": {},
   "outputs": [],
   "source": []
  }
 ],
 "metadata": {
  "kernelspec": {
   "display_name": "Python 3 (ipykernel)",
   "language": "python",
   "name": "python3"
  },
  "language_info": {
   "codemirror_mode": {
    "name": "ipython",
    "version": 3
   },
   "file_extension": ".py",
   "mimetype": "text/x-python",
   "name": "python",
   "nbconvert_exporter": "python",
   "pygments_lexer": "ipython3",
   "version": "3.11.1"
  }
 },
 "nbformat": 4,
 "nbformat_minor": 5
}
